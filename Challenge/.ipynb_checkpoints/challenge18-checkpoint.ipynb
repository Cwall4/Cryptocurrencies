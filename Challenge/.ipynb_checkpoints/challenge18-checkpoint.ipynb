{
 "cells": [
  {
   "cell_type": "code",
   "execution_count": 157,
   "metadata": {},
   "outputs": [],
   "source": [
    "import pandas as pd\n",
    "import numpy as np\n",
    "from sklearn.preprocessing import StandardScaler\n",
    "from sklearn.decomposition import PCA\n",
    "from sklearn.cluster import KMeans, AgglomerativeClustering\n",
    "import plotly.express as px\n",
    "import hvplot.pandas"
   ]
  },
  {
   "cell_type": "code",
   "execution_count": 158,
   "metadata": {},
   "outputs": [
    {
     "data": {
      "text/html": [
       "<div>\n",
       "<style scoped>\n",
       "    .dataframe tbody tr th:only-of-type {\n",
       "        vertical-align: middle;\n",
       "    }\n",
       "\n",
       "    .dataframe tbody tr th {\n",
       "        vertical-align: top;\n",
       "    }\n",
       "\n",
       "    .dataframe thead th {\n",
       "        text-align: right;\n",
       "    }\n",
       "</style>\n",
       "<table border=\"1\" class=\"dataframe\">\n",
       "  <thead>\n",
       "    <tr style=\"text-align: right;\">\n",
       "      <th></th>\n",
       "      <th>Unnamed: 0</th>\n",
       "      <th>CoinName</th>\n",
       "      <th>Algorithm</th>\n",
       "      <th>IsTrading</th>\n",
       "      <th>ProofType</th>\n",
       "      <th>TotalCoinsMined</th>\n",
       "      <th>TotalCoinSupply</th>\n",
       "    </tr>\n",
       "  </thead>\n",
       "  <tbody>\n",
       "    <tr>\n",
       "      <th>0</th>\n",
       "      <td>42</td>\n",
       "      <td>42 Coin</td>\n",
       "      <td>Scrypt</td>\n",
       "      <td>True</td>\n",
       "      <td>PoW/PoS</td>\n",
       "      <td>4.199995e+01</td>\n",
       "      <td>42</td>\n",
       "    </tr>\n",
       "    <tr>\n",
       "      <th>1</th>\n",
       "      <td>365</td>\n",
       "      <td>365Coin</td>\n",
       "      <td>X11</td>\n",
       "      <td>True</td>\n",
       "      <td>PoW/PoS</td>\n",
       "      <td>NaN</td>\n",
       "      <td>2300000000</td>\n",
       "    </tr>\n",
       "    <tr>\n",
       "      <th>2</th>\n",
       "      <td>404</td>\n",
       "      <td>404Coin</td>\n",
       "      <td>Scrypt</td>\n",
       "      <td>True</td>\n",
       "      <td>PoW/PoS</td>\n",
       "      <td>1.055185e+09</td>\n",
       "      <td>532000000</td>\n",
       "    </tr>\n",
       "    <tr>\n",
       "      <th>3</th>\n",
       "      <td>611</td>\n",
       "      <td>SixEleven</td>\n",
       "      <td>SHA-256</td>\n",
       "      <td>True</td>\n",
       "      <td>PoW</td>\n",
       "      <td>NaN</td>\n",
       "      <td>611000</td>\n",
       "    </tr>\n",
       "    <tr>\n",
       "      <th>4</th>\n",
       "      <td>808</td>\n",
       "      <td>808</td>\n",
       "      <td>SHA-256</td>\n",
       "      <td>True</td>\n",
       "      <td>PoW/PoS</td>\n",
       "      <td>0.000000e+00</td>\n",
       "      <td>0</td>\n",
       "    </tr>\n",
       "  </tbody>\n",
       "</table>\n",
       "</div>"
      ],
      "text/plain": [
       "  Unnamed: 0   CoinName Algorithm  IsTrading ProofType  TotalCoinsMined  \\\n",
       "0         42    42 Coin    Scrypt       True   PoW/PoS     4.199995e+01   \n",
       "1        365    365Coin       X11       True   PoW/PoS              NaN   \n",
       "2        404    404Coin    Scrypt       True   PoW/PoS     1.055185e+09   \n",
       "3        611  SixEleven   SHA-256       True       PoW              NaN   \n",
       "4        808        808   SHA-256       True   PoW/PoS     0.000000e+00   \n",
       "\n",
       "  TotalCoinSupply  \n",
       "0              42  \n",
       "1      2300000000  \n",
       "2       532000000  \n",
       "3          611000  \n",
       "4               0  "
      ]
     },
     "execution_count": 158,
     "metadata": {},
     "output_type": "execute_result"
    }
   ],
   "source": [
    "# Loading data\n",
    "file_path = \"crypto_data.csv\"\n",
    "crypto_df = pd.read_csv(file_path)\n",
    "crypto_df.head()"
   ]
  },
  {
   "cell_type": "code",
   "execution_count": 159,
   "metadata": {},
   "outputs": [],
   "source": [
    "# Data PreProcessing tasks:\n",
    "crypto_df_prep = crypto_df\n",
    "\n",
    "# It looks like the unnamed column with tickers should be set as the index.\n",
    "crypto_df_prep.rename(columns={'Unnamed: 0':''}, inplace=True)\n",
    "crypto_df_prep.set_index([''], inplace=True)\n",
    "\n",
    "# 1: Remove all cryptocurrencies that aren’t trading.\n",
    "trading_f_indices = crypto_df_prep[crypto_df_prep['IsTrading'] == False].index\n",
    "crypto_df_prep.drop(trading_f_indices, inplace=True)\n",
    "#crypto_df_prep['IsTrading'].describe()\n",
    "\n",
    "# 2: Remove all cryptocurrencies that don’t have an algorithm defined.\n",
    "# I interpreted this as dropping all rows where 'Algorithm' was 'Multiple', since we're also dropping nulls later.\n",
    "algo_f_indices = crypto_df_prep[crypto_df_prep['Algorithm'] == 'Multiple'].index\n",
    "crypto_df_prep.drop(algo_f_indices, inplace=True)\n",
    "#crypto_df_prep['Algorithm'].unique()\n",
    "#crypto_df_prep.head()\n",
    "\n",
    "# 3: Remove the IsTrading column.\n",
    "crypto_df_prep.drop(columns = ['IsTrading'], inplace=True)\n",
    "\n",
    "# 4: Remove all cryptocurrencies with at least one null value.\n",
    "crypto_df_prep.dropna()\n",
    "\n",
    "# 5: Remove all cryptocurrencies without coins mined.\n",
    "mined_f = (crypto_df_prep['TotalCoinsMined'] == 0) | (pd.isna(crypto_df_prep['TotalCoinsMined']))\n",
    "mined_f_indices = crypto_df_prep[mined_f].index\n",
    "crypto_df_prep.drop(mined_f_indices, inplace=True)\n",
    "#crypto_df_prep['TotalCoinsMined']\n",
    "#mined_f.describe()\n",
    "#crypto_df_prep.head()\n",
    "\n",
    "# 6: Store the names of all cryptocurrencies on a DataFramed named coins_name, and use the crypto_df.index as the index for this new DataFrame.\n",
    "coins_name = pd.DataFrame(crypto_df_prep['CoinName'], index = crypto_df.index)\n",
    "#coins_name.head()\n",
    "\n",
    "# 7: Remove the CoinName column.\n",
    "# I presume this is from the prepped crypto dataframe.\n",
    "crypto_df_prep.drop(columns = ['CoinName'], inplace=True)\n",
    "#crypto_df_prep.head()\n",
    "\n",
    "# 8: Create dummies variables for all of the text features, and store the resulting data on a DataFrame named X.\n",
    "X = pd.get_dummies(crypto_df_prep, columns = [\"Algorithm\", \"ProofType\"])\n",
    "X.head()\n",
    "\n",
    "# 9: Use the StandardScaler from sklearn to standardize all of the data from the X DataFrame. Remember, this is important prior to using PCA and K-means algorithms.\n",
    "X_scaled = StandardScaler().fit_transform(X)\n",
    "#print(X_scaled[0:5])"
   ]
  },
  {
   "cell_type": "markdown",
   "metadata": {},
   "source": [
    "# Reducing Data Dimensions Using PCA"
   ]
  },
  {
   "cell_type": "code",
   "execution_count": 160,
   "metadata": {},
   "outputs": [],
   "source": [
    "# Initialize PCA model, and get three principal components for the data.\n",
    "X_pca = PCA(n_components=3).fit_transform(X_scaled)"
   ]
  },
  {
   "cell_type": "code",
   "execution_count": 161,
   "metadata": {},
   "outputs": [
    {
     "data": {
      "text/html": [
       "<div>\n",
       "<style scoped>\n",
       "    .dataframe tbody tr th:only-of-type {\n",
       "        vertical-align: middle;\n",
       "    }\n",
       "\n",
       "    .dataframe tbody tr th {\n",
       "        vertical-align: top;\n",
       "    }\n",
       "\n",
       "    .dataframe thead th {\n",
       "        text-align: right;\n",
       "    }\n",
       "</style>\n",
       "<table border=\"1\" class=\"dataframe\">\n",
       "  <thead>\n",
       "    <tr style=\"text-align: right;\">\n",
       "      <th></th>\n",
       "      <th>principal component 1</th>\n",
       "      <th>principal component 2</th>\n",
       "      <th>principal component 3</th>\n",
       "    </tr>\n",
       "    <tr>\n",
       "      <th></th>\n",
       "      <th></th>\n",
       "      <th></th>\n",
       "      <th></th>\n",
       "    </tr>\n",
       "  </thead>\n",
       "  <tbody>\n",
       "    <tr>\n",
       "      <th>42</th>\n",
       "      <td>-0.366960</td>\n",
       "      <td>0.845506</td>\n",
       "      <td>-0.615516</td>\n",
       "    </tr>\n",
       "    <tr>\n",
       "      <th>404</th>\n",
       "      <td>-0.350508</td>\n",
       "      <td>0.845367</td>\n",
       "      <td>-0.615883</td>\n",
       "    </tr>\n",
       "    <tr>\n",
       "      <th>1337</th>\n",
       "      <td>2.252839</td>\n",
       "      <td>1.283099</td>\n",
       "      <td>-0.695736</td>\n",
       "    </tr>\n",
       "    <tr>\n",
       "      <th>BTC</th>\n",
       "      <td>-0.124365</td>\n",
       "      <td>-1.276516</td>\n",
       "      <td>0.238158</td>\n",
       "    </tr>\n",
       "    <tr>\n",
       "      <th>ETH</th>\n",
       "      <td>-0.121186</td>\n",
       "      <td>-1.944149</td>\n",
       "      <td>0.472975</td>\n",
       "    </tr>\n",
       "  </tbody>\n",
       "</table>\n",
       "</div>"
      ],
      "text/plain": [
       "      principal component 1  principal component 2  principal component 3\n",
       "                                                                         \n",
       "42                -0.366960               0.845506              -0.615516\n",
       "404               -0.350508               0.845367              -0.615883\n",
       "1337               2.252839               1.283099              -0.695736\n",
       "BTC               -0.124365              -1.276516               0.238158\n",
       "ETH               -0.121186              -1.944149               0.472975"
      ]
     },
     "execution_count": 161,
     "metadata": {},
     "output_type": "execute_result"
    }
   ],
   "source": [
    "# Transform PCA data to a DataFrame\n",
    "pcs_df = pd.DataFrame(\n",
    "    data = X_pca,\n",
    "    columns = [\"principal component 1\", \"principal component 2\", \"principal component 3\"], index = crypto_df.index\n",
    ")\n",
    "pcs_df.head()"
   ]
  },
  {
   "cell_type": "markdown",
   "metadata": {},
   "source": [
    "# Clustering Cryptocurrencies Using K-means"
   ]
  },
  {
   "cell_type": "code",
   "execution_count": 144,
   "metadata": {},
   "outputs": [
    {
     "data": {},
     "metadata": {},
     "output_type": "display_data"
    },
    {
     "data": {
      "application/vnd.holoviews_exec.v0+json": "",
      "text/html": [
       "<div id='1753'>\n",
       "\n",
       "\n",
       "\n",
       "\n",
       "\n",
       "  <div class=\"bk-root\" id=\"1fbb2b72-0b2a-4114-8abf-7ec09f9b7769\" data-root-id=\"1753\"></div>\n",
       "</div>\n",
       "<script type=\"application/javascript\">(function(root) {\n",
       "  function embed_document(root) {\n",
       "  var docs_json = {\"4d3f176f-2c48-4ef9-b614-91853153265e\":{\"roots\":{\"references\":[{\"attributes\":{},\"id\":\"1779\",\"type\":\"ResetTool\"},{\"attributes\":{\"data_source\":{\"id\":\"1788\"},\"glyph\":{\"id\":\"1791\"},\"hover_glyph\":null,\"muted_glyph\":{\"id\":\"1793\"},\"nonselection_glyph\":{\"id\":\"1792\"},\"selection_glyph\":null,\"view\":{\"id\":\"1795\"}},\"id\":\"1794\",\"type\":\"GlyphRenderer\"},{\"attributes\":{\"overlay\":{\"id\":\"1780\"}},\"id\":\"1778\",\"type\":\"BoxZoomTool\"},{\"attributes\":{\"axis_label\":\"inertia\",\"bounds\":\"auto\",\"formatter\":{\"id\":\"1801\"},\"major_label_orientation\":\"horizontal\",\"ticker\":{\"id\":\"1772\"}},\"id\":\"1771\",\"type\":\"LinearAxis\"},{\"attributes\":{\"axis\":{\"id\":\"1767\"},\"grid_line_color\":null,\"ticker\":null},\"id\":\"1770\",\"type\":\"Grid\"},{\"attributes\":{\"axis_label\":\"k\",\"bounds\":\"auto\",\"formatter\":{\"id\":\"1797\"},\"major_label_orientation\":\"horizontal\",\"ticker\":{\"id\":\"1796\"}},\"id\":\"1767\",\"type\":\"LinearAxis\"},{\"attributes\":{\"line_color\":\"#1f77b3\",\"line_width\":2,\"x\":{\"field\":\"k\"},\"y\":{\"field\":\"inertia\"}},\"id\":\"1791\",\"type\":\"Line\"},{\"attributes\":{},\"id\":\"1801\",\"type\":\"BasicTickFormatter\"},{\"attributes\":{\"line_alpha\":0.2,\"line_color\":\"#1f77b3\",\"line_width\":2,\"x\":{\"field\":\"k\"},\"y\":{\"field\":\"inertia\"}},\"id\":\"1793\",\"type\":\"Line\"},{\"attributes\":{},\"id\":\"1797\",\"type\":\"BasicTickFormatter\"},{\"attributes\":{\"source\":{\"id\":\"1788\"}},\"id\":\"1795\",\"type\":\"CDSView\"},{\"attributes\":{},\"id\":\"1772\",\"type\":\"BasicTicker\"},{\"attributes\":{\"axis\":{\"id\":\"1771\"},\"dimension\":1,\"grid_line_color\":null,\"ticker\":null},\"id\":\"1774\",\"type\":\"Grid\"},{\"attributes\":{\"active_drag\":\"auto\",\"active_inspect\":\"auto\",\"active_multi\":null,\"active_scroll\":\"auto\",\"active_tap\":\"auto\",\"tools\":[{\"id\":\"1757\"},{\"id\":\"1775\"},{\"id\":\"1776\"},{\"id\":\"1777\"},{\"id\":\"1778\"},{\"id\":\"1779\"}]},\"id\":\"1781\",\"type\":\"Toolbar\"},{\"attributes\":{\"callback\":null,\"renderers\":[{\"id\":\"1794\"}],\"tags\":[\"hv_created\"],\"tooltips\":[[\"k\",\"@{k}\"],[\"inertia\",\"@{inertia}\"]]},\"id\":\"1757\",\"type\":\"HoverTool\"},{\"attributes\":{\"end\":3930.766588011959,\"reset_end\":3930.766588011959,\"reset_start\":-239.92419649055827,\"start\":-239.92419649055827,\"tags\":[[[\"inertia\",\"inertia\",null]]]},\"id\":\"1756\",\"type\":\"Range1d\"},{\"attributes\":{\"bottom_units\":\"screen\",\"fill_alpha\":0.5,\"fill_color\":\"lightgrey\",\"left_units\":\"screen\",\"level\":\"overlay\",\"line_alpha\":1.0,\"line_color\":\"black\",\"line_dash\":[4,4],\"line_width\":2,\"render_mode\":\"css\",\"right_units\":\"screen\",\"top_units\":\"screen\"},\"id\":\"1780\",\"type\":\"BoxAnnotation\"},{\"attributes\":{},\"id\":\"1809\",\"type\":\"UnionRenderers\"},{\"attributes\":{\"margin\":[5,5,5,5],\"name\":\"HSpacer02950\",\"sizing_mode\":\"stretch_width\"},\"id\":\"1810\",\"type\":\"Spacer\"},{\"attributes\":{\"end\":10.0,\"reset_end\":10.0,\"reset_start\":1.0,\"start\":1.0,\"tags\":[[[\"k\",\"k\",null]]]},\"id\":\"1755\",\"type\":\"Range1d\"},{\"attributes\":{},\"id\":\"1789\",\"type\":\"Selection\"},{\"attributes\":{\"children\":[{\"id\":\"1754\"},{\"id\":\"1758\"},{\"id\":\"1810\"}],\"margin\":[0,0,0,0],\"name\":\"Row02945\",\"tags\":[\"embedded\"]},\"id\":\"1753\",\"type\":\"Row\"},{\"attributes\":{\"line_alpha\":0.1,\"line_color\":\"#1f77b3\",\"line_width\":2,\"x\":{\"field\":\"k\"},\"y\":{\"field\":\"inertia\"}},\"id\":\"1792\",\"type\":\"Line\"},{\"attributes\":{\"ticks\":[1,2,3,4,5,6,7,8,9,10]},\"id\":\"1796\",\"type\":\"FixedTicker\"},{\"attributes\":{\"align\":null,\"below\":[{\"id\":\"1767\"}],\"center\":[{\"id\":\"1770\"},{\"id\":\"1774\"}],\"left\":[{\"id\":\"1771\"}],\"margin\":null,\"min_border_bottom\":10,\"min_border_left\":10,\"min_border_right\":10,\"min_border_top\":10,\"plot_height\":300,\"plot_width\":700,\"renderers\":[{\"id\":\"1794\"}],\"sizing_mode\":\"fixed\",\"title\":{\"id\":\"1759\"},\"toolbar\":{\"id\":\"1781\"},\"x_range\":{\"id\":\"1755\"},\"x_scale\":{\"id\":\"1763\"},\"y_range\":{\"id\":\"1756\"},\"y_scale\":{\"id\":\"1765\"}},\"id\":\"1758\",\"subtype\":\"Figure\",\"type\":\"Plot\"},{\"attributes\":{},\"id\":\"1775\",\"type\":\"SaveTool\"},{\"attributes\":{\"data\":{\"inertia\":{\"__ndarray__\":\"7NkDBWv+q0C5G5Ct7wqjQB25lQB3BpdAXUC41KkVgUDNDIeHQpN2QDvBUXWFAHJApkZF4SkgbUCk+wOUWQlnQPUSUJCQ9WBAdnilHYnoWkA=\",\"dtype\":\"float64\",\"shape\":[10]},\"k\":[1,2,3,4,5,6,7,8,9,10]},\"selected\":{\"id\":\"1789\"},\"selection_policy\":{\"id\":\"1809\"}},\"id\":\"1788\",\"type\":\"ColumnDataSource\"},{\"attributes\":{\"margin\":[5,5,5,5],\"name\":\"HSpacer02949\",\"sizing_mode\":\"stretch_width\"},\"id\":\"1754\",\"type\":\"Spacer\"},{\"attributes\":{},\"id\":\"1763\",\"type\":\"LinearScale\"},{\"attributes\":{},\"id\":\"1776\",\"type\":\"PanTool\"},{\"attributes\":{\"text\":\"Elbow Curve\",\"text_color\":{\"value\":\"black\"},\"text_font_size\":{\"value\":\"12pt\"}},\"id\":\"1759\",\"type\":\"Title\"},{\"attributes\":{},\"id\":\"1777\",\"type\":\"WheelZoomTool\"},{\"attributes\":{},\"id\":\"1765\",\"type\":\"LinearScale\"}],\"root_ids\":[\"1753\"]},\"title\":\"Bokeh Application\",\"version\":\"2.0.2\"}};\n",
       "  var render_items = [{\"docid\":\"4d3f176f-2c48-4ef9-b614-91853153265e\",\"root_ids\":[\"1753\"],\"roots\":{\"1753\":\"1fbb2b72-0b2a-4114-8abf-7ec09f9b7769\"}}];\n",
       "  root.Bokeh.embed.embed_items_notebook(docs_json, render_items);\n",
       "  }\n",
       "if (root.Bokeh !== undefined) {\n",
       "    embed_document(root);\n",
       "  } else {\n",
       "    var attempts = 0;\n",
       "    var timer = setInterval(function(root) {\n",
       "      if (root.Bokeh !== undefined) {\n",
       "        clearInterval(timer);\n",
       "        embed_document(root);\n",
       "      } else if (document.readyState == \"complete\") {\n",
       "        attempts++;\n",
       "        if (attempts > 100) {\n",
       "          clearInterval(timer);\n",
       "          console.log(\"Bokeh: ERROR: Unable to run BokehJS code because BokehJS library is missing\");\n",
       "        }\n",
       "      }\n",
       "    }, 10, root)\n",
       "  }\n",
       "})(window);</script>"
      ],
      "text/plain": [
       ":Curve   [k]   (inertia)"
      ]
     },
     "execution_count": 144,
     "metadata": {
      "application/vnd.holoviews_exec.v0+json": {
       "id": "1753"
      }
     },
     "output_type": "execute_result"
    }
   ],
   "source": [
    "# 1: Create an elbow curve to find the best value for K, and use the pcs_df DataFrame.\n",
    "# Find the best value for K\n",
    "inertia = []\n",
    "k = list(range(1, 11))\n",
    "\n",
    "# Calculate the inertia for the range of K values\n",
    "for i in k:\n",
    "\tkm = KMeans(n_clusters=i, random_state=0)\n",
    "\tkm.fit(pcs_df)\n",
    "\tinertia.append(km.inertia_)\n",
    "\n",
    "# Create the elbow curve\n",
    "elbow_data = {\"k\": k, \"inertia\": inertia}\n",
    "df_elbow = pd.DataFrame(elbow_data)\n",
    "df_elbow.hvplot.line(x=\"k\", y=\"inertia\", xticks=k, title=\"Elbow Curve\")"
   ]
  },
  {
   "cell_type": "code",
   "execution_count": 145,
   "metadata": {},
   "outputs": [],
   "source": [
    "# 2: Run the K-means algorithm to predict the K clusters for the cryptocurrencies’ data.\n",
    "# Initialize the K-means model\n",
    "model = KMeans(n_clusters=4, random_state=0)\n",
    "\n",
    "# Fit the model\n",
    "model.fit(pcs_df)\n",
    "\n",
    "# Predict clusters\n",
    "predictions = model.predict(pcs_df)"
   ]
  },
  {
   "cell_type": "code",
   "execution_count": 146,
   "metadata": {},
   "outputs": [
    {
     "data": {
      "text/html": [
       "<div>\n",
       "<style scoped>\n",
       "    .dataframe tbody tr th:only-of-type {\n",
       "        vertical-align: middle;\n",
       "    }\n",
       "\n",
       "    .dataframe tbody tr th {\n",
       "        vertical-align: top;\n",
       "    }\n",
       "\n",
       "    .dataframe thead th {\n",
       "        text-align: right;\n",
       "    }\n",
       "</style>\n",
       "<table border=\"1\" class=\"dataframe\">\n",
       "  <thead>\n",
       "    <tr style=\"text-align: right;\">\n",
       "      <th></th>\n",
       "      <th>Algorithm</th>\n",
       "      <th>ProofType</th>\n",
       "      <th>TotalCoinsMined</th>\n",
       "      <th>TotalCoinSupply</th>\n",
       "      <th>PC 1</th>\n",
       "      <th>PC 2</th>\n",
       "      <th>PC 3</th>\n",
       "      <th>CoinName</th>\n",
       "      <th>Class</th>\n",
       "    </tr>\n",
       "    <tr>\n",
       "      <th></th>\n",
       "      <th></th>\n",
       "      <th></th>\n",
       "      <th></th>\n",
       "      <th></th>\n",
       "      <th></th>\n",
       "      <th></th>\n",
       "      <th></th>\n",
       "      <th></th>\n",
       "      <th></th>\n",
       "    </tr>\n",
       "  </thead>\n",
       "  <tbody>\n",
       "    <tr>\n",
       "      <th>42</th>\n",
       "      <td>Scrypt</td>\n",
       "      <td>PoW/PoS</td>\n",
       "      <td>4.199995e+01</td>\n",
       "      <td>42</td>\n",
       "      <td>-0.332873</td>\n",
       "      <td>0.865885</td>\n",
       "      <td>-0.575821</td>\n",
       "      <td>42 Coin</td>\n",
       "      <td>2</td>\n",
       "    </tr>\n",
       "    <tr>\n",
       "      <th>404</th>\n",
       "      <td>Scrypt</td>\n",
       "      <td>PoW/PoS</td>\n",
       "      <td>1.055185e+09</td>\n",
       "      <td>532000000</td>\n",
       "      <td>-0.316351</td>\n",
       "      <td>0.865945</td>\n",
       "      <td>-0.576123</td>\n",
       "      <td>404Coin</td>\n",
       "      <td>2</td>\n",
       "    </tr>\n",
       "    <tr>\n",
       "      <th>1337</th>\n",
       "      <td>X13</td>\n",
       "      <td>PoW/PoS</td>\n",
       "      <td>2.927942e+10</td>\n",
       "      <td>314159265359</td>\n",
       "      <td>2.285097</td>\n",
       "      <td>1.526404</td>\n",
       "      <td>-0.695151</td>\n",
       "      <td>EliteCoin</td>\n",
       "      <td>2</td>\n",
       "    </tr>\n",
       "    <tr>\n",
       "      <th>BTC</th>\n",
       "      <td>SHA-256</td>\n",
       "      <td>PoW</td>\n",
       "      <td>1.792718e+07</td>\n",
       "      <td>21000000</td>\n",
       "      <td>-0.144972</td>\n",
       "      <td>-1.293303</td>\n",
       "      <td>0.197261</td>\n",
       "      <td>Bitcoin</td>\n",
       "      <td>0</td>\n",
       "    </tr>\n",
       "    <tr>\n",
       "      <th>ETH</th>\n",
       "      <td>Ethash</td>\n",
       "      <td>PoW</td>\n",
       "      <td>1.076842e+08</td>\n",
       "      <td>0</td>\n",
       "      <td>-0.139425</td>\n",
       "      <td>-1.953134</td>\n",
       "      <td>0.457285</td>\n",
       "      <td>Ethereum</td>\n",
       "      <td>0</td>\n",
       "    </tr>\n",
       "  </tbody>\n",
       "</table>\n",
       "</div>"
      ],
      "text/plain": [
       "     Algorithm ProofType  TotalCoinsMined TotalCoinSupply      PC 1      PC 2  \\\n",
       "                                                                                \n",
       "42      Scrypt   PoW/PoS     4.199995e+01              42 -0.332873  0.865885   \n",
       "404     Scrypt   PoW/PoS     1.055185e+09       532000000 -0.316351  0.865945   \n",
       "1337       X13   PoW/PoS     2.927942e+10    314159265359  2.285097  1.526404   \n",
       "BTC    SHA-256       PoW     1.792718e+07        21000000 -0.144972 -1.293303   \n",
       "ETH     Ethash       PoW     1.076842e+08               0 -0.139425 -1.953134   \n",
       "\n",
       "          PC 3   CoinName  Class  \n",
       "                                  \n",
       "42   -0.575821    42 Coin      2  \n",
       "404  -0.576123    404Coin      2  \n",
       "1337 -0.695151  EliteCoin      2  \n",
       "BTC   0.197261    Bitcoin      0  \n",
       "ETH   0.457285   Ethereum      0  "
      ]
     },
     "execution_count": 146,
     "metadata": {},
     "output_type": "execute_result"
    }
   ],
   "source": [
    "# 3: Create a new DataFrame named “clustered_df”\n",
    "# Add the predicted class columns\n",
    "pcs_df.columns = [\"PC 1\", \"PC 2\", \"PC 3\"]\n",
    "pcs_df[\"CoinName\"] = coins_name\n",
    "pcs_df[\"Class\"] = model.labels_\n",
    "\n",
    "clustered_df = crypto_df_prep\n",
    "clustered_df = clustered_df.merge(pcs_df, how = 'inner', left_index=True, right_index=True)\n",
    "clustered_df.head()"
   ]
  },
  {
   "cell_type": "markdown",
   "metadata": {},
   "source": [
    "# Visualizing Results"
   ]
  },
  {
   "cell_type": "code",
   "execution_count": 155,
   "metadata": {},
   "outputs": [
    {
     "data": {
      "application/vnd.plotly.v1+json": {
       "config": {
        "plotlyServerURL": "https://plot.ly"
       },
       "data": [
        {
         "customdata": [
          [
           "Scrypt"
          ],
          [
           "Scrypt"
          ],
          [
           "X13"
          ],
          [
           "X11"
          ],
          [
           "SHA-512"
          ],
          [
           "SHA-256"
          ],
          [
           "SHA-256"
          ],
          [
           "X15"
          ],
          [
           "Scrypt"
          ],
          [
           "Scrypt"
          ],
          [
           "Scrypt"
          ],
          [
           "Scrypt"
          ],
          [
           "Scrypt"
          ],
          [
           "Scrypt"
          ],
          [
           "Groestl"
          ],
          [
           "PoS"
          ],
          [
           "Scrypt"
          ],
          [
           "Scrypt"
          ],
          [
           "X11"
          ],
          [
           "X11"
          ],
          [
           "SHA3"
          ],
          [
           "Scrypt"
          ],
          [
           "SHA-256"
          ],
          [
           "Scrypt"
          ],
          [
           "X13"
          ],
          [
           "X13"
          ],
          [
           "NeoScrypt"
          ],
          [
           "Scrypt"
          ],
          [
           "Scrypt"
          ],
          [
           "Scrypt"
          ],
          [
           "X11"
          ],
          [
           "X11"
          ],
          [
           "PHI1612"
          ],
          [
           "X11"
          ],
          [
           "Scrypt"
          ],
          [
           "Scrypt"
          ],
          [
           "Scrypt"
          ],
          [
           "X11"
          ],
          [
           "X13"
          ],
          [
           "Scrypt"
          ],
          [
           "Shabal256"
          ],
          [
           "Counterparty"
          ],
          [
           "SHA-256"
          ],
          [
           "Groestl"
          ],
          [
           "Scrypt"
          ],
          [
           "X13"
          ],
          [
           "Scrypt"
          ],
          [
           "Scrypt"
          ],
          [
           "X13"
          ],
          [
           "X11"
          ],
          [
           "Scrypt"
          ],
          [
           "X11"
          ],
          [
           "SHA3"
          ],
          [
           "QUAIT"
          ],
          [
           "X11"
          ],
          [
           "Scrypt"
          ],
          [
           "X13"
          ],
          [
           "SHA-256"
          ],
          [
           "X15"
          ],
          [
           "BLAKE256"
          ],
          [
           "SHA-256"
          ],
          [
           "X11"
          ],
          [
           "SHA-256"
          ],
          [
           "NIST5"
          ],
          [
           "Scrypt"
          ],
          [
           "Scrypt"
          ],
          [
           "X11"
          ],
          [
           "Scrypt"
          ],
          [
           "SHA-256"
          ],
          [
           "Scrypt"
          ],
          [
           "PoS"
          ],
          [
           "X11"
          ],
          [
           "SHA-256"
          ],
          [
           "SHA-256"
          ],
          [
           "NIST5"
          ],
          [
           "X11"
          ],
          [
           "POS 3.0"
          ],
          [
           "Scrypt"
          ],
          [
           "Scrypt"
          ],
          [
           "Scrypt"
          ],
          [
           "X13"
          ],
          [
           "X11"
          ],
          [
           "X11"
          ],
          [
           "Scrypt"
          ],
          [
           "SHA-256"
          ],
          [
           "X11"
          ],
          [
           "Scrypt"
          ],
          [
           "Scrypt"
          ],
          [
           "Scrypt"
          ],
          [
           "Scrypt"
          ],
          [
           "SHA-256D"
          ],
          [
           "PoS"
          ],
          [
           "Scrypt"
          ],
          [
           "X11"
          ],
          [
           "PoS"
          ],
          [
           "X13"
          ],
          [
           "X14"
          ],
          [
           "PoS"
          ],
          [
           "SHA-256D"
          ],
          [
           "DPoS"
          ],
          [
           "X11"
          ],
          [
           "X13"
          ],
          [
           "X11"
          ],
          [
           "PoS"
          ],
          [
           "Scrypt"
          ],
          [
           "Scrypt"
          ],
          [
           "PoS"
          ],
          [
           "X11"
          ],
          [
           "SHA-256"
          ],
          [
           "Scrypt"
          ],
          [
           "X11"
          ],
          [
           "Scrypt"
          ],
          [
           "Scrypt"
          ],
          [
           "X11"
          ],
          [
           "Scrypt"
          ],
          [
           "Scrypt"
          ],
          [
           "Scrypt"
          ],
          [
           "Scrypt"
          ],
          [
           "Quark"
          ],
          [
           "QuBit"
          ],
          [
           "Scrypt"
          ],
          [
           "SHA-256"
          ],
          [
           "X11"
          ],
          [
           "Scrypt"
          ],
          [
           "Scrypt"
          ],
          [
           "Scrypt"
          ],
          [
           "Scrypt"
          ],
          [
           "X13"
          ],
          [
           "Scrypt"
          ],
          [
           "Scrypt"
          ],
          [
           "X11"
          ],
          [
           "Blake2S"
          ],
          [
           "X11"
          ],
          [
           "PoS"
          ],
          [
           "X11"
          ],
          [
           "PoS"
          ],
          [
           "X11"
          ],
          [
           "Scrypt"
          ],
          [
           "Scrypt"
          ],
          [
           "Scrypt"
          ],
          [
           "SHA-256"
          ],
          [
           "X11"
          ],
          [
           "Scrypt"
          ],
          [
           "PoS"
          ],
          [
           "Scrypt"
          ],
          [
           "X15"
          ],
          [
           "SHA-256"
          ],
          [
           "POS 3.0"
          ],
          [
           "536"
          ],
          [
           "NIST5"
          ],
          [
           "NIST5"
          ],
          [
           "Skein"
          ],
          [
           "X13"
          ],
          [
           "Scrypt"
          ],
          [
           "X13"
          ],
          [
           "SkunkHash v2 Raptor"
          ],
          [
           "Skein"
          ],
          [
           "X11"
          ],
          [
           "Scrypt"
          ],
          [
           "VeChainThor Authority"
          ],
          [
           "PoS"
          ],
          [
           "Scrypt"
          ],
          [
           "Scrypt"
          ],
          [
           "SHA-512"
          ],
          [
           "Ouroboros"
          ],
          [
           "X11"
          ],
          [
           "NeoScrypt"
          ],
          [
           "Scrypt"
          ],
          [
           "Lyra2REv2"
          ],
          [
           "Scrypt"
          ],
          [
           "SHA-256"
          ],
          [
           "NIST5"
          ],
          [
           "PHI1612"
          ],
          [
           "Scrypt"
          ],
          [
           "Quark"
          ],
          [
           "POS 2.0"
          ],
          [
           "Scrypt"
          ],
          [
           "SHA-256"
          ],
          [
           "X11"
          ],
          [
           "DPoS"
          ],
          [
           "NIST5"
          ],
          [
           "X13"
          ],
          [
           "Scrypt"
          ],
          [
           "NIST5"
          ],
          [
           "Quark"
          ],
          [
           "Scrypt"
          ],
          [
           "Scrypt"
          ],
          [
           "X11"
          ],
          [
           "Quark"
          ],
          [
           "Scrypt"
          ],
          [
           "Scrypt"
          ],
          [
           "X11"
          ],
          [
           "POS 3.0"
          ],
          [
           "Ethash"
          ],
          [
           "Scrypt"
          ],
          [
           "Scrypt"
          ],
          [
           "X13"
          ],
          [
           "SHA-256 + Hive"
          ],
          [
           "C11"
          ],
          [
           "X11"
          ],
          [
           "XEVAN"
          ],
          [
           "Scrypt"
          ],
          [
           "VBFT"
          ],
          [
           "NIST5"
          ],
          [
           "Scrypt"
          ],
          [
           "Scrypt"
          ],
          [
           "Scrypt"
          ],
          [
           "Green Protocol"
          ],
          [
           "PoS"
          ],
          [
           "Scrypt"
          ],
          [
           "Semux BFT consensus"
          ],
          [
           "Quark"
          ],
          [
           "PoS"
          ],
          [
           "X16R"
          ],
          [
           "Scrypt"
          ],
          [
           "XEVAN"
          ],
          [
           "Scrypt"
          ],
          [
           "Scrypt"
          ],
          [
           "Scrypt"
          ],
          [
           "SHA-256D"
          ],
          [
           "Scrypt"
          ],
          [
           "X15"
          ],
          [
           "Scrypt"
          ],
          [
           "Quark"
          ],
          [
           "SHA-256"
          ],
          [
           "DPoS"
          ],
          [
           "X16R"
          ],
          [
           "Quark"
          ],
          [
           "Quark"
          ],
          [
           "Scrypt"
          ],
          [
           "Lyra2REv2"
          ],
          [
           "Quark"
          ],
          [
           "Scrypt"
          ],
          [
           "X11"
          ],
          [
           "X11"
          ],
          [
           "Scrypt"
          ],
          [
           "PoS"
          ],
          [
           "Keccak"
          ],
          [
           "X11"
          ],
          [
           "Scrypt"
          ],
          [
           "SHA-512"
          ],
          [
           "XEVAN"
          ],
          [
           "XEVAN"
          ],
          [
           "X11"
          ],
          [
           "Quark"
          ],
          [
           "Equihash"
          ],
          [
           "Scrypt"
          ],
          [
           "Quark"
          ],
          [
           "Quark"
          ],
          [
           "Scrypt"
          ],
          [
           "X11"
          ],
          [
           "Scrypt"
          ],
          [
           "XEVAN"
          ],
          [
           "SHA-256D"
          ],
          [
           "X11"
          ],
          [
           "X11"
          ],
          [
           "DPoS"
          ],
          [
           "Scrypt"
          ],
          [
           "X11"
          ],
          [
           "Scrypt"
          ],
          [
           "Scrypt"
          ],
          [
           "SHA-256"
          ],
          [
           "Scrypt"
          ],
          [
           "X11"
          ],
          [
           "Scrypt"
          ],
          [
           "SHA-256"
          ],
          [
           "X11"
          ],
          [
           "Scrypt"
          ],
          [
           "Scrypt"
          ],
          [
           "X11"
          ],
          [
           "Scrypt"
          ],
          [
           "PoS"
          ],
          [
           "X11"
          ],
          [
           "SHA-256"
          ],
          [
           "DPoS"
          ],
          [
           "Scrypt"
          ],
          [
           "Scrypt"
          ],
          [
           "NeoScrypt"
          ],
          [
           "X13"
          ],
          [
           "DPoS"
          ],
          [
           "DPoS"
          ],
          [
           "SHA-256"
          ],
          [
           "PoS"
          ],
          [
           "PoS"
          ],
          [
           "SHA-256"
          ],
          [
           "Scrypt"
          ],
          [
           "Scrypt"
          ]
         ],
         "hovertemplate": "<b>%{hovertext}</b><br><br>Class=%{marker.color}<br>PC 1=%{x}<br>PC 2=%{y}<br>PC 3=%{z}<br>Algorithm=%{customdata[0]}<extra></extra>",
         "hovertext": [
          "42 Coin",
          "404Coin",
          "EliteCoin",
          "Dash",
          "Bitshares",
          "BitcoinDark",
          "PayCoin",
          "KoboCoin",
          "Aurora Coin",
          "BlueCoin",
          "EnergyCoin",
          "BitBar",
          "CryptoBullion",
          "CasinoCoin",
          "Diamond",
          "Exclusive Coin",
          "FlutterCoin",
          "HoboNickels",
          "HyperStake",
          "IOCoin",
          "MaxCoin",
          "MintCoin",
          "MazaCoin",
          "Nautilus Coin",
          "NavCoin",
          "OpalCoin",
          "Orbitcoin",
          "PotCoin",
          "PhoenixCoin",
          "Reddcoin",
          "SuperCoin",
          "SyncCoin",
          "TittieCoin",
          "TorCoin",
          "UnitaryStatus Dollar",
          "UltraCoin",
          "VeriCoin",
          "X11 Coin",
          "StealthCoin",
          "ZCC Coin",
          "BurstCoin",
          "StorjCoin",
          "Neutron",
          "FairCoin",
          "RubyCoin",
          "Kore",
          "Dnotes",
          "8BIT Coin",
          "Sativa Coin",
          "Ucoin",
          "Vtorrent",
          "IslaCoin",
          "Nexus",
          "Droidz",
          "Squall Coin",
          "Diggits",
          "Paycon",
          "Emercoin",
          "EverGreenCoin",
          "Decred",
          "EDRCoin",
          "Hitcoin",
          "DubaiCoin",
          "PWR Coin",
          "BillaryCoin",
          "GPU Coin",
          "EuropeCoin",
          "ZeitCoin",
          "SwingCoin",
          "SafeExchangeCoin",
          "Nebuchadnezzar",
          "Ratecoin",
          "Revenu",
          "Clockcoin",
          "VIP Tokens",
          "BitSend",
          "Let it Ride",
          "PutinCoin",
          "iBankCoin",
          "Frankywillcoin",
          "MudraCoin",
          "Lutetium Coin",
          "GoldBlocks",
          "CarterCoin",
          "BitTokens",
          "MustangCoin",
          "ZoneCoin",
          "RootCoin",
          "BitCurrency",
          "Swiscoin",
          "BuzzCoin",
          "Opair",
          "PesoBit",
          "Halloween Coin",
          "CoffeeCoin",
          "RoyalCoin",
          "GanjaCoin V2",
          "TeamUP",
          "LanaCoin",
          "ARK",
          "InsaneCoin",
          "EmberCoin",
          "XenixCoin",
          "FreeCoin",
          "PLNCoin",
          "AquariusCoin",
          "Creatio",
          "Eternity",
          "Eurocoin",
          "BitcoinFast",
          "Stakenet",
          "BitConnect Coin",
          "MoneyCoin",
          "Enigma",
          "Russiacoin",
          "PandaCoin",
          "GameUnits",
          "GAKHcoin",
          "Allsafe",
          "LiteCreed",
          "Klingon Empire Darsek",
          "Internet of People",
          "KushCoin",
          "Printerium",
          "Impeach",
          "Zilbercoin",
          "FirstCoin",
          "FindCoin",
          "OpenChat",
          "RenosCoin",
          "VirtacoinPlus",
          "TajCoin",
          "Impact",
          "Atmos",
          "HappyCoin",
          "MacronCoin",
          "Condensate",
          "Independent Money System",
          "ArgusCoin",
          "LomoCoin",
          "ProCurrency",
          "GoldReserve",
          "GrowthCoin",
          "Phreak",
          "Degas Coin",
          "HTML5 Coin",
          "Ultimate Secure Cash",
          "QTUM",
          "Espers",
          "Denarius",
          "Virta Unique Coin",
          "Bitcoin Planet",
          "BritCoin",
          "Linda",
          "DeepOnion",
          "Signatum",
          "Cream",
          "Monoeci",
          "Draftcoin",
          "Vechain",
          "Stakecoin",
          "CoinonatX",
          "Ethereum Dark",
          "Obsidian",
          "Cardano",
          "Regalcoin",
          "TrezarCoin",
          "TerraNovaCoin",
          "Rupee",
          "WomenCoin",
          "Theresa May Coin",
          "NamoCoin",
          "LUXCoin",
          "Xios",
          "Bitcloud 2.0",
          "KekCoin",
          "BlackholeCoin",
          "Infinity Economics",
          "Magnet",
          "Lamden Tau",
          "Electra",
          "Bitcoin Diamond",
          "Cash & Back Coin",
          "Bulwark",
          "Kalkulus",
          "GermanCoin",
          "LiteCoin Ultra",
          "PhantomX",
          "Digiwage",
          "Trollcoin",
          "Litecoin Plus",
          "Monkey Project",
          "TokenPay",
          "1717 Masonic Commemorative Token",
          "My Big Coin",
          "Unified Society USDEX",
          "Tokyo Coin",
          "LitecoinCash",
          "Stipend",
          "Pushi",
          "Ellerium",
          "Velox",
          "Ontology",
          "Bitspace",
          "Briacoin",
          "Ignition",
          "MedicCoin",
          "Bitcoin Green",
          "Deviant Coin",
          "Abjcoin",
          "Semux",
          "Carebit",
          "Zealium",
          "Proton",
          "iDealCash",
          "Bitcoin Incognito",
          "HollyWoodCoin",
          "Swisscoin",
          "Xt3ch",
          "TheVig",
          "EmaratCoin",
          "Dekado",
          "Lynx",
          "Poseidon Quark",
          "BitcoinWSpectrum",
          "Muse",
          "Trivechain",
          "Dystem",
          "Giant",
          "Peony Coin",
          "Absolute Coin",
          "Vitae",
          "TPCash",
          "ARENON",
          "EUNO",
          "MMOCoin",
          "Ketan",
          "XDNA",
          "PAXEX",
          "ThunderStake",
          "Kcash",
          "Bettex coin",
          "BitMoney",
          "Junson Ming Chan Coin",
          "HerbCoin",
          "PirateCash",
          "Oduwa",
          "Galilel",
          "Crypto Sports",
          "Credit",
          "Dash Platinum",
          "Nasdacoin",
          "Beetle Coin",
          "Titan Coin",
          "Award",
          "Insane Coin",
          "ALAX",
          "LiteDoge",
          "TruckCoin",
          "OrangeCoin",
          "BitstarCoin",
          "NeosCoin",
          "HyperCoin",
          "PinkCoin",
          "AudioCoin",
          "IncaKoin",
          "Piggy Coin",
          "Genstake",
          "XiaoMiCoin",
          "CapriCoin",
          " ClubCoin",
          "Radium",
          "Creditbit ",
          "OKCash",
          "Lisk",
          "HiCoin",
          "WhiteCoin",
          "FriendshipCoin",
          "Triangles Coin",
          "EOS",
          "Oxycoin",
          "TigerCash",
          "Particl",
          "Nxt",
          "ZEPHYR",
          "Gapcoin",
          "BitcoinPlus"
         ],
         "legendgroup": "2",
         "marker": {
          "color": [
           2,
           2,
           2,
           2,
           2,
           2,
           2,
           2,
           2,
           2,
           2,
           2,
           2,
           2,
           2,
           2,
           2,
           2,
           2,
           2,
           2,
           2,
           2,
           2,
           2,
           2,
           2,
           2,
           2,
           2,
           2,
           2,
           2,
           2,
           2,
           2,
           2,
           2,
           2,
           2,
           2,
           2,
           2,
           2,
           2,
           2,
           2,
           2,
           2,
           2,
           2,
           2,
           2,
           2,
           2,
           2,
           2,
           2,
           2,
           2,
           2,
           2,
           2,
           2,
           2,
           2,
           2,
           2,
           2,
           2,
           2,
           2,
           2,
           2,
           2,
           2,
           2,
           2,
           2,
           2,
           2,
           2,
           2,
           2,
           2,
           2,
           2,
           2,
           2,
           2,
           2,
           2,
           2,
           2,
           2,
           2,
           2,
           2,
           2,
           2,
           2,
           2,
           2,
           2,
           2,
           2,
           2,
           2,
           2,
           2,
           2,
           2,
           2,
           2,
           2,
           2,
           2,
           2,
           2,
           2,
           2,
           2,
           2,
           2,
           2,
           2,
           2,
           2,
           2,
           2,
           2,
           2,
           2,
           2,
           2,
           2,
           2,
           2,
           2,
           2,
           2,
           2,
           2,
           2,
           2,
           2,
           2,
           2,
           2,
           2,
           2,
           2,
           2,
           2,
           2,
           2,
           2,
           2,
           2,
           2,
           2,
           2,
           2,
           2,
           2,
           2,
           2,
           2,
           2,
           2,
           2,
           2,
           2,
           2,
           2,
           2,
           2,
           2,
           2,
           2,
           2,
           2,
           2,
           2,
           2,
           2,
           2,
           2,
           2,
           2,
           2,
           2,
           2,
           2,
           2,
           2,
           2,
           2,
           2,
           2,
           2,
           2,
           2,
           2,
           2,
           2,
           2,
           2,
           2,
           2,
           2,
           2,
           2,
           2,
           2,
           2,
           2,
           2,
           2,
           2,
           2,
           2,
           2,
           2,
           2,
           2,
           2,
           2,
           2,
           2,
           2,
           2,
           2,
           2,
           2,
           2,
           2,
           2,
           2,
           2,
           2,
           2,
           2,
           2,
           2,
           2,
           2,
           2,
           2,
           2,
           2,
           2,
           2,
           2,
           2,
           2,
           2,
           2,
           2,
           2,
           2,
           2,
           2,
           2,
           2,
           2,
           2,
           2,
           2,
           2,
           2,
           2,
           2,
           2,
           2,
           2,
           2,
           2,
           2,
           2,
           2,
           2,
           2,
           2,
           2,
           2,
           2
          ],
          "coloraxis": "coloraxis",
          "symbol": "circle"
         },
         "mode": "markers",
         "name": "2",
         "scene": "scene",
         "showlegend": true,
         "type": "scatter3d",
         "x": [
          -0.3328729013403835,
          -0.3163505983841321,
          2.2850966996252264,
          -0.40925983196219984,
          -0.2879447850146062,
          -0.3185329083070849,
          -0.2683686335395024,
          -0.25346908592645606,
          -0.3325353166756696,
          -0.3251761735476004,
          -0.3313822736354403,
          -0.3328688703030588,
          -0.33285328341392034,
          0.7014590029530359,
          -0.3697629816134296,
          -0.3500690811738842,
          -0.28153915915377126,
          -0.3309477735286043,
          -0.3390910496486348,
          -0.40915542469539645,
          -0.4260765493816595,
          -0.02484358640417924,
          -0.282143004928433,
          -0.2824617417022228,
          -0.277979670607181,
          -0.27859658164955386,
          -0.3472146288113653,
          -0.3272221562804784,
          -0.33128789914984946,
          0.022219130377073557,
          -0.35880832888977193,
          -0.4095239122804431,
          -0.3281123947355607,
          -0.4094362681811291,
          -0.30831008960722145,
          -0.33156119836786746,
          -0.23389473437265362,
          -0.4094010629575073,
          -0.27837931094256607,
          -0.32404815990739017,
          0.10408496378470043,
          -0.3257426609962319,
          -0.31775116880085846,
          -0.36918948556957737,
          -0.28244222767556787,
          -0.278671283155512,
          -0.2771399754138885,
          -0.3328551225585897,
          -0.27862388295699997,
          -0.35924931344934613,
          -0.33259169360900614,
          -0.40950559845654844,
          -0.43316915535138123,
          -0.42484595136226,
          -0.32663257203378754,
          -0.28085701446859795,
          -0.2781494489276204,
          -0.31114948141110976,
          -0.25589091277459486,
          -0.0529404522020664,
          -0.31850406991880287,
          -0.0896241005689827,
          -0.31856726352059517,
          -0.23203826874583736,
          -0.3324685513408763,
          -0.28072673779549423,
          -0.40669751813088434,
          0.8612369286700658,
          -0.31836892235383457,
          -0.023224379431319844,
          -0.3497549795911713,
          -0.4073666906314729,
          -0.31712250574724066,
          -0.31480950392692364,
          -0.35236324265169555,
          -0.4082510590588733,
          -0.33644638411205113,
          -0.3089597727856911,
          -0.3325063162175498,
          -0.33095841009767324,
          -0.22721177268548934,
          -0.346844325192792,
          -0.40898380362142056,
          -0.33171715372654764,
          -0.31854833985920805,
          -0.4094948712649855,
          -0.33269395174237004,
          -0.33284940476084746,
          -0.28071720147940726,
          -0.25877669230526573,
          0.019738853622660268,
          -0.3487207443927653,
          -0.3324668470656578,
          -0.3957696895017026,
          -0.34805522267068323,
          -0.2286309065437683,
          -0.43768899548168805,
          -0.34780536044550103,
          -0.29215394013077994,
          3.705880706117484,
          -0.409090786505877,
          0.8439054683562808,
          -0.40945016193463557,
          -0.3491806319771326,
          -0.33239488016635216,
          -0.33254787972606537,
          -0.3497549795911713,
          -0.40902848503142814,
          -0.31841218574318775,
          -0.3323956296765474,
          -0.482825729169528,
          -0.33254178329154216,
          -0.3281651454023833,
          -0.4094789047960187,
          -0.33175879003612946,
          0.3554490850983863,
          -0.33273941651985056,
          -0.33280942162777627,
          -0.35344421862547126,
          -0.34264151714290686,
          -0.3290665286667893,
          -0.31852495439160644,
          -0.4093896074070219,
          -0.3325890650703472,
          -0.33271493023620047,
          -0.28234933606313367,
          -0.2895833130467362,
          -0.228400694092463,
          -0.3137279816765055,
          -0.2820927449873473,
          -0.4086612791263415,
          -0.39446371430280064,
          -0.40741035658963787,
          -0.3480161391033683,
          -0.4085600338517239,
          -0.34246269274341046,
          -0.40453414379755365,
          -0.3326587022822558,
          -0.3326578726104427,
          -0.32583467176570535,
          0.2600291033672907,
          -0.40903465401252265,
          -0.26513225742821533,
          -0.3497889458609886,
          -0.33187581058080595,
          0.8691483240829266,
          -0.2670695217492032,
          -0.3352348984628429,
          0.5745882436036679,
          -0.35388610325330105,
          -0.3524006896089619,
          -0.430901983782093,
          -0.27831158662168154,
          0.12829475341788513,
          -0.2783817962213949,
          -0.2799998393390838,
          -0.43041108517081883,
          -0.4093048284950125,
          -0.282423041470834,
          4.37541832727668,
          -0.3496562453420662,
          -0.3322969076089305,
          -0.33279249347850426,
          -0.3455270839908522,
          0.6618940464798599,
          -0.4092460972365195,
          -0.34225502838009175,
          -0.3327484451762986,
          -0.31609293589549337,
          0.4299087515323294,
          -0.3168850223912203,
          -0.3387783829192565,
          -0.4135160838447005,
          -0.33269918786463615,
          -0.4020000599530308,
          -0.3248465992498758,
          -0.33257071305549096,
          -0.09629754807421055,
          -0.40804861061807496,
          3.710696714961633,
          0.2009499744980796,
          -0.27508030919610166,
          -0.330051909614186,
          -0.3035501919520899,
          -0.35333107598864744,
          0.07822755564571682,
          -0.33171609395796015,
          -0.40862514106691483,
          -0.3525025653670839,
          -0.3193850368394366,
          -0.33281443724175264,
          -0.35922147836005636,
          -0.33672593062252837,
          -0.26396379684499244,
          -0.2547717951277774,
          -0.32839680450011804,
          -0.2202634795253861,
          -0.3815704077933216,
          -0.36437339693428145,
          -0.40932187087914473,
          -0.27749083676416575,
          -0.2815897938525655,
          -0.3330518037410445,
          -0.35348833439827654,
          -0.3328415626260196,
          -0.3328234221488169,
          -0.27601771052945745,
          -0.33755134875805026,
          -0.3492540611380296,
          -0.33254225690415284,
          3.933903907726138,
          -0.4006794308748135,
          -0.34944115233525247,
          -0.3143475018649033,
          -0.2798462457699108,
          -0.19475070705443906,
          -0.2821198242218129,
          -0.13759471337123305,
          -0.282369670603456,
          -0.35693957675882954,
          -0.33202057220279235,
          -0.2051386210039691,
          2.2290786345423785,
          -0.3490732858177958,
          -0.2671965208951609,
          1.0170290638758939,
          -0.3637909652368128,
          -0.35344363747433627,
          -0.4036705719721174,
          -0.16405578766934859,
          -0.366123125859705,
          -0.35217378907700025,
          -0.32577527324937056,
          -0.3588023616815817,
          -0.4087996020217312,
          -0.27963782486405814,
          -0.3485481442791115,
          -0.340607003709559,
          -0.35866475698957934,
          -0.19345481500675069,
          -0.36903496581077055,
          -0.22738262733343673,
          0.624218406014873,
          -0.15096309518124654,
          -0.40297103102992143,
          -0.293669837646557,
          -0.3325462297812071,
          -0.40342339207144345,
          -0.3535596456327666,
          0.5665177232242017,
          -0.3592753355109566,
          -0.3320333246411625,
          -0.2719920714737267,
          -0.3120271342572674,
          -0.40638363909563446,
          -0.40902497616988753,
          3.722835980424558,
          0.09880698334813486,
          -0.406585694934392,
          -0.3314236227422134,
          -0.33224212535960485,
          -0.26840095420010907,
          -0.3327562418608244,
          -0.40072240574513884,
          -0.24715571061538041,
          -0.10006777365292935,
          -0.39650514768475936,
          -0.33204065474664096,
          -0.32516264958339064,
          -0.40562216633146136,
          -0.33049260878961156,
          -0.3500283026536432,
          -0.41707322937299635,
          -0.317060317281719,
          3.7062693105963143,
          -0.0912572043940339,
          -0.3277107704366233,
          -0.3468434668110729,
          -0.27877761778186866,
          3.716052657018191,
          3.7172861919889812,
          -0.249456911696798,
          -0.34996471693407244,
          -0.36571326111820796,
          2.456697549847798,
          -0.33093400266659617,
          -0.28276291994901787
         ],
         "y": [
          0.8658847526081807,
          0.8659449865209057,
          1.5264044134290184,
          1.1535217627364214,
          1.7687207672290584,
          0.7677203548105775,
          0.7040636640634127,
          1.7647848813875373,
          0.8658816616446181,
          0.8660943814628078,
          0.8659253515195363,
          0.8658844961042672,
          0.8658845543058896,
          0.059353280962677266,
          0.8045946159139029,
          1.7834456908963563,
          0.09366194418166926,
          0.8658492677504256,
          1.0904190748049312,
          1.1535246063828553,
          2.0061453004766316,
          0.8092443389455014,
          0.7669551680389443,
          0.8022159716508254,
          1.6867646261656262,
          1.686747823916707,
          0.4415573789800925,
          0.8657309443824602,
          0.8658561223296741,
          0.875556073617954,
          1.0898820530772073,
          1.1535306877602607,
          1.6920511602581974,
          1.15352574908808,
          0.865381509677522,
          0.8658472134280912,
          0.17923362661711012,
          1.1535300048605661,
          1.6867537415227332,
          0.8653924553506258,
          0.09391272810759516,
          1.656229284641602,
          0.7677079444986633,
          0.8046134447094648,
          0.8022283573943454,
          1.6867369975536408,
          0.802006445650167,
          0.865885236863568,
          1.6867397538476423,
          1.0898553894029985,
          0.8658777586639421,
          1.1535311872899914,
          2.405049100652501,
          1.7837784803858348,
          0.619573123400578,
          0.8021982675347368,
          1.6867233696267931,
          0.7672049200135078,
          1.7649560801590354,
          0.8908471323432001,
          0.7677211402557148,
          1.1427916850923534,
          0.7677278445698652,
          1.4363518356886251,
          0.865864994305066,
          0.8021131266971375,
          1.1533263312982283,
          0.760845482405633,
          0.7677116334694705,
          0.06734833486888311,
          1.7834395928214757,
          1.1535344941306709,
          0.7676117077407688,
          0.7674532434661282,
          1.433008714649532,
          1.153463517863237,
          1.6505598629831422,
          0.8650707553231385,
          0.8658622562236014,
          0.8658636310278195,
          1.6229708858333656,
          1.0897265555787927,
          1.1535087665046266,
          0.8658502923008423,
          0.7677206671641299,
          1.1535292815104174,
          0.8658742409027134,
          0.8658853925940616,
          0.8022753403749535,
          0.10997841941050546,
          1.8461498562662377,
          1.7834281983162885,
          0.8658958119725119,
          1.1528063266356297,
          1.783471234664354,
          1.623076932213452,
          1.7473903052068465,
          1.783286818524342,
          1.8468088280371604,
          1.9705901451173602,
          1.1535205056844398,
          1.7166976470236415,
          1.15352987402923,
          1.7834332563447075,
          0.8658695357851643,
          0.8658628337094812,
          1.7834395928214757,
          1.153500223069405,
          0.7677251081196262,
          0.8658735742457895,
          0.6860517915921769,
          0.8658732568357763,
          0.865536268389294,
          1.1535282510771112,
          0.8658095952550278,
          0.7957800121121553,
          0.8658788638100368,
          0.8658840522697123,
          1.5596411654281588,
          0.5745266608310166,
          0.8656220989733766,
          0.7677213040929912,
          1.15352749323657,
          0.8658778302550755,
          0.8658729857251194,
          0.8021905917152479,
          0.14262033735112367,
          1.6230743923999076,
          0.8656735367247944,
          0.8022126534611687,
          1.1534809183729735,
          1.8316246028339136,
          1.1535076621323692,
          1.78342080116725,
          1.1534836758990823,
          1.7833597997082056,
          1.1533002659102571,
          0.8658750455502278,
          0.8658696554265585,
          0.8653437977405662,
          0.6635156540566222,
          1.1535147080264572,
          0.8012345158191327,
          1.7834313412248506,
          0.8658349813753734,
          1.7296786329241527,
          0.703961613458786,
          1.6505441379783943,
          1.7503406851037924,
          1.4330258497747221,
          1.4329857152765466,
          1.80856526805296,
          1.6867336066048686,
          0.8418127195155144,
          1.6867398280989367,
          1.707285292965564,
          1.8085786382150983,
          1.1535296899894167,
          0.8022161275463614,
          3.367328515661448,
          1.7834118037925726,
          0.8658650886900752,
          0.865883865510297,
          1.7697234478146766,
          1.6830538910750783,
          1.1535184735727357,
          0.44140216170354013,
          0.86587661533153,
          0.7310854890545726,
          0.8683437276144503,
          0.7677080901845617,
          1.4325654730362942,
          1.7563961603799718,
          0.8658740982911798,
          1.6232130837597585,
          1.6613330376058528,
          0.8658821484556762,
          0.7021655277195215,
          1.1534653685245804,
          1.9704465711004735,
          1.426165281402516,
          1.6866897372057195,
          0.865807729194707,
          1.3693538938783985,
          1.5596405837479723,
          0.8404490844662225,
          0.8658063622367437,
          1.1535185350727097,
          1.559589884263434,
          0.8655927255023895,
          0.8658834143775952,
          1.0898554148733863,
          1.6505584767421067,
          0.04419400571148656,
          0.1511415956648713,
          0.8658366895243275,
          1.6227205409384753,
          3.959308300525635,
          0.7833188181689111,
          1.1535178750920656,
          1.1358176856110256,
          0.8021607259132159,
          1.6879478563658699,
          1.4330073774937566,
          0.8658834082368023,
          0.8658824370149952,
          0.80203701176529,
          1.607535482720596,
          1.7834034157665306,
          0.8658717786388153,
          2.0029062401317654,
          1.6232490525412824,
          1.7834041813229646,
          0.7532510011994832,
          0.8635764003475751,
          0.6018845754370972,
          0.802218089537223,
          0.8637303505160916,
          0.8021980970185487,
          1.8504703171812096,
          0.8658464242586326,
          1.701261773342406,
          0.14620977055169543,
          1.5592949805889678,
          0.7040312889626903,
          1.8067528789614722,
          0.8169067757541705,
          1.5596367853636408,
          1.62331034141878,
          0.7930856301837929,
          0.7947319114212142,
          1.5596134918223434,
          0.8653454155243118,
          1.089841919916614,
          1.1535137834372422,
          0.8021142496927712,
          1.7833332590327737,
          0.8669762820721406,
          1.0898126985352936,
          0.8564942787283285,
          2.046838779864056,
          1.0721598341873142,
          0.34230716404142786,
          1.0955429459996135,
          1.623293605022378,
          -0.036356061314358805,
          0.8658782642723597,
          1.6233069008066343,
          1.5596392158645511,
          0.8355785125142945,
          1.0898549004582472,
          0.8658460769319855,
          1.135645085042796,
          1.8481035776917554,
          1.1533085047812073,
          1.1535222981011266,
          1.970410872910248,
          0.8519993197675872,
          1.1536107140652163,
          0.8657776955710632,
          0.8658621818341392,
          0.7040565562599606,
          0.8658879299878328,
          1.1534040827771532,
          0.8605265419400215,
          0.7735474073854867,
          1.1531526200257882,
          0.86589643005579,
          0.8658016902824173,
          1.1534845658729946,
          0.8658323587093167,
          1.7834402077048759,
          0.7729427452402099,
          0.7676996525919357,
          1.9705751462627032,
          0.8001025297842996,
          0.865805554296081,
          0.441526167950981,
          1.686742805281212,
          1.9709587704577238,
          1.9709923671357001,
          0.7038552548608231,
          1.7834422075785854,
          2.2042562733199844,
          0.8675094669652957,
          0.8657543984708311,
          0.8022188903397147
         ],
         "z": [
          -0.5758214589787125,
          -0.5761225335180763,
          -0.6951508481173738,
          -0.5840995873888781,
          -0.02455527217768016,
          -0.43497975882711354,
          -0.1725612355094735,
          -0.7142354124157889,
          -0.5758266515761087,
          -0.5760020013270399,
          -0.5758564246778974,
          -0.575821472254514,
          -0.5758217565893995,
          -0.28157633146485517,
          -0.4213527050906784,
          -0.23785668221774828,
          -0.4360208003953494,
          -0.5758471078365068,
          -0.3221523424978203,
          -0.5841020364728179,
          -0.5618110938528632,
          -0.31945013808121203,
          -0.435443634502276,
          -0.31340455194343836,
          -0.6861029370753697,
          -0.6860884661772056,
          -0.32264302161332703,
          -0.575885727432087,
          -0.5758427061366926,
          -0.5841508618928386,
          -0.3216898337722914,
          -0.5840969693231162,
          -0.44255172278469856,
          -0.5840973996121162,
          -0.576137510537104,
          -0.5758359702012243,
          -0.2453245186083867,
          -0.584098957006509,
          -0.6860935627017591,
          -0.5758658868256725,
          -0.1749890924546384,
          -0.3269647588976835,
          -0.4349906176908574,
          -0.42136686967774406,
          -0.31340764013738587,
          -0.6860847630099064,
          -0.3134507280317103,
          -0.5758218760228822,
          -0.6860862000262725,
          -0.32167623809922646,
          -0.575824803795592,
          -0.5840973990735279,
          -0.21858457905756595,
          -0.7773297072874109,
          -0.06306837459394955,
          -0.313428567089663,
          -0.6860908258636323,
          -0.43499395435075316,
          -0.7142312292022601,
          -0.5510057238249955,
          -0.4349804352899277,
          -0.5872845186903893,
          -0.43498082256096987,
          -0.5672142667462926,
          -0.5758241157113193,
          -0.3134119429404152,
          -0.5841008397368657,
          -0.32414009119600623,
          -0.43498067911159677,
          -0.2707312628550032,
          -0.23786079861971487,
          -0.5841353784133391,
          -0.43498020994052056,
          -0.43498532392309497,
          -0.5643771690520889,
          -0.5841042290022626,
          -0.3142408645583757,
          -0.576057241163584,
          -0.5758228505195503,
          -0.5758501098211587,
          -0.4236645136360094,
          -0.32186366236874964,
          -0.5841015101110614,
          -0.5758339376958337,
          -0.43497955942314503,
          -0.584097162978497,
          -0.5758222425495851,
          -0.5758220101454107,
          -0.3134481041211704,
          -0.19321257914852435,
          -0.7459150271156404,
          -0.23787627968662456,
          -0.5758309838110913,
          -0.5841757411231985,
          -0.23789741839110745,
          -0.42366333338988454,
          -0.6250742899150402,
          -0.23786084749477487,
          -0.7406301537252948,
          0.023077732760690875,
          -0.5841022520977189,
          -0.712280837397395,
          -0.5840980729973644,
          -0.23786939387605854,
          -0.5758264063251906,
          -0.5758222549033507,
          -0.23786079861971487,
          -0.5840988362746163,
          -0.4349829157680874,
          -0.5758272894057889,
          -0.5505353150362728,
          -0.57582467394842,
          -0.5758261083404707,
          -0.584097212355677,
          -0.5758241820171505,
          -0.32308458168361526,
          -0.5758224766759027,
          -0.5758224089685606,
          -0.3299847966845253,
          -0.37930116541697106,
          -0.5758294579939515,
          -0.4349801079766591,
          -0.5840985991581201,
          -0.5758248654532908,
          -0.5758215987205142,
          -0.3134008775092783,
          -0.26938978057925395,
          -0.4236667785770573,
          -0.5761079675114724,
          -0.3134102411085642,
          -0.5841009468591105,
          -0.7797483715169375,
          -0.5841286640377166,
          -0.23788690780308902,
          -0.5841033217721173,
          -0.23797007572798767,
          -0.5841327274399908,
          -0.5758230349116433,
          -0.5758218532936774,
          -0.5758239805711317,
          -0.1727648310013642,
          -0.584101943055594,
          -0.31348853186143444,
          -0.23785837612858837,
          -0.5758277774627343,
          -0.7259938876875592,
          -0.17256121242941172,
          -0.3142584712143333,
          -0.8342441301716964,
          -0.5643544532195511,
          -0.5643714134274613,
          -0.8269966359407109,
          -0.6860902740825048,
          -0.5785103631919462,
          -0.6860904320440112,
          -0.3279404709163163,
          -0.8270081509620428,
          -0.584100562901304,
          -0.3134052604372999,
          1.5468213800264883,
          -0.23785635154441584,
          -0.5758271255479346,
          -0.5758226623025676,
          -0.02377506560929061,
          -0.2479911432568192,
          -0.5840990966929606,
          -0.322694942254781,
          -0.5758218205206507,
          -0.0759012305467744,
          -0.5896496891489929,
          -0.43500573253035074,
          -0.5645153719313251,
          -0.7045093452471166,
          -0.5758221197257307,
          -0.5924125172688995,
          -0.28626637318418136,
          -0.5758261432295982,
          -0.17513637444295407,
          -0.5841081649688064,
          0.023025728897411762,
          -0.572493652699013,
          -0.6861368068577276,
          -0.5758534904481878,
          -0.30193553134140866,
          -0.3299866378025314,
          -0.5773359356480028,
          -0.5758242080940748,
          -0.5841099232678134,
          -0.32998981476282957,
          -0.5759915272578631,
          -0.5758221800820189,
          -0.3216767284532845,
          -0.3142356891106438,
          0.08749133787432335,
          -0.24884332264134656,
          -0.5758887376557356,
          -0.42372995531933194,
          5.533984023734776,
          -0.3933738002572149,
          -0.5840976444173722,
          -0.2889781462490424,
          -0.31340747648052325,
          -0.19763607695806373,
          -0.564357280719947,
          -0.5758217063755298,
          -0.5758218067484767,
          -0.31347705302792583,
          -0.2518043815306364,
          -0.23786149362118653,
          -0.5758243376901843,
          0.013514109689897481,
          -0.592443495299103,
          -0.23785840561293867,
          -0.12098201189698432,
          -0.5762326087357166,
          0.2320476551926411,
          -0.31341097583047683,
          -0.5787438461235654,
          -0.31340218883925264,
          -0.7403145009917773,
          -0.5758277958469218,
          -0.4518145982472646,
          -0.3984266354705845,
          -0.32998409105774984,
          -0.1725744619027664,
          -0.11907189339169756,
          -0.38341288365423537,
          -0.32998383487052463,
          -0.5924050094743677,
          -0.3134403789354974,
          -0.3383198101825101,
          -0.33000077836363545,
          -0.5758253738836548,
          -0.32168103215620103,
          -0.584105830932716,
          -0.31343115375612013,
          -0.2378582182608271,
          -0.38853410282610734,
          -0.321676944107412,
          -0.576165454383829,
          0.41813101294486116,
          -0.02655838909253008,
          0.4932796410154994,
          -0.32656526475717296,
          -0.5924134770299719,
          0.03444639111180896,
          -0.5758257076674219,
          -0.5924085502350099,
          -0.32998235410643534,
          -0.5847579268608099,
          -0.32167567647136297,
          -0.5758274967126474,
          -0.2890355982153073,
          -0.740571399012111,
          -0.5841023497289898,
          -0.5841037958124604,
          0.022822265008840856,
          -0.5802572830065525,
          -0.5841658913254346,
          -0.5758229398815791,
          -0.5758274344608423,
          -0.17255909548096443,
          -0.575824195469949,
          -0.5842221394773777,
          -0.5761250986936287,
          -0.4400769886110337,
          -0.5842397766348583,
          -0.5758385424000695,
          -0.5759372888204978,
          -0.5841546773765893,
          -0.5758512816736269,
          -0.237856175591428,
          -0.32360570037804076,
          -0.4350008077618711,
          0.02307429409150543,
          -0.31626509222788907,
          -0.5758937749188334,
          -0.32264255907834427,
          -0.6860842000990791,
          0.0228188072538953,
          0.022789872192405886,
          -0.17284430608745352,
          -0.23785772660273544,
          -0.09911663089156915,
          -0.030955360421019516,
          -0.5758262961949521,
          -0.3133999550761453
         ]
        },
        {
         "customdata": [
          [
           "SHA-256"
          ],
          [
           "Ethash"
          ],
          [
           "Scrypt"
          ],
          [
           "CryptoNight-V7"
          ],
          [
           "Ethash"
          ],
          [
           "Equihash"
          ],
          [
           "Scrypt"
          ],
          [
           "X11"
          ],
          [
           "Scrypt"
          ],
          [
           "Scrypt"
          ],
          [
           "SHA-256"
          ],
          [
           "Scrypt"
          ],
          [
           "Scrypt"
          ],
          [
           "Quark"
          ],
          [
           "Groestl"
          ],
          [
           "Scrypt"
          ],
          [
           "Scrypt"
          ],
          [
           "Scrypt"
          ],
          [
           "X11"
          ],
          [
           "SHA-256"
          ],
          [
           "Scrypt"
          ],
          [
           "Scrypt"
          ],
          [
           "Scrypt"
          ],
          [
           "Scrypt"
          ],
          [
           "Scrypt"
          ],
          [
           "NeoScrypt"
          ],
          [
           "Scrypt"
          ],
          [
           "Scrypt"
          ],
          [
           "Scrypt"
          ],
          [
           "Scrypt"
          ],
          [
           "SHA-256"
          ],
          [
           "Scrypt"
          ],
          [
           "Scrypt"
          ],
          [
           "Scrypt"
          ],
          [
           "Scrypt"
          ],
          [
           "HybridScryptHash256"
          ],
          [
           "Scrypt"
          ],
          [
           "Scrypt"
          ],
          [
           "SHA-256"
          ],
          [
           "Scrypt"
          ],
          [
           "Scrypt"
          ],
          [
           "Scrypt"
          ],
          [
           "Scrypt"
          ],
          [
           "SHA-256"
          ],
          [
           "SHA-256"
          ],
          [
           "SHA-256"
          ],
          [
           "SHA-256"
          ],
          [
           "SHA-256"
          ],
          [
           "X11"
          ],
          [
           "Scrypt"
          ],
          [
           "Lyra2REv2"
          ],
          [
           "Scrypt"
          ],
          [
           "SHA-256"
          ],
          [
           "CryptoNight"
          ],
          [
           "CryptoNight"
          ],
          [
           "Scrypt"
          ],
          [
           "Scrypt"
          ],
          [
           "Scrypt"
          ],
          [
           "Scrypt"
          ],
          [
           "Scrypt"
          ],
          [
           "Scrypt"
          ],
          [
           "Stanford Folding"
          ],
          [
           "QuBit"
          ],
          [
           "Scrypt"
          ],
          [
           "Scrypt"
          ],
          [
           "M7 POW"
          ],
          [
           "Scrypt"
          ],
          [
           "SHA-256"
          ],
          [
           "Scrypt"
          ],
          [
           "X11"
          ],
          [
           "Lyra2RE"
          ],
          [
           "SHA-256"
          ],
          [
           "X11"
          ],
          [
           "Scrypt"
          ],
          [
           "Scrypt"
          ],
          [
           "Ethash"
          ],
          [
           "Blake2b"
          ],
          [
           "X11"
          ],
          [
           "SHA-256"
          ],
          [
           "Scrypt"
          ],
          [
           "1GB AES Pattern Search"
          ],
          [
           "Scrypt"
          ],
          [
           "SHA-256"
          ],
          [
           "X11"
          ],
          [
           "Dagger"
          ],
          [
           "Scrypt"
          ],
          [
           "X11GOST"
          ],
          [
           "Scrypt"
          ],
          [
           "X11"
          ],
          [
           "Scrypt"
          ],
          [
           "X11"
          ],
          [
           "Equihash"
          ],
          [
           "CryptoNight"
          ],
          [
           "SHA-256"
          ],
          [
           "Scrypt"
          ],
          [
           "SHA-256"
          ],
          [
           "Scrypt"
          ],
          [
           "Lyra2Z"
          ],
          [
           "Ethash"
          ],
          [
           "Equihash"
          ],
          [
           "Scrypt"
          ],
          [
           "X11"
          ],
          [
           "X11"
          ],
          [
           "CryptoNight"
          ],
          [
           "Scrypt"
          ],
          [
           "CryptoNight"
          ],
          [
           "Lyra2RE"
          ],
          [
           "X11"
          ],
          [
           "CryptoNight-V7"
          ],
          [
           "Scrypt"
          ],
          [
           "X11"
          ],
          [
           "Equihash"
          ],
          [
           "Scrypt"
          ],
          [
           "Lyra2RE"
          ],
          [
           "Dagger-Hashimoto"
          ],
          [
           "Scrypt"
          ],
          [
           "NIST5"
          ],
          [
           "Scrypt"
          ],
          [
           "SHA-256"
          ],
          [
           "Scrypt"
          ],
          [
           "CryptoNight-V7"
          ],
          [
           "Argon2d"
          ],
          [
           "Blake2b"
          ],
          [
           "Cloverhash"
          ],
          [
           "CryptoNight"
          ],
          [
           "X11"
          ],
          [
           "Scrypt"
          ],
          [
           "Scrypt"
          ],
          [
           "X11"
          ],
          [
           "X11"
          ],
          [
           "CryptoNight"
          ],
          [
           "Time Travel"
          ],
          [
           "Scrypt"
          ],
          [
           "Keccak"
          ],
          [
           "X11"
          ],
          [
           "SHA-256"
          ],
          [
           "Scrypt"
          ],
          [
           "Scrypt"
          ],
          [
           "Scrypt"
          ],
          [
           "Scrypt"
          ],
          [
           "Scrypt"
          ],
          [
           "Scrypt"
          ],
          [
           "CryptoNight"
          ],
          [
           "Equihash"
          ],
          [
           "X11"
          ],
          [
           "NeoScrypt"
          ],
          [
           "Equihash"
          ],
          [
           "Dagger"
          ],
          [
           "Scrypt"
          ],
          [
           "X11"
          ],
          [
           "NeoScrypt"
          ],
          [
           "Ethash"
          ],
          [
           "NeoScrypt"
          ],
          [
           "CryptoNight"
          ],
          [
           "CryptoNight"
          ],
          [
           "Ethash"
          ],
          [
           "X11"
          ],
          [
           "CryptoNight-V7"
          ],
          [
           "Scrypt"
          ],
          [
           "BLAKE256"
          ],
          [
           "X11"
          ],
          [
           "NeoScrypt"
          ],
          [
           "NeoScrypt"
          ],
          [
           "Scrypt"
          ],
          [
           "X11"
          ],
          [
           "SHA-256"
          ],
          [
           "C11"
          ],
          [
           "CryptoNight"
          ],
          [
           "SkunkHash"
          ],
          [
           "CryptoNight"
          ],
          [
           "Scrypt"
          ],
          [
           "Dagger"
          ],
          [
           "Lyra2REv2"
          ],
          [
           "Scrypt"
          ],
          [
           "Scrypt"
          ],
          [
           "X11"
          ],
          [
           "Ethash"
          ],
          [
           "CryptoNight"
          ],
          [
           "Scrypt"
          ],
          [
           "IMesh"
          ],
          [
           "Equihash"
          ],
          [
           "Lyra2Z"
          ],
          [
           "X11"
          ],
          [
           "CryptoNight"
          ],
          [
           "NIST5"
          ],
          [
           "Lyra2RE"
          ],
          [
           "Tribus"
          ],
          [
           "Lyra2Z"
          ],
          [
           "CryptoNight"
          ],
          [
           "CryptoNight Heavy"
          ],
          [
           "CryptoNight"
          ],
          [
           "Jump Consistent Hash"
          ],
          [
           "CryptoNight"
          ],
          [
           "X16R"
          ],
          [
           "HMQ1725"
          ],
          [
           "X11"
          ],
          [
           "Scrypt"
          ],
          [
           "CryptoNight-V7"
          ],
          [
           "Cryptonight-GPU"
          ],
          [
           "XEVAN"
          ],
          [
           "CryptoNight Heavy"
          ],
          [
           "SHA-256"
          ],
          [
           "X11"
          ],
          [
           "X16R"
          ],
          [
           "Equihash"
          ],
          [
           "Lyra2Z"
          ],
          [
           "SHA-256"
          ],
          [
           "CryptoNight"
          ],
          [
           "Blake"
          ],
          [
           "Blake"
          ],
          [
           "Exosis"
          ],
          [
           "Scrypt"
          ],
          [
           "Equihash"
          ],
          [
           "Equihash"
          ],
          [
           "QuBit"
          ],
          [
           "SHA-256"
          ],
          [
           "X13"
          ],
          [
           "SHA-256"
          ],
          [
           "Scrypt"
          ],
          [
           "NeoScrypt"
          ],
          [
           "Blake"
          ],
          [
           "Scrypt"
          ],
          [
           "SHA-256"
          ],
          [
           "Scrypt"
          ],
          [
           "Groestl"
          ],
          [
           "Scrypt"
          ],
          [
           "Scrypt"
          ],
          [
           "Equihash+Scrypt"
          ],
          [
           "Ethash"
          ],
          [
           "CryptoNight"
          ],
          [
           "Equihash"
          ]
         ],
         "hovertemplate": "<b>%{hovertext}</b><br><br>Class=%{marker.color}<br>PC 1=%{x}<br>PC 2=%{y}<br>PC 3=%{z}<br>Algorithm=%{customdata[0]}<extra></extra>",
         "hovertext": [
          "Bitcoin",
          "Ethereum",
          "Litecoin",
          "Monero",
          "Ethereum Classic",
          "ZCash",
          "ProsperCoin",
          "Spreadcoin",
          "Argentum",
          "MoonCoin",
          "ZetaCoin",
          "SexCoin",
          "Quatloo",
          "QuarkCoin",
          "Riecoin",
          "Digitalcoin ",
          "Catcoin",
          "CannaCoin",
          "CryptCoin",
          "DevCoin",
          "EarthCoin",
          "E-Gulden",
          "Einsteinium",
          "Emerald",
          "Franko",
          "FeatherCoin",
          "GrandCoin",
          "GlobalCoin",
          "GoldCoin",
          "Infinite Coin",
          "IXcoin",
          "KrugerCoin",
          "LuckyCoin",
          "Litebar ",
          "MegaCoin",
          "MediterraneanCoin",
          "MinCoin",
          "NobleCoin",
          "Namecoin",
          "NyanCoin",
          "RonPaulCoin",
          "StableCoin",
          "SmartCoin",
          "SysCoin",
          "TigerCoin",
          "TerraCoin",
          "UnbreakableCoin",
          "Unobtanium",
          "UroCoin",
          "ViaCoin",
          "Vertcoin",
          "WorldCoin",
          "JouleCoin",
          "ByteCoin",
          "DigitalNote ",
          "MonaCoin",
          "Gulden",
          "PesetaCoin",
          "Wild Beast Coin",
          "Flo",
          "ArtByte",
          "Folding Coin",
          "CypherPunkCoin",
          "OmniCron",
          "GreenCoin",
          "Cryptonite",
          "MasterCoin",
          "SoonCoin",
          "1Credit",
          "MarsCoin ",
          "Crypto",
          "Anarchists Prime",
          "BowsCoin",
          "Song Coin",
          "BitZeny",
          "Expanse",
          "Siacoin",
          "MindCoin",
          "I0coin",
          "Revolution VR",
          "HOdlcoin",
          "Gamecredits",
          "CarpeDiemCoin",
          "Adzcoin",
          "SoilCoin",
          "YoCoin",
          "SibCoin",
          "Francs",
          "BolivarCoin",
          "Omni",
          "PizzaCoin",
          "Komodo",
          "Karbo",
          "ZayedCoin",
          "DopeCoin",
          "DollarCoin",
          "Shilling",
          "ZCoin",
          "Elementrem",
          "ZClassic",
          "KiloCoin",
          "ArtexCoin",
          "Kurrent",
          "Cannabis Industry Coin",
          "OsmiumCoin",
          "Bikercoins",
          "HexxCoin",
          "PacCoin",
          "Citadel",
          "BeaverCoin",
          "VaultCoin",
          "Zero",
          "Canada eCoin",
          "Zoin",
          "DubaiCoin",
          "EB3coin",
          "Coinonat",
          "BenjiRolls",
          "ILCoin",
          "EquiTrader",
          "Quantum Resistant Ledger",
          "Dynamic",
          "Nano",
          "ChanCoin",
          "Dinastycoin",
          "DigitalPrice",
          "Unify",
          "SocialCoin",
          "ArcticCoin",
          "DAS",
          "LeviarCoin",
          "Bitcore",
          "gCn Coin",
          "SmartCash",
          "Onix",
          "Bitcoin Cash",
          "Sojourn Coin",
          "NewYorkCoin",
          "FrazCoin",
          "Kronecoin",
          "AdCoin",
          "Linx",
          "Sumokoin",
          "BitcoinZ",
          "Elements",
          "VIVO Coin",
          "Bitcoin Gold",
          "Pirl",
          "eBoost",
          "Pura",
          "Innova",
          "Ellaism",
          "GoByte",
          "UltraNote",
          "BitCoal",
          "DaxxCoin",
          "AC3",
          "Lethean",
          "PopularCoin",
          "Photon",
          "Sucre",
          "SparksPay",
          "GunCoin",
          "IrishCoin",
          "Pioneer Coin",
          "UnitedBitcoin",
          "Interzone",
          "TurtleCoin",
          "MUNcoin",
          "Niobio Cash",
          "ShareChain",
          "Travelflex",
          "KREDS",
          "BitFlip",
          "LottoCoin",
          "Crypto Improvement Fund",
          "Callisto Network",
          "BitTube",
          "Poseidon",
          "Aidos Kuneen",
          "Bitrolium",
          "Alpenschillling",
          "FuturoCoin",
          "Monero Classic",
          "Jumpcoin",
          "Infinex",
          "KEYCO",
          "GINcoin",
          "PlatinCoin",
          "Loki",
          "Newton Coin",
          "MassGrid",
          "PluraCoin",
          "Motion",
          "PlusOneCoin",
          "Axe",
          "HexCoin",
          "Webchain",
          "Ryo",
          "Urals Coin",
          "Qwertycoin",
          "Project Pai",
          "Azart",
          "Xchange",
          "CrypticCoin",
          "Actinium",
          "Bitcoin SV",
          "FREDEnergy",
          "Universal Molecule",
          "Lithium",
          "Exosis",
          "Block-Logic",
          "Beam",
          "Bithereum",
          "SLICE",
          "BLAST",
          "Bitcoin Rhodium",
          "GlobalToken",
          "SolarCoin",
          "UFO Coin",
          "BlakeCoin",
          "Crypto Escudo",
          "Crown Coin",
          "SmileyCoin",
          "Groestlcoin",
          "Bata",
          "Pakcoin",
          "Vollar",
          "Reality Clash",
          "Beldex",
          "Horizen"
         ],
         "legendgroup": "0",
         "marker": {
          "color": [
           0,
           0,
           0,
           0,
           0,
           0,
           0,
           0,
           0,
           0,
           0,
           0,
           0,
           0,
           0,
           0,
           0,
           0,
           0,
           0,
           0,
           0,
           0,
           0,
           0,
           0,
           0,
           0,
           0,
           0,
           0,
           0,
           0,
           0,
           0,
           0,
           0,
           0,
           0,
           0,
           0,
           0,
           0,
           0,
           0,
           0,
           0,
           0,
           0,
           0,
           0,
           0,
           0,
           0,
           0,
           0,
           0,
           0,
           0,
           0,
           0,
           0,
           0,
           0,
           0,
           0,
           0,
           0,
           0,
           0,
           0,
           0,
           0,
           0,
           0,
           0,
           0,
           0,
           0,
           0,
           0,
           0,
           0,
           0,
           0,
           0,
           0,
           0,
           0,
           0,
           0,
           0,
           0,
           0,
           0,
           0,
           0,
           0,
           0,
           0,
           0,
           0,
           0,
           0,
           0,
           0,
           0,
           0,
           0,
           0,
           0,
           0,
           0,
           0,
           0,
           0,
           0,
           0,
           0,
           0,
           0,
           0,
           0,
           0,
           0,
           0,
           0,
           0,
           0,
           0,
           0,
           0,
           0,
           0,
           0,
           0,
           0,
           0,
           0,
           0,
           0,
           0,
           0,
           0,
           0,
           0,
           0,
           0,
           0,
           0,
           0,
           0,
           0,
           0,
           0,
           0,
           0,
           0,
           0,
           0,
           0,
           0,
           0,
           0,
           0,
           0,
           0,
           0,
           0,
           0,
           0,
           0,
           0,
           0,
           0,
           0,
           0,
           0,
           0,
           0,
           0,
           0,
           0,
           0,
           0,
           0,
           0,
           0,
           0,
           0,
           0,
           0,
           0,
           0,
           0,
           0,
           0,
           0,
           0,
           0,
           0,
           0,
           0,
           0,
           0,
           0,
           0,
           0,
           0,
           0,
           0,
           0,
           0,
           0,
           0,
           0,
           0,
           0,
           0,
           0,
           0,
           0,
           0,
           0,
           0,
           0,
           0,
           0,
           0,
           0,
           0
          ],
          "coloraxis": "coloraxis",
          "symbol": "diamond"
         },
         "mode": "markers",
         "name": "0",
         "scene": "scene",
         "showlegend": true,
         "type": "scatter3d",
         "x": [
          -0.14497198794918395,
          -0.1394254010347817,
          -0.15815220429175494,
          -0.15462434164095426,
          -0.13787989883953228,
          -0.17106932034095584,
          -0.15928893954882994,
          -0.23588181932319538,
          -0.1589085804375418,
          2.540848333911185,
          -0.14208113618877963,
          -0.15618661272780468,
          -0.1587141447760954,
          -0.22553118200370456,
          -0.19527652002701557,
          -0.15876268714758504,
          -0.15927135612105084,
          -0.15935710561306587,
          -0.23597041034525662,
          0.22974181920664855,
          0.08730977564175411,
          -0.15910552629718847,
          -0.1547471527592344,
          -0.15904529608190757,
          -0.15941363146258639,
          -0.16902336746682495,
          -0.1388073195993917,
          -0.15821875608654376,
          -0.1584938403047499,
          1.574971866509532,
          -0.14493368533726197,
          -0.1558055530448466,
          -0.15913174699554206,
          -0.1594836152029277,
          -0.15874900846830933,
          -0.1445304189835621,
          -0.15936585867721367,
          -0.025364313921464248,
          -0.14501063699777555,
          -0.1530823946769397,
          -0.15934543524647304,
          -0.15745512942133294,
          -0.15883642752146104,
          -0.13226868771415787,
          -0.14447886436935656,
          -0.14476364898386496,
          -0.14474664235506476,
          -0.14533261929176736,
          -0.23614289286441112,
          -0.15906432439015597,
          -0.19207683579222876,
          -0.1561912314777251,
          -0.1445455950453112,
          3.830933345517546,
          0.4581508590464089,
          -0.15794123834122883,
          -0.14266525047304787,
          -0.15667071349338357,
          -0.15948580118453207,
          -0.15653692148148476,
          -0.14287450850267727,
          -0.11514538834161256,
          -0.17011852311060457,
          -0.15935995366362138,
          -0.0333408579356178,
          -0.09803128765725612,
          -0.15949462542245121,
          -0.14503817871842686,
          0.48745459173126726,
          -0.2355351631957333,
          -0.15584073609957014,
          -0.14478013215969013,
          -0.23581768640866782,
          -0.15763358579419656,
          -0.1568325425107261,
          -0.14048373735521277,
          0.38321027648894473,
          -0.23585280055377592,
          -0.14493479816112775,
          -0.15548605198122042,
          -0.1328823661071055,
          -0.15806987568980316,
          0.2700737211998697,
          -0.2350204041704278,
          -0.14158859796796103,
          -0.15831490033421508,
          -0.15229323345936407,
          -0.15928625127218216,
          -0.23581632391471943,
          -0.15949468343156015,
          -0.23596502199493716,
          -0.3636897268590869,
          0.3043364472303052,
          -0.14519271563187083,
          -0.15668473385627732,
          -0.1451516932484142,
          -0.15916083600886194,
          -0.14040477359737535,
          -0.14022804976221506,
          -0.17109075392152392,
          -0.08680703767034818,
          -0.22266052661653282,
          -0.2338108846094977,
          0.3043308980224447,
          -0.15947656883777125,
          0.30446051873064905,
          -0.15637679178031041,
          0.47356421156621165,
          -0.15339887396157395,
          -0.15944512284451517,
          -0.2287572903566655,
          -0.17110303788666098,
          -0.15759388998806476,
          -0.15609752308686387,
          -0.16373591148944275,
          -0.13060141003024112,
          -0.18017859880583986,
          -0.1590111003977377,
          -0.11179483454602519,
          -0.15883454624569943,
          -0.15325810068746415,
          -0.14084556521209918,
          -0.013694070063440011,
          -0.14244098693549107,
          0.3401533390922652,
          -0.23502866980866477,
          -0.15915128467403425,
          -0.15891647628072794,
          -0.23542014170707165,
          -0.23599283826252027,
          0.3047226500714287,
          -0.12040956465589503,
          3.2219733712516425,
          -0.10756531383395829,
          -0.22693860894261697,
          -0.1449711592599096,
          -0.08566278094723219,
          1.572697047738188,
          -0.15924829919897543,
          -0.15870436982167557,
          -0.15840782630274586,
          -0.15839486814790754,
          0.3049048250129907,
          0.03949545232244789,
          -0.19076059805302328,
          -0.17367340374367618,
          -0.17095038159100184,
          -0.14035777883545092,
          -0.15759211434207118,
          -0.2315739105261421,
          -0.1735200640241993,
          -0.13860622936138822,
          -0.17361946536298836,
          1.1354619789317726,
          0.30431378388008984,
          -0.06409858260135344,
          -0.23131697114908437,
          -0.14245941458752145,
          -0.07632825060522845,
          1.1175169627083268,
          -0.23596705436362966,
          -0.17367100432016977,
          -0.16676627015342071,
          -0.15850550149814735,
          -0.23589308357386668,
          -0.1449507344627038,
          -0.19097318853455134,
          7.980014730878922,
          -0.13770816801398067,
          0.3081564748370347,
          0.03194271940015089,
          -0.13986540951290682,
          -0.17775386469470136,
          -0.1590744418654919,
          0.14546058353673566,
          -0.23008203497830945,
          -0.09202135482209471,
          0.31217316259726013,
          -0.1593095081775638,
          -0.15773792200463735,
          -0.16994986210155014,
          -0.13820611402670624,
          -0.23506909626729916,
          0.304494774560397,
          -0.18023765171754436,
          -0.15622328624365517,
          -0.12194212595408378,
          -0.1404884724776645,
          0.30839170349645273,
          0.5837253761018839,
          2.098281442617762,
          -0.14595809942938845,
          0.3179877274901197,
          -0.19119860386564078,
          -0.16806586868249798,
          -0.2359493617353102,
          -0.1593338775430977,
          -0.14233767121298774,
          -0.14664409954801008,
          -0.10289605596098313,
          3.0855252730952825,
          -0.10513247794613552,
          -0.23592095625484583,
          -0.19063090842697114,
          -0.06656307075341426,
          -0.13989107669545797,
          -0.14497119650660467,
          0.3836065026221839,
          -0.1380933605761473,
          -0.13848233941083904,
          -0.12177308699635422,
          -0.15823522956570227,
          -0.16902609587325723,
          -0.17078458424489126,
          -0.16933583997120072,
          -0.1442533298078863,
          -0.10538480696125538,
          -0.14313050866823085,
          0.5310228303457498,
          -0.09945759787968274,
          -0.08934356712314258,
          -0.14302381687758367,
          -0.14476302477666664,
          0.5504455770129841,
          -0.19484117126244876,
          -0.1594101240806213,
          -0.15738255946938443,
          -0.12959301389093297,
          -0.14026093298072553,
          0.32589117115592325,
          -0.17107036832063688
         ],
         "y": [
          -1.293302563894798,
          -1.953133712462367,
          -1.1951688534241995,
          -2.2153179820342976,
          -1.953245475263046,
          -2.033676202685574,
          -1.1951536567813297,
          -0.9075054050125029,
          -1.1951748011821657,
          -1.4029342103475673,
          -1.2933328432853062,
          -1.195236938082886,
          -1.1951958808704874,
          -0.43776580067336246,
          -1.2564621608072328,
          -1.195159226857271,
          -1.1951531778773874,
          -1.1951497547392838,
          -0.9075063525885612,
          -1.2984670615345346,
          -1.1983126434709777,
          -1.195148661320238,
          -1.195234213196371,
          -1.19515508002107,
          -1.1951498991824756,
          -1.6195835678695047,
          -1.1956212397015518,
          -1.195160408952114,
          -1.1951695464819447,
          -1.2142817571868534,
          -1.2933015206811453,
          -1.1952378575350722,
          -1.195148642820918,
          -1.195144562437367,
          -1.19515433679093,
          -2.1376782447409837,
          -1.1951476926213518,
          -1.202480419092232,
          -1.2933036165440266,
          -1.195216131744985,
          -1.1951551955036244,
          -1.1952714875264514,
          -1.1951634581137005,
          -1.2935917820892773,
          -1.2933081907703643,
          -1.293312275179371,
          -1.293339652639618,
          -1.2932971836223615,
          -0.907497862660746,
          -1.1951490044387083,
          -1.266301598793755,
          -1.1952483619102363,
          -1.2933085341875774,
          -2.3174277746682947,
          -2.281465843978813,
          -1.195178581077805,
          -1.19591635673589,
          -1.195188863401395,
          -1.1951455583001411,
          -1.1951805407339535,
          -1.195423854923196,
          -2.1733666113322436,
          -1.4864675010703656,
          -1.195142675309831,
          -1.199034425012937,
          -2.1072892569271833,
          -1.1951443270967048,
          -1.2933043666729986,
          -1.2449271913683768,
          -0.9075054878870423,
          -2.1966442929727044,
          -1.2933213400666441,
          -0.9075043909310302,
          -1.1952472178651856,
          -1.1952545306890348,
          -1.9531749238644187,
          -2.114804509503374,
          -0.9075016840592837,
          -1.2933015509901242,
          -1.1951885515904788,
          -2.0649331307469247,
          -1.1951666111144177,
          -1.2978274212353582,
          -0.9075288329492063,
          -2.168484672295354,
          -1.1952350845081774,
          -2.1584578381057087,
          -1.1951528509143652,
          -0.9075072844172172,
          -1.195144326456721,
          -0.9075113343725365,
          -1.5000540526235453,
          -2.2783359866796355,
          -1.2933003230992515,
          -1.1952138725181534,
          -1.2932998668771891,
          -1.1951567615801129,
          -2.1852941781595723,
          -1.9531747729375994,
          -2.0336767864526486,
          -1.2004906350642723,
          -0.907496980027865,
          -0.9076013917846004,
          -2.2783441969552087,
          -1.195145370064385,
          -2.278343597188246,
          -2.196618019219206,
          -0.9614330913018471,
          -2.2154201451060334,
          -1.1951449866798536,
          -0.9080293564762644,
          -2.0336741904247093,
          -1.1951653695025446,
          -2.1966184721675583,
          -2.1348719096329214,
          -1.1972875300270438,
          -0.6280218344829209,
          -1.1951567278809418,
          -1.294215184107948,
          -1.1951786459701514,
          -2.2153576990874226,
          -2.1593287449321568,
          -2.1258639422083974,
          -2.204576179785917,
          -2.2788184454566967,
          -0.9075407804537456,
          -1.1951486450994095,
          -1.1951830753709263,
          -0.9075221366682595,
          -0.9075076228214095,
          -2.27835770456888,
          -2.1841363112682175,
          -1.249575643460305,
          -1.1958224398243609,
          -0.9080530875731657,
          -1.2933025413245338,
          -1.2008257943777874,
          -1.1479657330029998,
          -1.1951518172480227,
          -1.1951838922580664,
          -1.1951875379508698,
          -1.195187185021309,
          -2.2783783041364827,
          -2.043311479332354,
          -0.9075805939241463,
          -1.61948382822856,
          -2.0336729632582538,
          -2.1685436880624867,
          -1.1951653211408784,
          -0.9076298484954559,
          -1.6194928395315211,
          -1.9533165430875779,
          -1.619485875871842,
          -2.3179671927693124,
          -2.278338435562841,
          -1.9584085919472092,
          -0.9077693802298834,
          -2.2157189258367636,
          -1.1965419897989211,
          -1.2089479559637544,
          -0.907507579952562,
          -1.6194793669848229,
          -1.6196422477517578,
          -1.1951638228851202,
          -0.9075079097531287,
          -1.2933013740036778,
          -1.277711891411144,
          -2.801921943773445,
          -2.1391935388685943,
          -2.278470787546753,
          -1.1972563551756092,
          -2.1684890247837085,
          -1.2666558681470494,
          -1.1951617350288637,
          -1.2003239353293818,
          -0.9076991129486405,
          -1.9566048284733053,
          -2.278847867453604,
          -1.1951542169904952,
          -2.212633143409535,
          -2.033681612803752,
          -2.1854384112104395,
          -0.9075418815126896,
          -2.278337828711062,
          -0.6280034767086211,
          -2.1966257658507495,
          -2.1386458462150886,
          -2.185288471918454,
          -2.2786578004991638,
          -2.2097133390008166,
          -2.3642759798699258,
          -2.168656281377718,
          -2.278689501400837,
          -1.244098951460401,
          -2.200528408432408,
          -0.9075079772529843,
          -1.1951556904865073,
          -2.216265476489832,
          -2.2523355091268566,
          -0.9252877047400406,
          -2.276615901614645,
          -1.2937406679977204,
          -0.9075101341937701,
          -1.2441405807973938,
          -2.036382605609286,
          -2.1853260508759225,
          -1.2933025423389881,
          -2.2820894555947553,
          -2.14582407417008,
          -2.145776136242365,
          -2.0837794535449774,
          -1.195197490065437,
          -2.0337977077060865,
          -2.033675690551719,
          -1.4865194487166473,
          -1.2933144943504729,
          -0.3742868753652324,
          -1.2933601085604298,
          -1.2482097202863018,
          -1.6203732930359096,
          -2.1495478456362713,
          -1.1954279215005608,
          -1.2933122581784036,
          -1.2124403131494152,
          -1.256465689230923,
          -1.1951452349941627,
          -1.195219690885743,
          -2.123165044722735,
          -1.9531744101542072,
          -2.278767465058769,
          -2.033676231228447
         ],
         "z": [
          0.19726058488781428,
          0.45728473127478025,
          0.05640549863720273,
          0.5353586664591802,
          0.4572826190028189,
          0.40427184818368705,
          0.05642192088150525,
          0.04814488422276287,
          0.05641998948495422,
          0.05550986643029606,
          0.19721696444928105,
          0.056386379046893455,
          0.05642128127911692,
          0.03976741797874858,
          0.21087903492368204,
          0.05641399306010584,
          0.05642150842658833,
          0.05642224202026284,
          0.04814663715594985,
          0.19188156070106302,
          0.05282878809995957,
          0.05641761855215113,
          0.05636070857375299,
          0.0564179940482538,
          0.05642325837660992,
          0.3095428827235796,
          0.05616902361441637,
          0.05640478370351497,
          0.05641160145429551,
          0.030467142328392757,
          0.19725968642246403,
          0.0563799475466035,
          0.05641807103739948,
          0.056423292807418285,
          0.056412669765555326,
          0.4056678283820294,
          0.05642193685766586,
          0.0557156486319277,
          0.19726149147954092,
          0.056327707292480954,
          0.05642324610253573,
          0.05641613467555107,
          0.05641621604051623,
          0.1971035552062003,
          0.19725324655403284,
          0.1972591119366279,
          0.19726489083685858,
          0.19726567080879445,
          0.04814775674459799,
          0.05641697722665239,
          0.2939144318689306,
          0.05638899441550824,
          0.19725448476283006,
          0.429035212249529,
          0.47978672752561385,
          0.056403983573677825,
          0.05630168942043636,
          0.05638414111959306,
          0.05642355185405956,
          0.05637996455715854,
          0.05619604743593092,
          0.4989285923100401,
          0.2529508709556739,
          0.056420720693056294,
          0.055089882898243084,
          0.4273687034364535,
          0.05642343231028381,
          0.19726213752638969,
          0.056204667056770206,
          0.04813886616758011,
          0.6238767960860209,
          0.19726141045721887,
          0.04814354242968607,
          0.056413856775263733,
          0.05640153063839991,
          0.4573123052434707,
          0.5512121881228417,
          0.04814355323135804,
          0.19725971252600208,
          0.05636344300161761,
          0.3056891053143202,
          0.056403567453073115,
          0.19103731130182128,
          0.048135082743564726,
          0.48321084237134726,
          0.056423028359906376,
          0.4936110621844537,
          0.05642169524818463,
          0.048144160767015685,
          0.05642343317840471,
          0.04814764878170213,
          0.2239108438804181,
          0.4817706384142857,
          0.1972639312653003,
          0.05638993476968185,
          0.19726311569270566,
          0.056420379122594934,
          0.5390324732342432,
          0.45730781937496695,
          0.4042723509517362,
          0.056344040449373196,
          0.04791278770642138,
          0.04813012171802819,
          0.481772556900006,
          0.05642334931855443,
          0.48177016668111006,
          0.623880300481265,
          0.04775757359910243,
          0.5353599968864183,
          0.05642271666561455,
          0.048137086823195195,
          0.4042719887996367,
          0.05639500343378422,
          0.6238755379863226,
          0.4798810134654232,
          0.05639588008875573,
          0.06788883343686512,
          0.05641776424594072,
          0.19688536935286313,
          0.05641955345778533,
          0.5353436888164085,
          0.3594157580617769,
          0.5605777047563965,
          0.6787047917628954,
          0.4812540036111745,
          0.04813787782039396,
          0.05641841175945848,
          0.05642196301575991,
          0.04814055761291671,
          0.04814730956509274,
          0.48176873251555996,
          0.5386020687272731,
          0.009619019218822312,
          0.24306453104576492,
          0.04811068340118885,
          0.19726056544922999,
          0.05639848676318024,
          0.015791267036417856,
          0.05642080500542862,
          0.056418450798219416,
          0.05641409595882076,
          0.05641379199905,
          0.48177013127143664,
          0.4027432721146184,
          0.04737585691305204,
          0.3096017232709406,
          0.40426905823437415,
          0.48320250524984953,
          0.056394961782410435,
          0.04809748302975403,
          0.3096010527154362,
          0.45731103676076423,
          0.30960123839382186,
          0.4760920991642027,
          0.4817715764649393,
          0.457143531623231,
          0.048123970865446786,
          0.5352358035069723,
          0.05528536754043854,
          0.07247883289501568,
          0.04814685106842605,
          0.30960069154152414,
          0.30951660012672594,
          0.05641053445192119,
          0.04814563617161898,
          0.19725995075723268,
          0.23887107078212863,
          0.4642947763431009,
          0.40526421976863386,
          0.4817340311655027,
          0.05355852434809683,
          0.4831818016997438,
          0.29374363310389584,
          0.056419978316418096,
          0.05226249214553639,
          0.04808687421865917,
          0.45722950659628014,
          0.48174776098349614,
          0.056422403360357753,
          0.582331276702238,
          0.4042535551659835,
          0.5390261924331069,
          0.04813882610487226,
          0.48176829015054656,
          0.06788578816644622,
          0.6238793464084698,
          0.6178754715231801,
          0.5390326645006527,
          0.4817714331124331,
          0.4791362686818146,
          0.46960207856105046,
          0.46849492564486905,
          0.4816113685854775,
          0.24884051113688066,
          0.36300413441486273,
          0.048146631141204696,
          0.056423154680600635,
          0.5353549628214281,
          0.6733152926614059,
          0.3432624949011606,
          0.4504171877571001,
          0.19666406054448213,
          0.048146615130505166,
          0.24883986318252954,
          0.4030525933738014,
          0.5390306005869003,
          0.19726056632292666,
          0.4812231736637828,
          0.5886131229522897,
          0.5886092589789559,
          0.45529398324935777,
          0.05641329883965337,
          0.40426323069180853,
          0.40426677633175584,
          0.2529487689718022,
          0.19725071800222954,
          -0.053839428562864985,
          0.19724128768993568,
          0.056174389277090626,
          0.3085067490846443,
          0.5885905284038415,
          0.056199549766315506,
          0.19725909729458344,
          0.04789896335292867,
          0.21087223699780344,
          0.05642216232063894,
          0.05640337734477657,
          0.40899535314529173,
          0.4573083114805839,
          0.48149104323362957,
          0.4042718727661723
         ]
        },
        {
         "customdata": [
          [
           "Proof-of-BibleHash"
          ],
          [
           "Proof-of-Authority"
          ],
          [
           "ECC 256K1"
          ],
          [
           "SHA3-256"
          ],
          [
           "Leased POS"
          ]
         ],
         "hovertemplate": "<b>%{hovertext}</b><br><br>Class=%{marker.color}<br>PC 1=%{x}<br>PC 2=%{y}<br>PC 3=%{z}<br>Algorithm=%{customdata[0]}<extra></extra>",
         "hovertext": [
          "BiblePay",
          "Poa Network",
          "Acute Angle Cloud",
          "Fiii",
          "Waves"
         ],
         "legendgroup": "1",
         "marker": {
          "color": [
           1,
           1,
           1,
           1,
           1
          ],
          "coloraxis": "coloraxis",
          "symbol": "square"
         },
         "mode": "markers",
         "name": "1",
         "scene": "scene",
         "showlegend": true,
         "type": "scatter3d",
         "x": [
          -0.23973062460674624,
          -0.40445855979625306,
          -0.3568302608123892,
          -0.49787155048561277,
          -0.4453652922458835
         ],
         "y": [
          3.8241247575262043,
          3.7617491299412253,
          3.6590279699749146,
          2.3360176137607933,
          3.5736993682151823
         ],
         "z": [
          12.188536945945911,
          14.790694382545823,
          8.061725617310634,
          18.903214068505807,
          11.867377812270467
         ]
        },
        {
         "customdata": [
          [
           "TRC10"
          ]
         ],
         "hovertemplate": "<b>%{hovertext}</b><br><br>Class=%{marker.color}<br>PC 1=%{x}<br>PC 2=%{y}<br>PC 3=%{z}<br>Algorithm=%{customdata[0]}<extra></extra>",
         "hovertext": [
          "BitTorrent"
         ],
         "legendgroup": "3",
         "marker": {
          "color": [
           3
          ],
          "coloraxis": "coloraxis",
          "symbol": "x"
         },
         "mode": "markers",
         "name": "3",
         "scene": "scene",
         "showlegend": true,
         "type": "scatter3d",
         "x": [
          33.77583414614056
         ],
         "y": [
          1.5763909105140295
         ],
         "z": [
          -0.5122426898015817
         ]
        }
       ],
       "layout": {
        "coloraxis": {
         "colorbar": {
          "title": {
           "text": "Class"
          }
         },
         "colorscale": [
          [
           0,
           "#0d0887"
          ],
          [
           0.1111111111111111,
           "#46039f"
          ],
          [
           0.2222222222222222,
           "#7201a8"
          ],
          [
           0.3333333333333333,
           "#9c179e"
          ],
          [
           0.4444444444444444,
           "#bd3786"
          ],
          [
           0.5555555555555556,
           "#d8576b"
          ],
          [
           0.6666666666666666,
           "#ed7953"
          ],
          [
           0.7777777777777778,
           "#fb9f3a"
          ],
          [
           0.8888888888888888,
           "#fdca26"
          ],
          [
           1,
           "#f0f921"
          ]
         ]
        },
        "legend": {
         "title": {
          "text": "Class"
         },
         "tracegroupgap": 0,
         "x": 0,
         "y": 1
        },
        "margin": {
         "t": 60
        },
        "scene": {
         "domain": {
          "x": [
           0,
           1
          ],
          "y": [
           0,
           1
          ]
         },
         "xaxis": {
          "title": {
           "text": "PC 1"
          }
         },
         "yaxis": {
          "title": {
           "text": "PC 2"
          }
         },
         "zaxis": {
          "title": {
           "text": "PC 3"
          }
         }
        },
        "template": {
         "data": {
          "bar": [
           {
            "error_x": {
             "color": "#2a3f5f"
            },
            "error_y": {
             "color": "#2a3f5f"
            },
            "marker": {
             "line": {
              "color": "#E5ECF6",
              "width": 0.5
             }
            },
            "type": "bar"
           }
          ],
          "barpolar": [
           {
            "marker": {
             "line": {
              "color": "#E5ECF6",
              "width": 0.5
             }
            },
            "type": "barpolar"
           }
          ],
          "carpet": [
           {
            "aaxis": {
             "endlinecolor": "#2a3f5f",
             "gridcolor": "white",
             "linecolor": "white",
             "minorgridcolor": "white",
             "startlinecolor": "#2a3f5f"
            },
            "baxis": {
             "endlinecolor": "#2a3f5f",
             "gridcolor": "white",
             "linecolor": "white",
             "minorgridcolor": "white",
             "startlinecolor": "#2a3f5f"
            },
            "type": "carpet"
           }
          ],
          "choropleth": [
           {
            "colorbar": {
             "outlinewidth": 0,
             "ticks": ""
            },
            "type": "choropleth"
           }
          ],
          "contour": [
           {
            "colorbar": {
             "outlinewidth": 0,
             "ticks": ""
            },
            "colorscale": [
             [
              0,
              "#0d0887"
             ],
             [
              0.1111111111111111,
              "#46039f"
             ],
             [
              0.2222222222222222,
              "#7201a8"
             ],
             [
              0.3333333333333333,
              "#9c179e"
             ],
             [
              0.4444444444444444,
              "#bd3786"
             ],
             [
              0.5555555555555556,
              "#d8576b"
             ],
             [
              0.6666666666666666,
              "#ed7953"
             ],
             [
              0.7777777777777778,
              "#fb9f3a"
             ],
             [
              0.8888888888888888,
              "#fdca26"
             ],
             [
              1,
              "#f0f921"
             ]
            ],
            "type": "contour"
           }
          ],
          "contourcarpet": [
           {
            "colorbar": {
             "outlinewidth": 0,
             "ticks": ""
            },
            "type": "contourcarpet"
           }
          ],
          "heatmap": [
           {
            "colorbar": {
             "outlinewidth": 0,
             "ticks": ""
            },
            "colorscale": [
             [
              0,
              "#0d0887"
             ],
             [
              0.1111111111111111,
              "#46039f"
             ],
             [
              0.2222222222222222,
              "#7201a8"
             ],
             [
              0.3333333333333333,
              "#9c179e"
             ],
             [
              0.4444444444444444,
              "#bd3786"
             ],
             [
              0.5555555555555556,
              "#d8576b"
             ],
             [
              0.6666666666666666,
              "#ed7953"
             ],
             [
              0.7777777777777778,
              "#fb9f3a"
             ],
             [
              0.8888888888888888,
              "#fdca26"
             ],
             [
              1,
              "#f0f921"
             ]
            ],
            "type": "heatmap"
           }
          ],
          "heatmapgl": [
           {
            "colorbar": {
             "outlinewidth": 0,
             "ticks": ""
            },
            "colorscale": [
             [
              0,
              "#0d0887"
             ],
             [
              0.1111111111111111,
              "#46039f"
             ],
             [
              0.2222222222222222,
              "#7201a8"
             ],
             [
              0.3333333333333333,
              "#9c179e"
             ],
             [
              0.4444444444444444,
              "#bd3786"
             ],
             [
              0.5555555555555556,
              "#d8576b"
             ],
             [
              0.6666666666666666,
              "#ed7953"
             ],
             [
              0.7777777777777778,
              "#fb9f3a"
             ],
             [
              0.8888888888888888,
              "#fdca26"
             ],
             [
              1,
              "#f0f921"
             ]
            ],
            "type": "heatmapgl"
           }
          ],
          "histogram": [
           {
            "marker": {
             "colorbar": {
              "outlinewidth": 0,
              "ticks": ""
             }
            },
            "type": "histogram"
           }
          ],
          "histogram2d": [
           {
            "colorbar": {
             "outlinewidth": 0,
             "ticks": ""
            },
            "colorscale": [
             [
              0,
              "#0d0887"
             ],
             [
              0.1111111111111111,
              "#46039f"
             ],
             [
              0.2222222222222222,
              "#7201a8"
             ],
             [
              0.3333333333333333,
              "#9c179e"
             ],
             [
              0.4444444444444444,
              "#bd3786"
             ],
             [
              0.5555555555555556,
              "#d8576b"
             ],
             [
              0.6666666666666666,
              "#ed7953"
             ],
             [
              0.7777777777777778,
              "#fb9f3a"
             ],
             [
              0.8888888888888888,
              "#fdca26"
             ],
             [
              1,
              "#f0f921"
             ]
            ],
            "type": "histogram2d"
           }
          ],
          "histogram2dcontour": [
           {
            "colorbar": {
             "outlinewidth": 0,
             "ticks": ""
            },
            "colorscale": [
             [
              0,
              "#0d0887"
             ],
             [
              0.1111111111111111,
              "#46039f"
             ],
             [
              0.2222222222222222,
              "#7201a8"
             ],
             [
              0.3333333333333333,
              "#9c179e"
             ],
             [
              0.4444444444444444,
              "#bd3786"
             ],
             [
              0.5555555555555556,
              "#d8576b"
             ],
             [
              0.6666666666666666,
              "#ed7953"
             ],
             [
              0.7777777777777778,
              "#fb9f3a"
             ],
             [
              0.8888888888888888,
              "#fdca26"
             ],
             [
              1,
              "#f0f921"
             ]
            ],
            "type": "histogram2dcontour"
           }
          ],
          "mesh3d": [
           {
            "colorbar": {
             "outlinewidth": 0,
             "ticks": ""
            },
            "type": "mesh3d"
           }
          ],
          "parcoords": [
           {
            "line": {
             "colorbar": {
              "outlinewidth": 0,
              "ticks": ""
             }
            },
            "type": "parcoords"
           }
          ],
          "pie": [
           {
            "automargin": true,
            "type": "pie"
           }
          ],
          "scatter": [
           {
            "marker": {
             "colorbar": {
              "outlinewidth": 0,
              "ticks": ""
             }
            },
            "type": "scatter"
           }
          ],
          "scatter3d": [
           {
            "line": {
             "colorbar": {
              "outlinewidth": 0,
              "ticks": ""
             }
            },
            "marker": {
             "colorbar": {
              "outlinewidth": 0,
              "ticks": ""
             }
            },
            "type": "scatter3d"
           }
          ],
          "scattercarpet": [
           {
            "marker": {
             "colorbar": {
              "outlinewidth": 0,
              "ticks": ""
             }
            },
            "type": "scattercarpet"
           }
          ],
          "scattergeo": [
           {
            "marker": {
             "colorbar": {
              "outlinewidth": 0,
              "ticks": ""
             }
            },
            "type": "scattergeo"
           }
          ],
          "scattergl": [
           {
            "marker": {
             "colorbar": {
              "outlinewidth": 0,
              "ticks": ""
             }
            },
            "type": "scattergl"
           }
          ],
          "scattermapbox": [
           {
            "marker": {
             "colorbar": {
              "outlinewidth": 0,
              "ticks": ""
             }
            },
            "type": "scattermapbox"
           }
          ],
          "scatterpolar": [
           {
            "marker": {
             "colorbar": {
              "outlinewidth": 0,
              "ticks": ""
             }
            },
            "type": "scatterpolar"
           }
          ],
          "scatterpolargl": [
           {
            "marker": {
             "colorbar": {
              "outlinewidth": 0,
              "ticks": ""
             }
            },
            "type": "scatterpolargl"
           }
          ],
          "scatterternary": [
           {
            "marker": {
             "colorbar": {
              "outlinewidth": 0,
              "ticks": ""
             }
            },
            "type": "scatterternary"
           }
          ],
          "surface": [
           {
            "colorbar": {
             "outlinewidth": 0,
             "ticks": ""
            },
            "colorscale": [
             [
              0,
              "#0d0887"
             ],
             [
              0.1111111111111111,
              "#46039f"
             ],
             [
              0.2222222222222222,
              "#7201a8"
             ],
             [
              0.3333333333333333,
              "#9c179e"
             ],
             [
              0.4444444444444444,
              "#bd3786"
             ],
             [
              0.5555555555555556,
              "#d8576b"
             ],
             [
              0.6666666666666666,
              "#ed7953"
             ],
             [
              0.7777777777777778,
              "#fb9f3a"
             ],
             [
              0.8888888888888888,
              "#fdca26"
             ],
             [
              1,
              "#f0f921"
             ]
            ],
            "type": "surface"
           }
          ],
          "table": [
           {
            "cells": {
             "fill": {
              "color": "#EBF0F8"
             },
             "line": {
              "color": "white"
             }
            },
            "header": {
             "fill": {
              "color": "#C8D4E3"
             },
             "line": {
              "color": "white"
             }
            },
            "type": "table"
           }
          ]
         },
         "layout": {
          "annotationdefaults": {
           "arrowcolor": "#2a3f5f",
           "arrowhead": 0,
           "arrowwidth": 1
          },
          "coloraxis": {
           "colorbar": {
            "outlinewidth": 0,
            "ticks": ""
           }
          },
          "colorscale": {
           "diverging": [
            [
             0,
             "#8e0152"
            ],
            [
             0.1,
             "#c51b7d"
            ],
            [
             0.2,
             "#de77ae"
            ],
            [
             0.3,
             "#f1b6da"
            ],
            [
             0.4,
             "#fde0ef"
            ],
            [
             0.5,
             "#f7f7f7"
            ],
            [
             0.6,
             "#e6f5d0"
            ],
            [
             0.7,
             "#b8e186"
            ],
            [
             0.8,
             "#7fbc41"
            ],
            [
             0.9,
             "#4d9221"
            ],
            [
             1,
             "#276419"
            ]
           ],
           "sequential": [
            [
             0,
             "#0d0887"
            ],
            [
             0.1111111111111111,
             "#46039f"
            ],
            [
             0.2222222222222222,
             "#7201a8"
            ],
            [
             0.3333333333333333,
             "#9c179e"
            ],
            [
             0.4444444444444444,
             "#bd3786"
            ],
            [
             0.5555555555555556,
             "#d8576b"
            ],
            [
             0.6666666666666666,
             "#ed7953"
            ],
            [
             0.7777777777777778,
             "#fb9f3a"
            ],
            [
             0.8888888888888888,
             "#fdca26"
            ],
            [
             1,
             "#f0f921"
            ]
           ],
           "sequentialminus": [
            [
             0,
             "#0d0887"
            ],
            [
             0.1111111111111111,
             "#46039f"
            ],
            [
             0.2222222222222222,
             "#7201a8"
            ],
            [
             0.3333333333333333,
             "#9c179e"
            ],
            [
             0.4444444444444444,
             "#bd3786"
            ],
            [
             0.5555555555555556,
             "#d8576b"
            ],
            [
             0.6666666666666666,
             "#ed7953"
            ],
            [
             0.7777777777777778,
             "#fb9f3a"
            ],
            [
             0.8888888888888888,
             "#fdca26"
            ],
            [
             1,
             "#f0f921"
            ]
           ]
          },
          "colorway": [
           "#636efa",
           "#EF553B",
           "#00cc96",
           "#ab63fa",
           "#FFA15A",
           "#19d3f3",
           "#FF6692",
           "#B6E880",
           "#FF97FF",
           "#FECB52"
          ],
          "font": {
           "color": "#2a3f5f"
          },
          "geo": {
           "bgcolor": "white",
           "lakecolor": "white",
           "landcolor": "#E5ECF6",
           "showlakes": true,
           "showland": true,
           "subunitcolor": "white"
          },
          "hoverlabel": {
           "align": "left"
          },
          "hovermode": "closest",
          "mapbox": {
           "style": "light"
          },
          "paper_bgcolor": "white",
          "plot_bgcolor": "#E5ECF6",
          "polar": {
           "angularaxis": {
            "gridcolor": "white",
            "linecolor": "white",
            "ticks": ""
           },
           "bgcolor": "#E5ECF6",
           "radialaxis": {
            "gridcolor": "white",
            "linecolor": "white",
            "ticks": ""
           }
          },
          "scene": {
           "xaxis": {
            "backgroundcolor": "#E5ECF6",
            "gridcolor": "white",
            "gridwidth": 2,
            "linecolor": "white",
            "showbackground": true,
            "ticks": "",
            "zerolinecolor": "white"
           },
           "yaxis": {
            "backgroundcolor": "#E5ECF6",
            "gridcolor": "white",
            "gridwidth": 2,
            "linecolor": "white",
            "showbackground": true,
            "ticks": "",
            "zerolinecolor": "white"
           },
           "zaxis": {
            "backgroundcolor": "#E5ECF6",
            "gridcolor": "white",
            "gridwidth": 2,
            "linecolor": "white",
            "showbackground": true,
            "ticks": "",
            "zerolinecolor": "white"
           }
          },
          "shapedefaults": {
           "line": {
            "color": "#2a3f5f"
           }
          },
          "ternary": {
           "aaxis": {
            "gridcolor": "white",
            "linecolor": "white",
            "ticks": ""
           },
           "baxis": {
            "gridcolor": "white",
            "linecolor": "white",
            "ticks": ""
           },
           "bgcolor": "#E5ECF6",
           "caxis": {
            "gridcolor": "white",
            "linecolor": "white",
            "ticks": ""
           }
          },
          "title": {
           "x": 0.05
          },
          "xaxis": {
           "automargin": true,
           "gridcolor": "white",
           "linecolor": "white",
           "ticks": "",
           "title": {
            "standoff": 15
           },
           "zerolinecolor": "white",
           "zerolinewidth": 2
          },
          "yaxis": {
           "automargin": true,
           "gridcolor": "white",
           "linecolor": "white",
           "ticks": "",
           "title": {
            "standoff": 15
           },
           "zerolinecolor": "white",
           "zerolinewidth": 2
          }
         }
        },
        "width": 800
       }
      },
      "text/html": [
       "<div>\n",
       "        \n",
       "        \n",
       "            <div id=\"3ce78945-96d2-4ce1-b6e7-4d21fd8b4c9e\" class=\"plotly-graph-div\" style=\"height:525px; width:800px;\"></div>\n",
       "            <script type=\"text/javascript\">\n",
       "                require([\"plotly\"], function(Plotly) {\n",
       "                    window.PLOTLYENV=window.PLOTLYENV || {};\n",
       "                    \n",
       "                if (document.getElementById(\"3ce78945-96d2-4ce1-b6e7-4d21fd8b4c9e\")) {\n",
       "                    Plotly.newPlot(\n",
       "                        '3ce78945-96d2-4ce1-b6e7-4d21fd8b4c9e',\n",
       "                        [{\"customdata\": [[\"Scrypt\"], [\"Scrypt\"], [\"X13\"], [\"X11\"], [\"SHA-512\"], [\"SHA-256\"], [\"SHA-256\"], [\"X15\"], [\"Scrypt\"], [\"Scrypt\"], [\"Scrypt\"], [\"Scrypt\"], [\"Scrypt\"], [\"Scrypt\"], [\"Groestl\"], [\"PoS\"], [\"Scrypt\"], [\"Scrypt\"], [\"X11\"], [\"X11\"], [\"SHA3\"], [\"Scrypt\"], [\"SHA-256\"], [\"Scrypt\"], [\"X13\"], [\"X13\"], [\"NeoScrypt\"], [\"Scrypt\"], [\"Scrypt\"], [\"Scrypt\"], [\"X11\"], [\"X11\"], [\"PHI1612\"], [\"X11\"], [\"Scrypt\"], [\"Scrypt\"], [\"Scrypt\"], [\"X11\"], [\"X13\"], [\"Scrypt\"], [\"Shabal256\"], [\"Counterparty\"], [\"SHA-256\"], [\"Groestl\"], [\"Scrypt\"], [\"X13\"], [\"Scrypt\"], [\"Scrypt\"], [\"X13\"], [\"X11\"], [\"Scrypt\"], [\"X11\"], [\"SHA3\"], [\"QUAIT\"], [\"X11\"], [\"Scrypt\"], [\"X13\"], [\"SHA-256\"], [\"X15\"], [\"BLAKE256\"], [\"SHA-256\"], [\"X11\"], [\"SHA-256\"], [\"NIST5\"], [\"Scrypt\"], [\"Scrypt\"], [\"X11\"], [\"Scrypt\"], [\"SHA-256\"], [\"Scrypt\"], [\"PoS\"], [\"X11\"], [\"SHA-256\"], [\"SHA-256\"], [\"NIST5\"], [\"X11\"], [\"POS 3.0\"], [\"Scrypt\"], [\"Scrypt\"], [\"Scrypt\"], [\"X13\"], [\"X11\"], [\"X11\"], [\"Scrypt\"], [\"SHA-256\"], [\"X11\"], [\"Scrypt\"], [\"Scrypt\"], [\"Scrypt\"], [\"Scrypt\"], [\"SHA-256D\"], [\"PoS\"], [\"Scrypt\"], [\"X11\"], [\"PoS\"], [\"X13\"], [\"X14\"], [\"PoS\"], [\"SHA-256D\"], [\"DPoS\"], [\"X11\"], [\"X13\"], [\"X11\"], [\"PoS\"], [\"Scrypt\"], [\"Scrypt\"], [\"PoS\"], [\"X11\"], [\"SHA-256\"], [\"Scrypt\"], [\"X11\"], [\"Scrypt\"], [\"Scrypt\"], [\"X11\"], [\"Scrypt\"], [\"Scrypt\"], [\"Scrypt\"], [\"Scrypt\"], [\"Quark\"], [\"QuBit\"], [\"Scrypt\"], [\"SHA-256\"], [\"X11\"], [\"Scrypt\"], [\"Scrypt\"], [\"Scrypt\"], [\"Scrypt\"], [\"X13\"], [\"Scrypt\"], [\"Scrypt\"], [\"X11\"], [\"Blake2S\"], [\"X11\"], [\"PoS\"], [\"X11\"], [\"PoS\"], [\"X11\"], [\"Scrypt\"], [\"Scrypt\"], [\"Scrypt\"], [\"SHA-256\"], [\"X11\"], [\"Scrypt\"], [\"PoS\"], [\"Scrypt\"], [\"X15\"], [\"SHA-256\"], [\"POS 3.0\"], [\"536\"], [\"NIST5\"], [\"NIST5\"], [\"Skein\"], [\"X13\"], [\"Scrypt\"], [\"X13\"], [\"SkunkHash v2 Raptor\"], [\"Skein\"], [\"X11\"], [\"Scrypt\"], [\"VeChainThor Authority\"], [\"PoS\"], [\"Scrypt\"], [\"Scrypt\"], [\"SHA-512\"], [\"Ouroboros\"], [\"X11\"], [\"NeoScrypt\"], [\"Scrypt\"], [\"Lyra2REv2\"], [\"Scrypt\"], [\"SHA-256\"], [\"NIST5\"], [\"PHI1612\"], [\"Scrypt\"], [\"Quark\"], [\"POS 2.0\"], [\"Scrypt\"], [\"SHA-256\"], [\"X11\"], [\"DPoS\"], [\"NIST5\"], [\"X13\"], [\"Scrypt\"], [\"NIST5\"], [\"Quark\"], [\"Scrypt\"], [\"Scrypt\"], [\"X11\"], [\"Quark\"], [\"Scrypt\"], [\"Scrypt\"], [\"X11\"], [\"POS 3.0\"], [\"Ethash\"], [\"Scrypt\"], [\"Scrypt\"], [\"X13\"], [\"SHA-256 + Hive\"], [\"C11\"], [\"X11\"], [\"XEVAN\"], [\"Scrypt\"], [\"VBFT\"], [\"NIST5\"], [\"Scrypt\"], [\"Scrypt\"], [\"Scrypt\"], [\"Green Protocol\"], [\"PoS\"], [\"Scrypt\"], [\"Semux BFT consensus\"], [\"Quark\"], [\"PoS\"], [\"X16R\"], [\"Scrypt\"], [\"XEVAN\"], [\"Scrypt\"], [\"Scrypt\"], [\"Scrypt\"], [\"SHA-256D\"], [\"Scrypt\"], [\"X15\"], [\"Scrypt\"], [\"Quark\"], [\"SHA-256\"], [\"DPoS\"], [\"X16R\"], [\"Quark\"], [\"Quark\"], [\"Scrypt\"], [\"Lyra2REv2\"], [\"Quark\"], [\"Scrypt\"], [\"X11\"], [\"X11\"], [\"Scrypt\"], [\"PoS\"], [\"Keccak\"], [\"X11\"], [\"Scrypt\"], [\"SHA-512\"], [\"XEVAN\"], [\"XEVAN\"], [\"X11\"], [\"Quark\"], [\"Equihash\"], [\"Scrypt\"], [\"Quark\"], [\"Quark\"], [\"Scrypt\"], [\"X11\"], [\"Scrypt\"], [\"XEVAN\"], [\"SHA-256D\"], [\"X11\"], [\"X11\"], [\"DPoS\"], [\"Scrypt\"], [\"X11\"], [\"Scrypt\"], [\"Scrypt\"], [\"SHA-256\"], [\"Scrypt\"], [\"X11\"], [\"Scrypt\"], [\"SHA-256\"], [\"X11\"], [\"Scrypt\"], [\"Scrypt\"], [\"X11\"], [\"Scrypt\"], [\"PoS\"], [\"X11\"], [\"SHA-256\"], [\"DPoS\"], [\"Scrypt\"], [\"Scrypt\"], [\"NeoScrypt\"], [\"X13\"], [\"DPoS\"], [\"DPoS\"], [\"SHA-256\"], [\"PoS\"], [\"PoS\"], [\"SHA-256\"], [\"Scrypt\"], [\"Scrypt\"]], \"hovertemplate\": \"<b>%{hovertext}</b><br><br>Class=%{marker.color}<br>PC 1=%{x}<br>PC 2=%{y}<br>PC 3=%{z}<br>Algorithm=%{customdata[0]}<extra></extra>\", \"hovertext\": [\"42 Coin\", \"404Coin\", \"EliteCoin\", \"Dash\", \"Bitshares\", \"BitcoinDark\", \"PayCoin\", \"KoboCoin\", \"Aurora Coin\", \"BlueCoin\", \"EnergyCoin\", \"BitBar\", \"CryptoBullion\", \"CasinoCoin\", \"Diamond\", \"Exclusive Coin\", \"FlutterCoin\", \"HoboNickels\", \"HyperStake\", \"IOCoin\", \"MaxCoin\", \"MintCoin\", \"MazaCoin\", \"Nautilus Coin\", \"NavCoin\", \"OpalCoin\", \"Orbitcoin\", \"PotCoin\", \"PhoenixCoin\", \"Reddcoin\", \"SuperCoin\", \"SyncCoin\", \"TittieCoin\", \"TorCoin\", \"UnitaryStatus Dollar\", \"UltraCoin\", \"VeriCoin\", \"X11 Coin\", \"StealthCoin\", \"ZCC Coin\", \"BurstCoin\", \"StorjCoin\", \"Neutron\", \"FairCoin\", \"RubyCoin\", \"Kore\", \"Dnotes\", \"8BIT Coin\", \"Sativa Coin\", \"Ucoin\", \"Vtorrent\", \"IslaCoin\", \"Nexus\", \"Droidz\", \"Squall Coin\", \"Diggits\", \"Paycon\", \"Emercoin\", \"EverGreenCoin\", \"Decred\", \"EDRCoin\", \"Hitcoin\", \"DubaiCoin\", \"PWR Coin\", \"BillaryCoin\", \"GPU Coin\", \"EuropeCoin\", \"ZeitCoin\", \"SwingCoin\", \"SafeExchangeCoin\", \"Nebuchadnezzar\", \"Ratecoin\", \"Revenu\", \"Clockcoin\", \"VIP Tokens\", \"BitSend\", \"Let it Ride\", \"PutinCoin\", \"iBankCoin\", \"Frankywillcoin\", \"MudraCoin\", \"Lutetium Coin\", \"GoldBlocks\", \"CarterCoin\", \"BitTokens\", \"MustangCoin\", \"ZoneCoin\", \"RootCoin\", \"BitCurrency\", \"Swiscoin\", \"BuzzCoin\", \"Opair\", \"PesoBit\", \"Halloween Coin\", \"CoffeeCoin\", \"RoyalCoin\", \"GanjaCoin V2\", \"TeamUP\", \"LanaCoin\", \"ARK\", \"InsaneCoin\", \"EmberCoin\", \"XenixCoin\", \"FreeCoin\", \"PLNCoin\", \"AquariusCoin\", \"Creatio\", \"Eternity\", \"Eurocoin\", \"BitcoinFast\", \"Stakenet\", \"BitConnect Coin\", \"MoneyCoin\", \"Enigma\", \"Russiacoin\", \"PandaCoin\", \"GameUnits\", \"GAKHcoin\", \"Allsafe\", \"LiteCreed\", \"Klingon Empire Darsek\", \"Internet of People\", \"KushCoin\", \"Printerium\", \"Impeach\", \"Zilbercoin\", \"FirstCoin\", \"FindCoin\", \"OpenChat\", \"RenosCoin\", \"VirtacoinPlus\", \"TajCoin\", \"Impact\", \"Atmos\", \"HappyCoin\", \"MacronCoin\", \"Condensate\", \"Independent Money System\", \"ArgusCoin\", \"LomoCoin\", \"ProCurrency\", \"GoldReserve\", \"GrowthCoin\", \"Phreak\", \"Degas Coin\", \"HTML5 Coin\", \"Ultimate Secure Cash\", \"QTUM\", \"Espers\", \"Denarius\", \"Virta Unique Coin\", \"Bitcoin Planet\", \"BritCoin\", \"Linda\", \"DeepOnion\", \"Signatum\", \"Cream\", \"Monoeci\", \"Draftcoin\", \"Vechain\", \"Stakecoin\", \"CoinonatX\", \"Ethereum Dark\", \"Obsidian\", \"Cardano\", \"Regalcoin\", \"TrezarCoin\", \"TerraNovaCoin\", \"Rupee\", \"WomenCoin\", \"Theresa May Coin\", \"NamoCoin\", \"LUXCoin\", \"Xios\", \"Bitcloud 2.0\", \"KekCoin\", \"BlackholeCoin\", \"Infinity Economics\", \"Magnet\", \"Lamden Tau\", \"Electra\", \"Bitcoin Diamond\", \"Cash & Back Coin\", \"Bulwark\", \"Kalkulus\", \"GermanCoin\", \"LiteCoin Ultra\", \"PhantomX\", \"Digiwage\", \"Trollcoin\", \"Litecoin Plus\", \"Monkey Project\", \"TokenPay\", \"1717 Masonic Commemorative Token\", \"My Big Coin\", \"Unified Society USDEX\", \"Tokyo Coin\", \"LitecoinCash\", \"Stipend\", \"Pushi\", \"Ellerium\", \"Velox\", \"Ontology\", \"Bitspace\", \"Briacoin\", \"Ignition\", \"MedicCoin\", \"Bitcoin Green\", \"Deviant Coin\", \"Abjcoin\", \"Semux\", \"Carebit\", \"Zealium\", \"Proton\", \"iDealCash\", \"Bitcoin Incognito\", \"HollyWoodCoin\", \"Swisscoin\", \"Xt3ch\", \"TheVig\", \"EmaratCoin\", \"Dekado\", \"Lynx\", \"Poseidon Quark\", \"BitcoinWSpectrum\", \"Muse\", \"Trivechain\", \"Dystem\", \"Giant\", \"Peony Coin\", \"Absolute Coin\", \"Vitae\", \"TPCash\", \"ARENON\", \"EUNO\", \"MMOCoin\", \"Ketan\", \"XDNA\", \"PAXEX\", \"ThunderStake\", \"Kcash\", \"Bettex coin\", \"BitMoney\", \"Junson Ming Chan Coin\", \"HerbCoin\", \"PirateCash\", \"Oduwa\", \"Galilel\", \"Crypto Sports\", \"Credit\", \"Dash Platinum\", \"Nasdacoin\", \"Beetle Coin\", \"Titan Coin\", \"Award\", \"Insane Coin\", \"ALAX\", \"LiteDoge\", \"TruckCoin\", \"OrangeCoin\", \"BitstarCoin\", \"NeosCoin\", \"HyperCoin\", \"PinkCoin\", \"AudioCoin\", \"IncaKoin\", \"Piggy Coin\", \"Genstake\", \"XiaoMiCoin\", \"CapriCoin\", \" ClubCoin\", \"Radium\", \"Creditbit \", \"OKCash\", \"Lisk\", \"HiCoin\", \"WhiteCoin\", \"FriendshipCoin\", \"Triangles Coin\", \"EOS\", \"Oxycoin\", \"TigerCash\", \"Particl\", \"Nxt\", \"ZEPHYR\", \"Gapcoin\", \"BitcoinPlus\"], \"legendgroup\": \"2\", \"marker\": {\"color\": [2, 2, 2, 2, 2, 2, 2, 2, 2, 2, 2, 2, 2, 2, 2, 2, 2, 2, 2, 2, 2, 2, 2, 2, 2, 2, 2, 2, 2, 2, 2, 2, 2, 2, 2, 2, 2, 2, 2, 2, 2, 2, 2, 2, 2, 2, 2, 2, 2, 2, 2, 2, 2, 2, 2, 2, 2, 2, 2, 2, 2, 2, 2, 2, 2, 2, 2, 2, 2, 2, 2, 2, 2, 2, 2, 2, 2, 2, 2, 2, 2, 2, 2, 2, 2, 2, 2, 2, 2, 2, 2, 2, 2, 2, 2, 2, 2, 2, 2, 2, 2, 2, 2, 2, 2, 2, 2, 2, 2, 2, 2, 2, 2, 2, 2, 2, 2, 2, 2, 2, 2, 2, 2, 2, 2, 2, 2, 2, 2, 2, 2, 2, 2, 2, 2, 2, 2, 2, 2, 2, 2, 2, 2, 2, 2, 2, 2, 2, 2, 2, 2, 2, 2, 2, 2, 2, 2, 2, 2, 2, 2, 2, 2, 2, 2, 2, 2, 2, 2, 2, 2, 2, 2, 2, 2, 2, 2, 2, 2, 2, 2, 2, 2, 2, 2, 2, 2, 2, 2, 2, 2, 2, 2, 2, 2, 2, 2, 2, 2, 2, 2, 2, 2, 2, 2, 2, 2, 2, 2, 2, 2, 2, 2, 2, 2, 2, 2, 2, 2, 2, 2, 2, 2, 2, 2, 2, 2, 2, 2, 2, 2, 2, 2, 2, 2, 2, 2, 2, 2, 2, 2, 2, 2, 2, 2, 2, 2, 2, 2, 2, 2, 2, 2, 2, 2, 2, 2, 2, 2, 2, 2, 2, 2, 2, 2, 2, 2, 2, 2, 2, 2, 2, 2, 2, 2, 2, 2, 2, 2, 2, 2, 2, 2, 2, 2, 2, 2], \"coloraxis\": \"coloraxis\", \"symbol\": \"circle\"}, \"mode\": \"markers\", \"name\": \"2\", \"scene\": \"scene\", \"showlegend\": true, \"type\": \"scatter3d\", \"x\": [-0.3328729013403835, -0.3163505983841321, 2.2850966996252264, -0.40925983196219984, -0.2879447850146062, -0.3185329083070849, -0.2683686335395024, -0.25346908592645606, -0.3325353166756696, -0.3251761735476004, -0.3313822736354403, -0.3328688703030588, -0.33285328341392034, 0.7014590029530359, -0.3697629816134296, -0.3500690811738842, -0.28153915915377126, -0.3309477735286043, -0.3390910496486348, -0.40915542469539645, -0.4260765493816595, -0.02484358640417924, -0.282143004928433, -0.2824617417022228, -0.277979670607181, -0.27859658164955386, -0.3472146288113653, -0.3272221562804784, -0.33128789914984946, 0.022219130377073557, -0.35880832888977193, -0.4095239122804431, -0.3281123947355607, -0.4094362681811291, -0.30831008960722145, -0.33156119836786746, -0.23389473437265362, -0.4094010629575073, -0.27837931094256607, -0.32404815990739017, 0.10408496378470043, -0.3257426609962319, -0.31775116880085846, -0.36918948556957737, -0.28244222767556787, -0.278671283155512, -0.2771399754138885, -0.3328551225585897, -0.27862388295699997, -0.35924931344934613, -0.33259169360900614, -0.40950559845654844, -0.43316915535138123, -0.42484595136226, -0.32663257203378754, -0.28085701446859795, -0.2781494489276204, -0.31114948141110976, -0.25589091277459486, -0.0529404522020664, -0.31850406991880287, -0.0896241005689827, -0.31856726352059517, -0.23203826874583736, -0.3324685513408763, -0.28072673779549423, -0.40669751813088434, 0.8612369286700658, -0.31836892235383457, -0.023224379431319844, -0.3497549795911713, -0.4073666906314729, -0.31712250574724066, -0.31480950392692364, -0.35236324265169555, -0.4082510590588733, -0.33644638411205113, -0.3089597727856911, -0.3325063162175498, -0.33095841009767324, -0.22721177268548934, -0.346844325192792, -0.40898380362142056, -0.33171715372654764, -0.31854833985920805, -0.4094948712649855, -0.33269395174237004, -0.33284940476084746, -0.28071720147940726, -0.25877669230526573, 0.019738853622660268, -0.3487207443927653, -0.3324668470656578, -0.3957696895017026, -0.34805522267068323, -0.2286309065437683, -0.43768899548168805, -0.34780536044550103, -0.29215394013077994, 3.705880706117484, -0.409090786505877, 0.8439054683562808, -0.40945016193463557, -0.3491806319771326, -0.33239488016635216, -0.33254787972606537, -0.3497549795911713, -0.40902848503142814, -0.31841218574318775, -0.3323956296765474, -0.482825729169528, -0.33254178329154216, -0.3281651454023833, -0.4094789047960187, -0.33175879003612946, 0.3554490850983863, -0.33273941651985056, -0.33280942162777627, -0.35344421862547126, -0.34264151714290686, -0.3290665286667893, -0.31852495439160644, -0.4093896074070219, -0.3325890650703472, -0.33271493023620047, -0.28234933606313367, -0.2895833130467362, -0.228400694092463, -0.3137279816765055, -0.2820927449873473, -0.4086612791263415, -0.39446371430280064, -0.40741035658963787, -0.3480161391033683, -0.4085600338517239, -0.34246269274341046, -0.40453414379755365, -0.3326587022822558, -0.3326578726104427, -0.32583467176570535, 0.2600291033672907, -0.40903465401252265, -0.26513225742821533, -0.3497889458609886, -0.33187581058080595, 0.8691483240829266, -0.2670695217492032, -0.3352348984628429, 0.5745882436036679, -0.35388610325330105, -0.3524006896089619, -0.430901983782093, -0.27831158662168154, 0.12829475341788513, -0.2783817962213949, -0.2799998393390838, -0.43041108517081883, -0.4093048284950125, -0.282423041470834, 4.37541832727668, -0.3496562453420662, -0.3322969076089305, -0.33279249347850426, -0.3455270839908522, 0.6618940464798599, -0.4092460972365195, -0.34225502838009175, -0.3327484451762986, -0.31609293589549337, 0.4299087515323294, -0.3168850223912203, -0.3387783829192565, -0.4135160838447005, -0.33269918786463615, -0.4020000599530308, -0.3248465992498758, -0.33257071305549096, -0.09629754807421055, -0.40804861061807496, 3.710696714961633, 0.2009499744980796, -0.27508030919610166, -0.330051909614186, -0.3035501919520899, -0.35333107598864744, 0.07822755564571682, -0.33171609395796015, -0.40862514106691483, -0.3525025653670839, -0.3193850368394366, -0.33281443724175264, -0.35922147836005636, -0.33672593062252837, -0.26396379684499244, -0.2547717951277774, -0.32839680450011804, -0.2202634795253861, -0.3815704077933216, -0.36437339693428145, -0.40932187087914473, -0.27749083676416575, -0.2815897938525655, -0.3330518037410445, -0.35348833439827654, -0.3328415626260196, -0.3328234221488169, -0.27601771052945745, -0.33755134875805026, -0.3492540611380296, -0.33254225690415284, 3.933903907726138, -0.4006794308748135, -0.34944115233525247, -0.3143475018649033, -0.2798462457699108, -0.19475070705443906, -0.2821198242218129, -0.13759471337123305, -0.282369670603456, -0.35693957675882954, -0.33202057220279235, -0.2051386210039691, 2.2290786345423785, -0.3490732858177958, -0.2671965208951609, 1.0170290638758939, -0.3637909652368128, -0.35344363747433627, -0.4036705719721174, -0.16405578766934859, -0.366123125859705, -0.35217378907700025, -0.32577527324937056, -0.3588023616815817, -0.4087996020217312, -0.27963782486405814, -0.3485481442791115, -0.340607003709559, -0.35866475698957934, -0.19345481500675069, -0.36903496581077055, -0.22738262733343673, 0.624218406014873, -0.15096309518124654, -0.40297103102992143, -0.293669837646557, -0.3325462297812071, -0.40342339207144345, -0.3535596456327666, 0.5665177232242017, -0.3592753355109566, -0.3320333246411625, -0.2719920714737267, -0.3120271342572674, -0.40638363909563446, -0.40902497616988753, 3.722835980424558, 0.09880698334813486, -0.406585694934392, -0.3314236227422134, -0.33224212535960485, -0.26840095420010907, -0.3327562418608244, -0.40072240574513884, -0.24715571061538041, -0.10006777365292935, -0.39650514768475936, -0.33204065474664096, -0.32516264958339064, -0.40562216633146136, -0.33049260878961156, -0.3500283026536432, -0.41707322937299635, -0.317060317281719, 3.7062693105963143, -0.0912572043940339, -0.3277107704366233, -0.3468434668110729, -0.27877761778186866, 3.716052657018191, 3.7172861919889812, -0.249456911696798, -0.34996471693407244, -0.36571326111820796, 2.456697549847798, -0.33093400266659617, -0.28276291994901787], \"y\": [0.8658847526081807, 0.8659449865209057, 1.5264044134290184, 1.1535217627364214, 1.7687207672290584, 0.7677203548105775, 0.7040636640634127, 1.7647848813875373, 0.8658816616446181, 0.8660943814628078, 0.8659253515195363, 0.8658844961042672, 0.8658845543058896, 0.059353280962677266, 0.8045946159139029, 1.7834456908963563, 0.09366194418166926, 0.8658492677504256, 1.0904190748049312, 1.1535246063828553, 2.0061453004766316, 0.8092443389455014, 0.7669551680389443, 0.8022159716508254, 1.6867646261656262, 1.686747823916707, 0.4415573789800925, 0.8657309443824602, 0.8658561223296741, 0.875556073617954, 1.0898820530772073, 1.1535306877602607, 1.6920511602581974, 1.15352574908808, 0.865381509677522, 0.8658472134280912, 0.17923362661711012, 1.1535300048605661, 1.6867537415227332, 0.8653924553506258, 0.09391272810759516, 1.656229284641602, 0.7677079444986633, 0.8046134447094648, 0.8022283573943454, 1.6867369975536408, 0.802006445650167, 0.865885236863568, 1.6867397538476423, 1.0898553894029985, 0.8658777586639421, 1.1535311872899914, 2.405049100652501, 1.7837784803858348, 0.619573123400578, 0.8021982675347368, 1.6867233696267931, 0.7672049200135078, 1.7649560801590354, 0.8908471323432001, 0.7677211402557148, 1.1427916850923534, 0.7677278445698652, 1.4363518356886251, 0.865864994305066, 0.8021131266971375, 1.1533263312982283, 0.760845482405633, 0.7677116334694705, 0.06734833486888311, 1.7834395928214757, 1.1535344941306709, 0.7676117077407688, 0.7674532434661282, 1.433008714649532, 1.153463517863237, 1.6505598629831422, 0.8650707553231385, 0.8658622562236014, 0.8658636310278195, 1.6229708858333656, 1.0897265555787927, 1.1535087665046266, 0.8658502923008423, 0.7677206671641299, 1.1535292815104174, 0.8658742409027134, 0.8658853925940616, 0.8022753403749535, 0.10997841941050546, 1.8461498562662377, 1.7834281983162885, 0.8658958119725119, 1.1528063266356297, 1.783471234664354, 1.623076932213452, 1.7473903052068465, 1.783286818524342, 1.8468088280371604, 1.9705901451173602, 1.1535205056844398, 1.7166976470236415, 1.15352987402923, 1.7834332563447075, 0.8658695357851643, 0.8658628337094812, 1.7834395928214757, 1.153500223069405, 0.7677251081196262, 0.8658735742457895, 0.6860517915921769, 0.8658732568357763, 0.865536268389294, 1.1535282510771112, 0.8658095952550278, 0.7957800121121553, 0.8658788638100368, 0.8658840522697123, 1.5596411654281588, 0.5745266608310166, 0.8656220989733766, 0.7677213040929912, 1.15352749323657, 0.8658778302550755, 0.8658729857251194, 0.8021905917152479, 0.14262033735112367, 1.6230743923999076, 0.8656735367247944, 0.8022126534611687, 1.1534809183729735, 1.8316246028339136, 1.1535076621323692, 1.78342080116725, 1.1534836758990823, 1.7833597997082056, 1.1533002659102571, 0.8658750455502278, 0.8658696554265585, 0.8653437977405662, 0.6635156540566222, 1.1535147080264572, 0.8012345158191327, 1.7834313412248506, 0.8658349813753734, 1.7296786329241527, 0.703961613458786, 1.6505441379783943, 1.7503406851037924, 1.4330258497747221, 1.4329857152765466, 1.80856526805296, 1.6867336066048686, 0.8418127195155144, 1.6867398280989367, 1.707285292965564, 1.8085786382150983, 1.1535296899894167, 0.8022161275463614, 3.367328515661448, 1.7834118037925726, 0.8658650886900752, 0.865883865510297, 1.7697234478146766, 1.6830538910750783, 1.1535184735727357, 0.44140216170354013, 0.86587661533153, 0.7310854890545726, 0.8683437276144503, 0.7677080901845617, 1.4325654730362942, 1.7563961603799718, 0.8658740982911798, 1.6232130837597585, 1.6613330376058528, 0.8658821484556762, 0.7021655277195215, 1.1534653685245804, 1.9704465711004735, 1.426165281402516, 1.6866897372057195, 0.865807729194707, 1.3693538938783985, 1.5596405837479723, 0.8404490844662225, 0.8658063622367437, 1.1535185350727097, 1.559589884263434, 0.8655927255023895, 0.8658834143775952, 1.0898554148733863, 1.6505584767421067, 0.04419400571148656, 0.1511415956648713, 0.8658366895243275, 1.6227205409384753, 3.959308300525635, 0.7833188181689111, 1.1535178750920656, 1.1358176856110256, 0.8021607259132159, 1.6879478563658699, 1.4330073774937566, 0.8658834082368023, 0.8658824370149952, 0.80203701176529, 1.607535482720596, 1.7834034157665306, 0.8658717786388153, 2.0029062401317654, 1.6232490525412824, 1.7834041813229646, 0.7532510011994832, 0.8635764003475751, 0.6018845754370972, 0.802218089537223, 0.8637303505160916, 0.8021980970185487, 1.8504703171812096, 0.8658464242586326, 1.701261773342406, 0.14620977055169543, 1.5592949805889678, 0.7040312889626903, 1.8067528789614722, 0.8169067757541705, 1.5596367853636408, 1.62331034141878, 0.7930856301837929, 0.7947319114212142, 1.5596134918223434, 0.8653454155243118, 1.089841919916614, 1.1535137834372422, 0.8021142496927712, 1.7833332590327737, 0.8669762820721406, 1.0898126985352936, 0.8564942787283285, 2.046838779864056, 1.0721598341873142, 0.34230716404142786, 1.0955429459996135, 1.623293605022378, -0.036356061314358805, 0.8658782642723597, 1.6233069008066343, 1.5596392158645511, 0.8355785125142945, 1.0898549004582472, 0.8658460769319855, 1.135645085042796, 1.8481035776917554, 1.1533085047812073, 1.1535222981011266, 1.970410872910248, 0.8519993197675872, 1.1536107140652163, 0.8657776955710632, 0.8658621818341392, 0.7040565562599606, 0.8658879299878328, 1.1534040827771532, 0.8605265419400215, 0.7735474073854867, 1.1531526200257882, 0.86589643005579, 0.8658016902824173, 1.1534845658729946, 0.8658323587093167, 1.7834402077048759, 0.7729427452402099, 0.7676996525919357, 1.9705751462627032, 0.8001025297842996, 0.865805554296081, 0.441526167950981, 1.686742805281212, 1.9709587704577238, 1.9709923671357001, 0.7038552548608231, 1.7834422075785854, 2.2042562733199844, 0.8675094669652957, 0.8657543984708311, 0.8022188903397147], \"z\": [-0.5758214589787125, -0.5761225335180763, -0.6951508481173738, -0.5840995873888781, -0.02455527217768016, -0.43497975882711354, -0.1725612355094735, -0.7142354124157889, -0.5758266515761087, -0.5760020013270399, -0.5758564246778974, -0.575821472254514, -0.5758217565893995, -0.28157633146485517, -0.4213527050906784, -0.23785668221774828, -0.4360208003953494, -0.5758471078365068, -0.3221523424978203, -0.5841020364728179, -0.5618110938528632, -0.31945013808121203, -0.435443634502276, -0.31340455194343836, -0.6861029370753697, -0.6860884661772056, -0.32264302161332703, -0.575885727432087, -0.5758427061366926, -0.5841508618928386, -0.3216898337722914, -0.5840969693231162, -0.44255172278469856, -0.5840973996121162, -0.576137510537104, -0.5758359702012243, -0.2453245186083867, -0.584098957006509, -0.6860935627017591, -0.5758658868256725, -0.1749890924546384, -0.3269647588976835, -0.4349906176908574, -0.42136686967774406, -0.31340764013738587, -0.6860847630099064, -0.3134507280317103, -0.5758218760228822, -0.6860862000262725, -0.32167623809922646, -0.575824803795592, -0.5840973990735279, -0.21858457905756595, -0.7773297072874109, -0.06306837459394955, -0.313428567089663, -0.6860908258636323, -0.43499395435075316, -0.7142312292022601, -0.5510057238249955, -0.4349804352899277, -0.5872845186903893, -0.43498082256096987, -0.5672142667462926, -0.5758241157113193, -0.3134119429404152, -0.5841008397368657, -0.32414009119600623, -0.43498067911159677, -0.2707312628550032, -0.23786079861971487, -0.5841353784133391, -0.43498020994052056, -0.43498532392309497, -0.5643771690520889, -0.5841042290022626, -0.3142408645583757, -0.576057241163584, -0.5758228505195503, -0.5758501098211587, -0.4236645136360094, -0.32186366236874964, -0.5841015101110614, -0.5758339376958337, -0.43497955942314503, -0.584097162978497, -0.5758222425495851, -0.5758220101454107, -0.3134481041211704, -0.19321257914852435, -0.7459150271156404, -0.23787627968662456, -0.5758309838110913, -0.5841757411231985, -0.23789741839110745, -0.42366333338988454, -0.6250742899150402, -0.23786084749477487, -0.7406301537252948, 0.023077732760690875, -0.5841022520977189, -0.712280837397395, -0.5840980729973644, -0.23786939387605854, -0.5758264063251906, -0.5758222549033507, -0.23786079861971487, -0.5840988362746163, -0.4349829157680874, -0.5758272894057889, -0.5505353150362728, -0.57582467394842, -0.5758261083404707, -0.584097212355677, -0.5758241820171505, -0.32308458168361526, -0.5758224766759027, -0.5758224089685606, -0.3299847966845253, -0.37930116541697106, -0.5758294579939515, -0.4349801079766591, -0.5840985991581201, -0.5758248654532908, -0.5758215987205142, -0.3134008775092783, -0.26938978057925395, -0.4236667785770573, -0.5761079675114724, -0.3134102411085642, -0.5841009468591105, -0.7797483715169375, -0.5841286640377166, -0.23788690780308902, -0.5841033217721173, -0.23797007572798767, -0.5841327274399908, -0.5758230349116433, -0.5758218532936774, -0.5758239805711317, -0.1727648310013642, -0.584101943055594, -0.31348853186143444, -0.23785837612858837, -0.5758277774627343, -0.7259938876875592, -0.17256121242941172, -0.3142584712143333, -0.8342441301716964, -0.5643544532195511, -0.5643714134274613, -0.8269966359407109, -0.6860902740825048, -0.5785103631919462, -0.6860904320440112, -0.3279404709163163, -0.8270081509620428, -0.584100562901304, -0.3134052604372999, 1.5468213800264883, -0.23785635154441584, -0.5758271255479346, -0.5758226623025676, -0.02377506560929061, -0.2479911432568192, -0.5840990966929606, -0.322694942254781, -0.5758218205206507, -0.0759012305467744, -0.5896496891489929, -0.43500573253035074, -0.5645153719313251, -0.7045093452471166, -0.5758221197257307, -0.5924125172688995, -0.28626637318418136, -0.5758261432295982, -0.17513637444295407, -0.5841081649688064, 0.023025728897411762, -0.572493652699013, -0.6861368068577276, -0.5758534904481878, -0.30193553134140866, -0.3299866378025314, -0.5773359356480028, -0.5758242080940748, -0.5841099232678134, -0.32998981476282957, -0.5759915272578631, -0.5758221800820189, -0.3216767284532845, -0.3142356891106438, 0.08749133787432335, -0.24884332264134656, -0.5758887376557356, -0.42372995531933194, 5.533984023734776, -0.3933738002572149, -0.5840976444173722, -0.2889781462490424, -0.31340747648052325, -0.19763607695806373, -0.564357280719947, -0.5758217063755298, -0.5758218067484767, -0.31347705302792583, -0.2518043815306364, -0.23786149362118653, -0.5758243376901843, 0.013514109689897481, -0.592443495299103, -0.23785840561293867, -0.12098201189698432, -0.5762326087357166, 0.2320476551926411, -0.31341097583047683, -0.5787438461235654, -0.31340218883925264, -0.7403145009917773, -0.5758277958469218, -0.4518145982472646, -0.3984266354705845, -0.32998409105774984, -0.1725744619027664, -0.11907189339169756, -0.38341288365423537, -0.32998383487052463, -0.5924050094743677, -0.3134403789354974, -0.3383198101825101, -0.33000077836363545, -0.5758253738836548, -0.32168103215620103, -0.584105830932716, -0.31343115375612013, -0.2378582182608271, -0.38853410282610734, -0.321676944107412, -0.576165454383829, 0.41813101294486116, -0.02655838909253008, 0.4932796410154994, -0.32656526475717296, -0.5924134770299719, 0.03444639111180896, -0.5758257076674219, -0.5924085502350099, -0.32998235410643534, -0.5847579268608099, -0.32167567647136297, -0.5758274967126474, -0.2890355982153073, -0.740571399012111, -0.5841023497289898, -0.5841037958124604, 0.022822265008840856, -0.5802572830065525, -0.5841658913254346, -0.5758229398815791, -0.5758274344608423, -0.17255909548096443, -0.575824195469949, -0.5842221394773777, -0.5761250986936287, -0.4400769886110337, -0.5842397766348583, -0.5758385424000695, -0.5759372888204978, -0.5841546773765893, -0.5758512816736269, -0.237856175591428, -0.32360570037804076, -0.4350008077618711, 0.02307429409150543, -0.31626509222788907, -0.5758937749188334, -0.32264255907834427, -0.6860842000990791, 0.0228188072538953, 0.022789872192405886, -0.17284430608745352, -0.23785772660273544, -0.09911663089156915, -0.030955360421019516, -0.5758262961949521, -0.3133999550761453]}, {\"customdata\": [[\"SHA-256\"], [\"Ethash\"], [\"Scrypt\"], [\"CryptoNight-V7\"], [\"Ethash\"], [\"Equihash\"], [\"Scrypt\"], [\"X11\"], [\"Scrypt\"], [\"Scrypt\"], [\"SHA-256\"], [\"Scrypt\"], [\"Scrypt\"], [\"Quark\"], [\"Groestl\"], [\"Scrypt\"], [\"Scrypt\"], [\"Scrypt\"], [\"X11\"], [\"SHA-256\"], [\"Scrypt\"], [\"Scrypt\"], [\"Scrypt\"], [\"Scrypt\"], [\"Scrypt\"], [\"NeoScrypt\"], [\"Scrypt\"], [\"Scrypt\"], [\"Scrypt\"], [\"Scrypt\"], [\"SHA-256\"], [\"Scrypt\"], [\"Scrypt\"], [\"Scrypt\"], [\"Scrypt\"], [\"HybridScryptHash256\"], [\"Scrypt\"], [\"Scrypt\"], [\"SHA-256\"], [\"Scrypt\"], [\"Scrypt\"], [\"Scrypt\"], [\"Scrypt\"], [\"SHA-256\"], [\"SHA-256\"], [\"SHA-256\"], [\"SHA-256\"], [\"SHA-256\"], [\"X11\"], [\"Scrypt\"], [\"Lyra2REv2\"], [\"Scrypt\"], [\"SHA-256\"], [\"CryptoNight\"], [\"CryptoNight\"], [\"Scrypt\"], [\"Scrypt\"], [\"Scrypt\"], [\"Scrypt\"], [\"Scrypt\"], [\"Scrypt\"], [\"Stanford Folding\"], [\"QuBit\"], [\"Scrypt\"], [\"Scrypt\"], [\"M7 POW\"], [\"Scrypt\"], [\"SHA-256\"], [\"Scrypt\"], [\"X11\"], [\"Lyra2RE\"], [\"SHA-256\"], [\"X11\"], [\"Scrypt\"], [\"Scrypt\"], [\"Ethash\"], [\"Blake2b\"], [\"X11\"], [\"SHA-256\"], [\"Scrypt\"], [\"1GB AES Pattern Search\"], [\"Scrypt\"], [\"SHA-256\"], [\"X11\"], [\"Dagger\"], [\"Scrypt\"], [\"X11GOST\"], [\"Scrypt\"], [\"X11\"], [\"Scrypt\"], [\"X11\"], [\"Equihash\"], [\"CryptoNight\"], [\"SHA-256\"], [\"Scrypt\"], [\"SHA-256\"], [\"Scrypt\"], [\"Lyra2Z\"], [\"Ethash\"], [\"Equihash\"], [\"Scrypt\"], [\"X11\"], [\"X11\"], [\"CryptoNight\"], [\"Scrypt\"], [\"CryptoNight\"], [\"Lyra2RE\"], [\"X11\"], [\"CryptoNight-V7\"], [\"Scrypt\"], [\"X11\"], [\"Equihash\"], [\"Scrypt\"], [\"Lyra2RE\"], [\"Dagger-Hashimoto\"], [\"Scrypt\"], [\"NIST5\"], [\"Scrypt\"], [\"SHA-256\"], [\"Scrypt\"], [\"CryptoNight-V7\"], [\"Argon2d\"], [\"Blake2b\"], [\"Cloverhash\"], [\"CryptoNight\"], [\"X11\"], [\"Scrypt\"], [\"Scrypt\"], [\"X11\"], [\"X11\"], [\"CryptoNight\"], [\"Time Travel\"], [\"Scrypt\"], [\"Keccak\"], [\"X11\"], [\"SHA-256\"], [\"Scrypt\"], [\"Scrypt\"], [\"Scrypt\"], [\"Scrypt\"], [\"Scrypt\"], [\"Scrypt\"], [\"CryptoNight\"], [\"Equihash\"], [\"X11\"], [\"NeoScrypt\"], [\"Equihash\"], [\"Dagger\"], [\"Scrypt\"], [\"X11\"], [\"NeoScrypt\"], [\"Ethash\"], [\"NeoScrypt\"], [\"CryptoNight\"], [\"CryptoNight\"], [\"Ethash\"], [\"X11\"], [\"CryptoNight-V7\"], [\"Scrypt\"], [\"BLAKE256\"], [\"X11\"], [\"NeoScrypt\"], [\"NeoScrypt\"], [\"Scrypt\"], [\"X11\"], [\"SHA-256\"], [\"C11\"], [\"CryptoNight\"], [\"SkunkHash\"], [\"CryptoNight\"], [\"Scrypt\"], [\"Dagger\"], [\"Lyra2REv2\"], [\"Scrypt\"], [\"Scrypt\"], [\"X11\"], [\"Ethash\"], [\"CryptoNight\"], [\"Scrypt\"], [\"IMesh\"], [\"Equihash\"], [\"Lyra2Z\"], [\"X11\"], [\"CryptoNight\"], [\"NIST5\"], [\"Lyra2RE\"], [\"Tribus\"], [\"Lyra2Z\"], [\"CryptoNight\"], [\"CryptoNight Heavy\"], [\"CryptoNight\"], [\"Jump Consistent Hash\"], [\"CryptoNight\"], [\"X16R\"], [\"HMQ1725\"], [\"X11\"], [\"Scrypt\"], [\"CryptoNight-V7\"], [\"Cryptonight-GPU\"], [\"XEVAN\"], [\"CryptoNight Heavy\"], [\"SHA-256\"], [\"X11\"], [\"X16R\"], [\"Equihash\"], [\"Lyra2Z\"], [\"SHA-256\"], [\"CryptoNight\"], [\"Blake\"], [\"Blake\"], [\"Exosis\"], [\"Scrypt\"], [\"Equihash\"], [\"Equihash\"], [\"QuBit\"], [\"SHA-256\"], [\"X13\"], [\"SHA-256\"], [\"Scrypt\"], [\"NeoScrypt\"], [\"Blake\"], [\"Scrypt\"], [\"SHA-256\"], [\"Scrypt\"], [\"Groestl\"], [\"Scrypt\"], [\"Scrypt\"], [\"Equihash+Scrypt\"], [\"Ethash\"], [\"CryptoNight\"], [\"Equihash\"]], \"hovertemplate\": \"<b>%{hovertext}</b><br><br>Class=%{marker.color}<br>PC 1=%{x}<br>PC 2=%{y}<br>PC 3=%{z}<br>Algorithm=%{customdata[0]}<extra></extra>\", \"hovertext\": [\"Bitcoin\", \"Ethereum\", \"Litecoin\", \"Monero\", \"Ethereum Classic\", \"ZCash\", \"ProsperCoin\", \"Spreadcoin\", \"Argentum\", \"MoonCoin\", \"ZetaCoin\", \"SexCoin\", \"Quatloo\", \"QuarkCoin\", \"Riecoin\", \"Digitalcoin \", \"Catcoin\", \"CannaCoin\", \"CryptCoin\", \"DevCoin\", \"EarthCoin\", \"E-Gulden\", \"Einsteinium\", \"Emerald\", \"Franko\", \"FeatherCoin\", \"GrandCoin\", \"GlobalCoin\", \"GoldCoin\", \"Infinite Coin\", \"IXcoin\", \"KrugerCoin\", \"LuckyCoin\", \"Litebar \", \"MegaCoin\", \"MediterraneanCoin\", \"MinCoin\", \"NobleCoin\", \"Namecoin\", \"NyanCoin\", \"RonPaulCoin\", \"StableCoin\", \"SmartCoin\", \"SysCoin\", \"TigerCoin\", \"TerraCoin\", \"UnbreakableCoin\", \"Unobtanium\", \"UroCoin\", \"ViaCoin\", \"Vertcoin\", \"WorldCoin\", \"JouleCoin\", \"ByteCoin\", \"DigitalNote \", \"MonaCoin\", \"Gulden\", \"PesetaCoin\", \"Wild Beast Coin\", \"Flo\", \"ArtByte\", \"Folding Coin\", \"CypherPunkCoin\", \"OmniCron\", \"GreenCoin\", \"Cryptonite\", \"MasterCoin\", \"SoonCoin\", \"1Credit\", \"MarsCoin \", \"Crypto\", \"Anarchists Prime\", \"BowsCoin\", \"Song Coin\", \"BitZeny\", \"Expanse\", \"Siacoin\", \"MindCoin\", \"I0coin\", \"Revolution VR\", \"HOdlcoin\", \"Gamecredits\", \"CarpeDiemCoin\", \"Adzcoin\", \"SoilCoin\", \"YoCoin\", \"SibCoin\", \"Francs\", \"BolivarCoin\", \"Omni\", \"PizzaCoin\", \"Komodo\", \"Karbo\", \"ZayedCoin\", \"DopeCoin\", \"DollarCoin\", \"Shilling\", \"ZCoin\", \"Elementrem\", \"ZClassic\", \"KiloCoin\", \"ArtexCoin\", \"Kurrent\", \"Cannabis Industry Coin\", \"OsmiumCoin\", \"Bikercoins\", \"HexxCoin\", \"PacCoin\", \"Citadel\", \"BeaverCoin\", \"VaultCoin\", \"Zero\", \"Canada eCoin\", \"Zoin\", \"DubaiCoin\", \"EB3coin\", \"Coinonat\", \"BenjiRolls\", \"ILCoin\", \"EquiTrader\", \"Quantum Resistant Ledger\", \"Dynamic\", \"Nano\", \"ChanCoin\", \"Dinastycoin\", \"DigitalPrice\", \"Unify\", \"SocialCoin\", \"ArcticCoin\", \"DAS\", \"LeviarCoin\", \"Bitcore\", \"gCn Coin\", \"SmartCash\", \"Onix\", \"Bitcoin Cash\", \"Sojourn Coin\", \"NewYorkCoin\", \"FrazCoin\", \"Kronecoin\", \"AdCoin\", \"Linx\", \"Sumokoin\", \"BitcoinZ\", \"Elements\", \"VIVO Coin\", \"Bitcoin Gold\", \"Pirl\", \"eBoost\", \"Pura\", \"Innova\", \"Ellaism\", \"GoByte\", \"UltraNote\", \"BitCoal\", \"DaxxCoin\", \"AC3\", \"Lethean\", \"PopularCoin\", \"Photon\", \"Sucre\", \"SparksPay\", \"GunCoin\", \"IrishCoin\", \"Pioneer Coin\", \"UnitedBitcoin\", \"Interzone\", \"TurtleCoin\", \"MUNcoin\", \"Niobio Cash\", \"ShareChain\", \"Travelflex\", \"KREDS\", \"BitFlip\", \"LottoCoin\", \"Crypto Improvement Fund\", \"Callisto Network\", \"BitTube\", \"Poseidon\", \"Aidos Kuneen\", \"Bitrolium\", \"Alpenschillling\", \"FuturoCoin\", \"Monero Classic\", \"Jumpcoin\", \"Infinex\", \"KEYCO\", \"GINcoin\", \"PlatinCoin\", \"Loki\", \"Newton Coin\", \"MassGrid\", \"PluraCoin\", \"Motion\", \"PlusOneCoin\", \"Axe\", \"HexCoin\", \"Webchain\", \"Ryo\", \"Urals Coin\", \"Qwertycoin\", \"Project Pai\", \"Azart\", \"Xchange\", \"CrypticCoin\", \"Actinium\", \"Bitcoin SV\", \"FREDEnergy\", \"Universal Molecule\", \"Lithium\", \"Exosis\", \"Block-Logic\", \"Beam\", \"Bithereum\", \"SLICE\", \"BLAST\", \"Bitcoin Rhodium\", \"GlobalToken\", \"SolarCoin\", \"UFO Coin\", \"BlakeCoin\", \"Crypto Escudo\", \"Crown Coin\", \"SmileyCoin\", \"Groestlcoin\", \"Bata\", \"Pakcoin\", \"Vollar\", \"Reality Clash\", \"Beldex\", \"Horizen\"], \"legendgroup\": \"0\", \"marker\": {\"color\": [0, 0, 0, 0, 0, 0, 0, 0, 0, 0, 0, 0, 0, 0, 0, 0, 0, 0, 0, 0, 0, 0, 0, 0, 0, 0, 0, 0, 0, 0, 0, 0, 0, 0, 0, 0, 0, 0, 0, 0, 0, 0, 0, 0, 0, 0, 0, 0, 0, 0, 0, 0, 0, 0, 0, 0, 0, 0, 0, 0, 0, 0, 0, 0, 0, 0, 0, 0, 0, 0, 0, 0, 0, 0, 0, 0, 0, 0, 0, 0, 0, 0, 0, 0, 0, 0, 0, 0, 0, 0, 0, 0, 0, 0, 0, 0, 0, 0, 0, 0, 0, 0, 0, 0, 0, 0, 0, 0, 0, 0, 0, 0, 0, 0, 0, 0, 0, 0, 0, 0, 0, 0, 0, 0, 0, 0, 0, 0, 0, 0, 0, 0, 0, 0, 0, 0, 0, 0, 0, 0, 0, 0, 0, 0, 0, 0, 0, 0, 0, 0, 0, 0, 0, 0, 0, 0, 0, 0, 0, 0, 0, 0, 0, 0, 0, 0, 0, 0, 0, 0, 0, 0, 0, 0, 0, 0, 0, 0, 0, 0, 0, 0, 0, 0, 0, 0, 0, 0, 0, 0, 0, 0, 0, 0, 0, 0, 0, 0, 0, 0, 0, 0, 0, 0, 0, 0, 0, 0, 0, 0, 0, 0, 0, 0, 0, 0, 0, 0, 0, 0, 0, 0, 0, 0, 0, 0, 0, 0, 0, 0, 0], \"coloraxis\": \"coloraxis\", \"symbol\": \"diamond\"}, \"mode\": \"markers\", \"name\": \"0\", \"scene\": \"scene\", \"showlegend\": true, \"type\": \"scatter3d\", \"x\": [-0.14497198794918395, -0.1394254010347817, -0.15815220429175494, -0.15462434164095426, -0.13787989883953228, -0.17106932034095584, -0.15928893954882994, -0.23588181932319538, -0.1589085804375418, 2.540848333911185, -0.14208113618877963, -0.15618661272780468, -0.1587141447760954, -0.22553118200370456, -0.19527652002701557, -0.15876268714758504, -0.15927135612105084, -0.15935710561306587, -0.23597041034525662, 0.22974181920664855, 0.08730977564175411, -0.15910552629718847, -0.1547471527592344, -0.15904529608190757, -0.15941363146258639, -0.16902336746682495, -0.1388073195993917, -0.15821875608654376, -0.1584938403047499, 1.574971866509532, -0.14493368533726197, -0.1558055530448466, -0.15913174699554206, -0.1594836152029277, -0.15874900846830933, -0.1445304189835621, -0.15936585867721367, -0.025364313921464248, -0.14501063699777555, -0.1530823946769397, -0.15934543524647304, -0.15745512942133294, -0.15883642752146104, -0.13226868771415787, -0.14447886436935656, -0.14476364898386496, -0.14474664235506476, -0.14533261929176736, -0.23614289286441112, -0.15906432439015597, -0.19207683579222876, -0.1561912314777251, -0.1445455950453112, 3.830933345517546, 0.4581508590464089, -0.15794123834122883, -0.14266525047304787, -0.15667071349338357, -0.15948580118453207, -0.15653692148148476, -0.14287450850267727, -0.11514538834161256, -0.17011852311060457, -0.15935995366362138, -0.0333408579356178, -0.09803128765725612, -0.15949462542245121, -0.14503817871842686, 0.48745459173126726, -0.2355351631957333, -0.15584073609957014, -0.14478013215969013, -0.23581768640866782, -0.15763358579419656, -0.1568325425107261, -0.14048373735521277, 0.38321027648894473, -0.23585280055377592, -0.14493479816112775, -0.15548605198122042, -0.1328823661071055, -0.15806987568980316, 0.2700737211998697, -0.2350204041704278, -0.14158859796796103, -0.15831490033421508, -0.15229323345936407, -0.15928625127218216, -0.23581632391471943, -0.15949468343156015, -0.23596502199493716, -0.3636897268590869, 0.3043364472303052, -0.14519271563187083, -0.15668473385627732, -0.1451516932484142, -0.15916083600886194, -0.14040477359737535, -0.14022804976221506, -0.17109075392152392, -0.08680703767034818, -0.22266052661653282, -0.2338108846094977, 0.3043308980224447, -0.15947656883777125, 0.30446051873064905, -0.15637679178031041, 0.47356421156621165, -0.15339887396157395, -0.15944512284451517, -0.2287572903566655, -0.17110303788666098, -0.15759388998806476, -0.15609752308686387, -0.16373591148944275, -0.13060141003024112, -0.18017859880583986, -0.1590111003977377, -0.11179483454602519, -0.15883454624569943, -0.15325810068746415, -0.14084556521209918, -0.013694070063440011, -0.14244098693549107, 0.3401533390922652, -0.23502866980866477, -0.15915128467403425, -0.15891647628072794, -0.23542014170707165, -0.23599283826252027, 0.3047226500714287, -0.12040956465589503, 3.2219733712516425, -0.10756531383395829, -0.22693860894261697, -0.1449711592599096, -0.08566278094723219, 1.572697047738188, -0.15924829919897543, -0.15870436982167557, -0.15840782630274586, -0.15839486814790754, 0.3049048250129907, 0.03949545232244789, -0.19076059805302328, -0.17367340374367618, -0.17095038159100184, -0.14035777883545092, -0.15759211434207118, -0.2315739105261421, -0.1735200640241993, -0.13860622936138822, -0.17361946536298836, 1.1354619789317726, 0.30431378388008984, -0.06409858260135344, -0.23131697114908437, -0.14245941458752145, -0.07632825060522845, 1.1175169627083268, -0.23596705436362966, -0.17367100432016977, -0.16676627015342071, -0.15850550149814735, -0.23589308357386668, -0.1449507344627038, -0.19097318853455134, 7.980014730878922, -0.13770816801398067, 0.3081564748370347, 0.03194271940015089, -0.13986540951290682, -0.17775386469470136, -0.1590744418654919, 0.14546058353673566, -0.23008203497830945, -0.09202135482209471, 0.31217316259726013, -0.1593095081775638, -0.15773792200463735, -0.16994986210155014, -0.13820611402670624, -0.23506909626729916, 0.304494774560397, -0.18023765171754436, -0.15622328624365517, -0.12194212595408378, -0.1404884724776645, 0.30839170349645273, 0.5837253761018839, 2.098281442617762, -0.14595809942938845, 0.3179877274901197, -0.19119860386564078, -0.16806586868249798, -0.2359493617353102, -0.1593338775430977, -0.14233767121298774, -0.14664409954801008, -0.10289605596098313, 3.0855252730952825, -0.10513247794613552, -0.23592095625484583, -0.19063090842697114, -0.06656307075341426, -0.13989107669545797, -0.14497119650660467, 0.3836065026221839, -0.1380933605761473, -0.13848233941083904, -0.12177308699635422, -0.15823522956570227, -0.16902609587325723, -0.17078458424489126, -0.16933583997120072, -0.1442533298078863, -0.10538480696125538, -0.14313050866823085, 0.5310228303457498, -0.09945759787968274, -0.08934356712314258, -0.14302381687758367, -0.14476302477666664, 0.5504455770129841, -0.19484117126244876, -0.1594101240806213, -0.15738255946938443, -0.12959301389093297, -0.14026093298072553, 0.32589117115592325, -0.17107036832063688], \"y\": [-1.293302563894798, -1.953133712462367, -1.1951688534241995, -2.2153179820342976, -1.953245475263046, -2.033676202685574, -1.1951536567813297, -0.9075054050125029, -1.1951748011821657, -1.4029342103475673, -1.2933328432853062, -1.195236938082886, -1.1951958808704874, -0.43776580067336246, -1.2564621608072328, -1.195159226857271, -1.1951531778773874, -1.1951497547392838, -0.9075063525885612, -1.2984670615345346, -1.1983126434709777, -1.195148661320238, -1.195234213196371, -1.19515508002107, -1.1951498991824756, -1.6195835678695047, -1.1956212397015518, -1.195160408952114, -1.1951695464819447, -1.2142817571868534, -1.2933015206811453, -1.1952378575350722, -1.195148642820918, -1.195144562437367, -1.19515433679093, -2.1376782447409837, -1.1951476926213518, -1.202480419092232, -1.2933036165440266, -1.195216131744985, -1.1951551955036244, -1.1952714875264514, -1.1951634581137005, -1.2935917820892773, -1.2933081907703643, -1.293312275179371, -1.293339652639618, -1.2932971836223615, -0.907497862660746, -1.1951490044387083, -1.266301598793755, -1.1952483619102363, -1.2933085341875774, -2.3174277746682947, -2.281465843978813, -1.195178581077805, -1.19591635673589, -1.195188863401395, -1.1951455583001411, -1.1951805407339535, -1.195423854923196, -2.1733666113322436, -1.4864675010703656, -1.195142675309831, -1.199034425012937, -2.1072892569271833, -1.1951443270967048, -1.2933043666729986, -1.2449271913683768, -0.9075054878870423, -2.1966442929727044, -1.2933213400666441, -0.9075043909310302, -1.1952472178651856, -1.1952545306890348, -1.9531749238644187, -2.114804509503374, -0.9075016840592837, -1.2933015509901242, -1.1951885515904788, -2.0649331307469247, -1.1951666111144177, -1.2978274212353582, -0.9075288329492063, -2.168484672295354, -1.1952350845081774, -2.1584578381057087, -1.1951528509143652, -0.9075072844172172, -1.195144326456721, -0.9075113343725365, -1.5000540526235453, -2.2783359866796355, -1.2933003230992515, -1.1952138725181534, -1.2932998668771891, -1.1951567615801129, -2.1852941781595723, -1.9531747729375994, -2.0336767864526486, -1.2004906350642723, -0.907496980027865, -0.9076013917846004, -2.2783441969552087, -1.195145370064385, -2.278343597188246, -2.196618019219206, -0.9614330913018471, -2.2154201451060334, -1.1951449866798536, -0.9080293564762644, -2.0336741904247093, -1.1951653695025446, -2.1966184721675583, -2.1348719096329214, -1.1972875300270438, -0.6280218344829209, -1.1951567278809418, -1.294215184107948, -1.1951786459701514, -2.2153576990874226, -2.1593287449321568, -2.1258639422083974, -2.204576179785917, -2.2788184454566967, -0.9075407804537456, -1.1951486450994095, -1.1951830753709263, -0.9075221366682595, -0.9075076228214095, -2.27835770456888, -2.1841363112682175, -1.249575643460305, -1.1958224398243609, -0.9080530875731657, -1.2933025413245338, -1.2008257943777874, -1.1479657330029998, -1.1951518172480227, -1.1951838922580664, -1.1951875379508698, -1.195187185021309, -2.2783783041364827, -2.043311479332354, -0.9075805939241463, -1.61948382822856, -2.0336729632582538, -2.1685436880624867, -1.1951653211408784, -0.9076298484954559, -1.6194928395315211, -1.9533165430875779, -1.619485875871842, -2.3179671927693124, -2.278338435562841, -1.9584085919472092, -0.9077693802298834, -2.2157189258367636, -1.1965419897989211, -1.2089479559637544, -0.907507579952562, -1.6194793669848229, -1.6196422477517578, -1.1951638228851202, -0.9075079097531287, -1.2933013740036778, -1.277711891411144, -2.801921943773445, -2.1391935388685943, -2.278470787546753, -1.1972563551756092, -2.1684890247837085, -1.2666558681470494, -1.1951617350288637, -1.2003239353293818, -0.9076991129486405, -1.9566048284733053, -2.278847867453604, -1.1951542169904952, -2.212633143409535, -2.033681612803752, -2.1854384112104395, -0.9075418815126896, -2.278337828711062, -0.6280034767086211, -2.1966257658507495, -2.1386458462150886, -2.185288471918454, -2.2786578004991638, -2.2097133390008166, -2.3642759798699258, -2.168656281377718, -2.278689501400837, -1.244098951460401, -2.200528408432408, -0.9075079772529843, -1.1951556904865073, -2.216265476489832, -2.2523355091268566, -0.9252877047400406, -2.276615901614645, -1.2937406679977204, -0.9075101341937701, -1.2441405807973938, -2.036382605609286, -2.1853260508759225, -1.2933025423389881, -2.2820894555947553, -2.14582407417008, -2.145776136242365, -2.0837794535449774, -1.195197490065437, -2.0337977077060865, -2.033675690551719, -1.4865194487166473, -1.2933144943504729, -0.3742868753652324, -1.2933601085604298, -1.2482097202863018, -1.6203732930359096, -2.1495478456362713, -1.1954279215005608, -1.2933122581784036, -1.2124403131494152, -1.256465689230923, -1.1951452349941627, -1.195219690885743, -2.123165044722735, -1.9531744101542072, -2.278767465058769, -2.033676231228447], \"z\": [0.19726058488781428, 0.45728473127478025, 0.05640549863720273, 0.5353586664591802, 0.4572826190028189, 0.40427184818368705, 0.05642192088150525, 0.04814488422276287, 0.05641998948495422, 0.05550986643029606, 0.19721696444928105, 0.056386379046893455, 0.05642128127911692, 0.03976741797874858, 0.21087903492368204, 0.05641399306010584, 0.05642150842658833, 0.05642224202026284, 0.04814663715594985, 0.19188156070106302, 0.05282878809995957, 0.05641761855215113, 0.05636070857375299, 0.0564179940482538, 0.05642325837660992, 0.3095428827235796, 0.05616902361441637, 0.05640478370351497, 0.05641160145429551, 0.030467142328392757, 0.19725968642246403, 0.0563799475466035, 0.05641807103739948, 0.056423292807418285, 0.056412669765555326, 0.4056678283820294, 0.05642193685766586, 0.0557156486319277, 0.19726149147954092, 0.056327707292480954, 0.05642324610253573, 0.05641613467555107, 0.05641621604051623, 0.1971035552062003, 0.19725324655403284, 0.1972591119366279, 0.19726489083685858, 0.19726567080879445, 0.04814775674459799, 0.05641697722665239, 0.2939144318689306, 0.05638899441550824, 0.19725448476283006, 0.429035212249529, 0.47978672752561385, 0.056403983573677825, 0.05630168942043636, 0.05638414111959306, 0.05642355185405956, 0.05637996455715854, 0.05619604743593092, 0.4989285923100401, 0.2529508709556739, 0.056420720693056294, 0.055089882898243084, 0.4273687034364535, 0.05642343231028381, 0.19726213752638969, 0.056204667056770206, 0.04813886616758011, 0.6238767960860209, 0.19726141045721887, 0.04814354242968607, 0.056413856775263733, 0.05640153063839991, 0.4573123052434707, 0.5512121881228417, 0.04814355323135804, 0.19725971252600208, 0.05636344300161761, 0.3056891053143202, 0.056403567453073115, 0.19103731130182128, 0.048135082743564726, 0.48321084237134726, 0.056423028359906376, 0.4936110621844537, 0.05642169524818463, 0.048144160767015685, 0.05642343317840471, 0.04814764878170213, 0.2239108438804181, 0.4817706384142857, 0.1972639312653003, 0.05638993476968185, 0.19726311569270566, 0.056420379122594934, 0.5390324732342432, 0.45730781937496695, 0.4042723509517362, 0.056344040449373196, 0.04791278770642138, 0.04813012171802819, 0.481772556900006, 0.05642334931855443, 0.48177016668111006, 0.623880300481265, 0.04775757359910243, 0.5353599968864183, 0.05642271666561455, 0.048137086823195195, 0.4042719887996367, 0.05639500343378422, 0.6238755379863226, 0.4798810134654232, 0.05639588008875573, 0.06788883343686512, 0.05641776424594072, 0.19688536935286313, 0.05641955345778533, 0.5353436888164085, 0.3594157580617769, 0.5605777047563965, 0.6787047917628954, 0.4812540036111745, 0.04813787782039396, 0.05641841175945848, 0.05642196301575991, 0.04814055761291671, 0.04814730956509274, 0.48176873251555996, 0.5386020687272731, 0.009619019218822312, 0.24306453104576492, 0.04811068340118885, 0.19726056544922999, 0.05639848676318024, 0.015791267036417856, 0.05642080500542862, 0.056418450798219416, 0.05641409595882076, 0.05641379199905, 0.48177013127143664, 0.4027432721146184, 0.04737585691305204, 0.3096017232709406, 0.40426905823437415, 0.48320250524984953, 0.056394961782410435, 0.04809748302975403, 0.3096010527154362, 0.45731103676076423, 0.30960123839382186, 0.4760920991642027, 0.4817715764649393, 0.457143531623231, 0.048123970865446786, 0.5352358035069723, 0.05528536754043854, 0.07247883289501568, 0.04814685106842605, 0.30960069154152414, 0.30951660012672594, 0.05641053445192119, 0.04814563617161898, 0.19725995075723268, 0.23887107078212863, 0.4642947763431009, 0.40526421976863386, 0.4817340311655027, 0.05355852434809683, 0.4831818016997438, 0.29374363310389584, 0.056419978316418096, 0.05226249214553639, 0.04808687421865917, 0.45722950659628014, 0.48174776098349614, 0.056422403360357753, 0.582331276702238, 0.4042535551659835, 0.5390261924331069, 0.04813882610487226, 0.48176829015054656, 0.06788578816644622, 0.6238793464084698, 0.6178754715231801, 0.5390326645006527, 0.4817714331124331, 0.4791362686818146, 0.46960207856105046, 0.46849492564486905, 0.4816113685854775, 0.24884051113688066, 0.36300413441486273, 0.048146631141204696, 0.056423154680600635, 0.5353549628214281, 0.6733152926614059, 0.3432624949011606, 0.4504171877571001, 0.19666406054448213, 0.048146615130505166, 0.24883986318252954, 0.4030525933738014, 0.5390306005869003, 0.19726056632292666, 0.4812231736637828, 0.5886131229522897, 0.5886092589789559, 0.45529398324935777, 0.05641329883965337, 0.40426323069180853, 0.40426677633175584, 0.2529487689718022, 0.19725071800222954, -0.053839428562864985, 0.19724128768993568, 0.056174389277090626, 0.3085067490846443, 0.5885905284038415, 0.056199549766315506, 0.19725909729458344, 0.04789896335292867, 0.21087223699780344, 0.05642216232063894, 0.05640337734477657, 0.40899535314529173, 0.4573083114805839, 0.48149104323362957, 0.4042718727661723]}, {\"customdata\": [[\"Proof-of-BibleHash\"], [\"Proof-of-Authority\"], [\"ECC 256K1\"], [\"SHA3-256\"], [\"Leased POS\"]], \"hovertemplate\": \"<b>%{hovertext}</b><br><br>Class=%{marker.color}<br>PC 1=%{x}<br>PC 2=%{y}<br>PC 3=%{z}<br>Algorithm=%{customdata[0]}<extra></extra>\", \"hovertext\": [\"BiblePay\", \"Poa Network\", \"Acute Angle Cloud\", \"Fiii\", \"Waves\"], \"legendgroup\": \"1\", \"marker\": {\"color\": [1, 1, 1, 1, 1], \"coloraxis\": \"coloraxis\", \"symbol\": \"square\"}, \"mode\": \"markers\", \"name\": \"1\", \"scene\": \"scene\", \"showlegend\": true, \"type\": \"scatter3d\", \"x\": [-0.23973062460674624, -0.40445855979625306, -0.3568302608123892, -0.49787155048561277, -0.4453652922458835], \"y\": [3.8241247575262043, 3.7617491299412253, 3.6590279699749146, 2.3360176137607933, 3.5736993682151823], \"z\": [12.188536945945911, 14.790694382545823, 8.061725617310634, 18.903214068505807, 11.867377812270467]}, {\"customdata\": [[\"TRC10\"]], \"hovertemplate\": \"<b>%{hovertext}</b><br><br>Class=%{marker.color}<br>PC 1=%{x}<br>PC 2=%{y}<br>PC 3=%{z}<br>Algorithm=%{customdata[0]}<extra></extra>\", \"hovertext\": [\"BitTorrent\"], \"legendgroup\": \"3\", \"marker\": {\"color\": [3], \"coloraxis\": \"coloraxis\", \"symbol\": \"x\"}, \"mode\": \"markers\", \"name\": \"3\", \"scene\": \"scene\", \"showlegend\": true, \"type\": \"scatter3d\", \"x\": [33.77583414614056], \"y\": [1.5763909105140295], \"z\": [-0.5122426898015817]}],\n",
       "                        {\"coloraxis\": {\"colorbar\": {\"title\": {\"text\": \"Class\"}}, \"colorscale\": [[0.0, \"#0d0887\"], [0.1111111111111111, \"#46039f\"], [0.2222222222222222, \"#7201a8\"], [0.3333333333333333, \"#9c179e\"], [0.4444444444444444, \"#bd3786\"], [0.5555555555555556, \"#d8576b\"], [0.6666666666666666, \"#ed7953\"], [0.7777777777777778, \"#fb9f3a\"], [0.8888888888888888, \"#fdca26\"], [1.0, \"#f0f921\"]]}, \"legend\": {\"title\": {\"text\": \"Class\"}, \"tracegroupgap\": 0, \"x\": 0, \"y\": 1}, \"margin\": {\"t\": 60}, \"scene\": {\"domain\": {\"x\": [0.0, 1.0], \"y\": [0.0, 1.0]}, \"xaxis\": {\"title\": {\"text\": \"PC 1\"}}, \"yaxis\": {\"title\": {\"text\": \"PC 2\"}}, \"zaxis\": {\"title\": {\"text\": \"PC 3\"}}}, \"template\": {\"data\": {\"bar\": [{\"error_x\": {\"color\": \"#2a3f5f\"}, \"error_y\": {\"color\": \"#2a3f5f\"}, \"marker\": {\"line\": {\"color\": \"#E5ECF6\", \"width\": 0.5}}, \"type\": \"bar\"}], \"barpolar\": [{\"marker\": {\"line\": {\"color\": \"#E5ECF6\", \"width\": 0.5}}, \"type\": \"barpolar\"}], \"carpet\": [{\"aaxis\": {\"endlinecolor\": \"#2a3f5f\", \"gridcolor\": \"white\", \"linecolor\": \"white\", \"minorgridcolor\": \"white\", \"startlinecolor\": \"#2a3f5f\"}, \"baxis\": {\"endlinecolor\": \"#2a3f5f\", \"gridcolor\": \"white\", \"linecolor\": \"white\", \"minorgridcolor\": \"white\", \"startlinecolor\": \"#2a3f5f\"}, \"type\": \"carpet\"}], \"choropleth\": [{\"colorbar\": {\"outlinewidth\": 0, \"ticks\": \"\"}, \"type\": \"choropleth\"}], \"contour\": [{\"colorbar\": {\"outlinewidth\": 0, \"ticks\": \"\"}, \"colorscale\": [[0.0, \"#0d0887\"], [0.1111111111111111, \"#46039f\"], [0.2222222222222222, \"#7201a8\"], [0.3333333333333333, \"#9c179e\"], [0.4444444444444444, \"#bd3786\"], [0.5555555555555556, \"#d8576b\"], [0.6666666666666666, \"#ed7953\"], [0.7777777777777778, \"#fb9f3a\"], [0.8888888888888888, \"#fdca26\"], [1.0, \"#f0f921\"]], \"type\": \"contour\"}], \"contourcarpet\": [{\"colorbar\": {\"outlinewidth\": 0, \"ticks\": \"\"}, \"type\": \"contourcarpet\"}], \"heatmap\": [{\"colorbar\": {\"outlinewidth\": 0, \"ticks\": \"\"}, \"colorscale\": [[0.0, \"#0d0887\"], [0.1111111111111111, \"#46039f\"], [0.2222222222222222, \"#7201a8\"], [0.3333333333333333, \"#9c179e\"], [0.4444444444444444, \"#bd3786\"], [0.5555555555555556, \"#d8576b\"], [0.6666666666666666, \"#ed7953\"], [0.7777777777777778, \"#fb9f3a\"], [0.8888888888888888, \"#fdca26\"], [1.0, \"#f0f921\"]], \"type\": \"heatmap\"}], \"heatmapgl\": [{\"colorbar\": {\"outlinewidth\": 0, \"ticks\": \"\"}, \"colorscale\": [[0.0, \"#0d0887\"], [0.1111111111111111, \"#46039f\"], [0.2222222222222222, \"#7201a8\"], [0.3333333333333333, \"#9c179e\"], [0.4444444444444444, \"#bd3786\"], [0.5555555555555556, \"#d8576b\"], [0.6666666666666666, \"#ed7953\"], [0.7777777777777778, \"#fb9f3a\"], [0.8888888888888888, \"#fdca26\"], [1.0, \"#f0f921\"]], \"type\": \"heatmapgl\"}], \"histogram\": [{\"marker\": {\"colorbar\": {\"outlinewidth\": 0, \"ticks\": \"\"}}, \"type\": \"histogram\"}], \"histogram2d\": [{\"colorbar\": {\"outlinewidth\": 0, \"ticks\": \"\"}, \"colorscale\": [[0.0, \"#0d0887\"], [0.1111111111111111, \"#46039f\"], [0.2222222222222222, \"#7201a8\"], [0.3333333333333333, \"#9c179e\"], [0.4444444444444444, \"#bd3786\"], [0.5555555555555556, \"#d8576b\"], [0.6666666666666666, \"#ed7953\"], [0.7777777777777778, \"#fb9f3a\"], [0.8888888888888888, \"#fdca26\"], [1.0, \"#f0f921\"]], \"type\": \"histogram2d\"}], \"histogram2dcontour\": [{\"colorbar\": {\"outlinewidth\": 0, \"ticks\": \"\"}, \"colorscale\": [[0.0, \"#0d0887\"], [0.1111111111111111, \"#46039f\"], [0.2222222222222222, \"#7201a8\"], [0.3333333333333333, \"#9c179e\"], [0.4444444444444444, \"#bd3786\"], [0.5555555555555556, \"#d8576b\"], [0.6666666666666666, \"#ed7953\"], [0.7777777777777778, \"#fb9f3a\"], [0.8888888888888888, \"#fdca26\"], [1.0, \"#f0f921\"]], \"type\": \"histogram2dcontour\"}], \"mesh3d\": [{\"colorbar\": {\"outlinewidth\": 0, \"ticks\": \"\"}, \"type\": \"mesh3d\"}], \"parcoords\": [{\"line\": {\"colorbar\": {\"outlinewidth\": 0, \"ticks\": \"\"}}, \"type\": \"parcoords\"}], \"pie\": [{\"automargin\": true, \"type\": \"pie\"}], \"scatter\": [{\"marker\": {\"colorbar\": {\"outlinewidth\": 0, \"ticks\": \"\"}}, \"type\": \"scatter\"}], \"scatter3d\": [{\"line\": {\"colorbar\": {\"outlinewidth\": 0, \"ticks\": \"\"}}, \"marker\": {\"colorbar\": {\"outlinewidth\": 0, \"ticks\": \"\"}}, \"type\": \"scatter3d\"}], \"scattercarpet\": [{\"marker\": {\"colorbar\": {\"outlinewidth\": 0, \"ticks\": \"\"}}, \"type\": \"scattercarpet\"}], \"scattergeo\": [{\"marker\": {\"colorbar\": {\"outlinewidth\": 0, \"ticks\": \"\"}}, \"type\": \"scattergeo\"}], \"scattergl\": [{\"marker\": {\"colorbar\": {\"outlinewidth\": 0, \"ticks\": \"\"}}, \"type\": \"scattergl\"}], \"scattermapbox\": [{\"marker\": {\"colorbar\": {\"outlinewidth\": 0, \"ticks\": \"\"}}, \"type\": \"scattermapbox\"}], \"scatterpolar\": [{\"marker\": {\"colorbar\": {\"outlinewidth\": 0, \"ticks\": \"\"}}, \"type\": \"scatterpolar\"}], \"scatterpolargl\": [{\"marker\": {\"colorbar\": {\"outlinewidth\": 0, \"ticks\": \"\"}}, \"type\": \"scatterpolargl\"}], \"scatterternary\": [{\"marker\": {\"colorbar\": {\"outlinewidth\": 0, \"ticks\": \"\"}}, \"type\": \"scatterternary\"}], \"surface\": [{\"colorbar\": {\"outlinewidth\": 0, \"ticks\": \"\"}, \"colorscale\": [[0.0, \"#0d0887\"], [0.1111111111111111, \"#46039f\"], [0.2222222222222222, \"#7201a8\"], [0.3333333333333333, \"#9c179e\"], [0.4444444444444444, \"#bd3786\"], [0.5555555555555556, \"#d8576b\"], [0.6666666666666666, \"#ed7953\"], [0.7777777777777778, \"#fb9f3a\"], [0.8888888888888888, \"#fdca26\"], [1.0, \"#f0f921\"]], \"type\": \"surface\"}], \"table\": [{\"cells\": {\"fill\": {\"color\": \"#EBF0F8\"}, \"line\": {\"color\": \"white\"}}, \"header\": {\"fill\": {\"color\": \"#C8D4E3\"}, \"line\": {\"color\": \"white\"}}, \"type\": \"table\"}]}, \"layout\": {\"annotationdefaults\": {\"arrowcolor\": \"#2a3f5f\", \"arrowhead\": 0, \"arrowwidth\": 1}, \"coloraxis\": {\"colorbar\": {\"outlinewidth\": 0, \"ticks\": \"\"}}, \"colorscale\": {\"diverging\": [[0, \"#8e0152\"], [0.1, \"#c51b7d\"], [0.2, \"#de77ae\"], [0.3, \"#f1b6da\"], [0.4, \"#fde0ef\"], [0.5, \"#f7f7f7\"], [0.6, \"#e6f5d0\"], [0.7, \"#b8e186\"], [0.8, \"#7fbc41\"], [0.9, \"#4d9221\"], [1, \"#276419\"]], \"sequential\": [[0.0, \"#0d0887\"], [0.1111111111111111, \"#46039f\"], [0.2222222222222222, \"#7201a8\"], [0.3333333333333333, \"#9c179e\"], [0.4444444444444444, \"#bd3786\"], [0.5555555555555556, \"#d8576b\"], [0.6666666666666666, \"#ed7953\"], [0.7777777777777778, \"#fb9f3a\"], [0.8888888888888888, \"#fdca26\"], [1.0, \"#f0f921\"]], \"sequentialminus\": [[0.0, \"#0d0887\"], [0.1111111111111111, \"#46039f\"], [0.2222222222222222, \"#7201a8\"], [0.3333333333333333, \"#9c179e\"], [0.4444444444444444, \"#bd3786\"], [0.5555555555555556, \"#d8576b\"], [0.6666666666666666, \"#ed7953\"], [0.7777777777777778, \"#fb9f3a\"], [0.8888888888888888, \"#fdca26\"], [1.0, \"#f0f921\"]]}, \"colorway\": [\"#636efa\", \"#EF553B\", \"#00cc96\", \"#ab63fa\", \"#FFA15A\", \"#19d3f3\", \"#FF6692\", \"#B6E880\", \"#FF97FF\", \"#FECB52\"], \"font\": {\"color\": \"#2a3f5f\"}, \"geo\": {\"bgcolor\": \"white\", \"lakecolor\": \"white\", \"landcolor\": \"#E5ECF6\", \"showlakes\": true, \"showland\": true, \"subunitcolor\": \"white\"}, \"hoverlabel\": {\"align\": \"left\"}, \"hovermode\": \"closest\", \"mapbox\": {\"style\": \"light\"}, \"paper_bgcolor\": \"white\", \"plot_bgcolor\": \"#E5ECF6\", \"polar\": {\"angularaxis\": {\"gridcolor\": \"white\", \"linecolor\": \"white\", \"ticks\": \"\"}, \"bgcolor\": \"#E5ECF6\", \"radialaxis\": {\"gridcolor\": \"white\", \"linecolor\": \"white\", \"ticks\": \"\"}}, \"scene\": {\"xaxis\": {\"backgroundcolor\": \"#E5ECF6\", \"gridcolor\": \"white\", \"gridwidth\": 2, \"linecolor\": \"white\", \"showbackground\": true, \"ticks\": \"\", \"zerolinecolor\": \"white\"}, \"yaxis\": {\"backgroundcolor\": \"#E5ECF6\", \"gridcolor\": \"white\", \"gridwidth\": 2, \"linecolor\": \"white\", \"showbackground\": true, \"ticks\": \"\", \"zerolinecolor\": \"white\"}, \"zaxis\": {\"backgroundcolor\": \"#E5ECF6\", \"gridcolor\": \"white\", \"gridwidth\": 2, \"linecolor\": \"white\", \"showbackground\": true, \"ticks\": \"\", \"zerolinecolor\": \"white\"}}, \"shapedefaults\": {\"line\": {\"color\": \"#2a3f5f\"}}, \"ternary\": {\"aaxis\": {\"gridcolor\": \"white\", \"linecolor\": \"white\", \"ticks\": \"\"}, \"baxis\": {\"gridcolor\": \"white\", \"linecolor\": \"white\", \"ticks\": \"\"}, \"bgcolor\": \"#E5ECF6\", \"caxis\": {\"gridcolor\": \"white\", \"linecolor\": \"white\", \"ticks\": \"\"}}, \"title\": {\"x\": 0.05}, \"xaxis\": {\"automargin\": true, \"gridcolor\": \"white\", \"linecolor\": \"white\", \"ticks\": \"\", \"title\": {\"standoff\": 15}, \"zerolinecolor\": \"white\", \"zerolinewidth\": 2}, \"yaxis\": {\"automargin\": true, \"gridcolor\": \"white\", \"linecolor\": \"white\", \"ticks\": \"\", \"title\": {\"standoff\": 15}, \"zerolinecolor\": \"white\", \"zerolinewidth\": 2}}}, \"width\": 800},\n",
       "                        {\"responsive\": true}\n",
       "                    ).then(function(){\n",
       "                            \n",
       "var gd = document.getElementById('3ce78945-96d2-4ce1-b6e7-4d21fd8b4c9e');\n",
       "var x = new MutationObserver(function (mutations, observer) {{\n",
       "        var display = window.getComputedStyle(gd).display;\n",
       "        if (!display || display === 'none') {{\n",
       "            console.log([gd, 'removed!']);\n",
       "            Plotly.purge(gd);\n",
       "            observer.disconnect();\n",
       "        }}\n",
       "}});\n",
       "\n",
       "// Listen for the removal of the full notebook cells\n",
       "var notebookContainer = gd.closest('#notebook-container');\n",
       "if (notebookContainer) {{\n",
       "    x.observe(notebookContainer, {childList: true});\n",
       "}}\n",
       "\n",
       "// Listen for the clearing of the current output cell\n",
       "var outputEl = gd.closest('.output');\n",
       "if (outputEl) {{\n",
       "    x.observe(outputEl, {childList: true});\n",
       "}}\n",
       "\n",
       "                        })\n",
       "                };\n",
       "                });\n",
       "            </script>\n",
       "        </div>"
      ]
     },
     "metadata": {},
     "output_type": "display_data"
    }
   ],
   "source": [
    "# 1: Plot the 3D-scatter\n",
    "fig = px.scatter_3d(\n",
    "    clustered_df,\n",
    "    x=\"PC 1\",\n",
    "    y=\"PC 2\",\n",
    "    z=\"PC 3\",\n",
    "    hover_name=\"CoinName\",\n",
    "    hover_data=[\"Algorithm\"],\n",
    "    color=\"Class\",\n",
    "    symbol=\"Class\",\n",
    "    width=800,\n",
    ")\n",
    "fig.update_layout(legend=dict(x=0, y=1))\n",
    "fig.show()"
   ]
  },
  {
   "cell_type": "code",
   "execution_count": 162,
   "metadata": {},
   "outputs": [
    {
     "data": {},
     "metadata": {},
     "output_type": "display_data"
    },
    {
     "data": {
      "application/vnd.holoviews_exec.v0+json": "",
      "text/html": [
       "<div id='2090'>\n",
       "\n",
       "\n",
       "\n",
       "\n",
       "\n",
       "  <div class=\"bk-root\" id=\"1c3d22a5-2eb6-4f0f-be63-0fdf27141bd8\" data-root-id=\"2090\"></div>\n",
       "</div>\n",
       "<script type=\"application/javascript\">(function(root) {\n",
       "  function embed_document(root) {\n",
       "  var docs_json = {\"5e46bf84-ae9d-4d8c-9a83-0af9af491515\":{\"roots\":{\"references\":[{\"attributes\":{},\"id\":\"2105\",\"type\":\"StringEditor\"},{\"attributes\":{\"margin\":[5,5,5,5],\"name\":\"HSpacer03851\",\"sizing_mode\":\"stretch_width\"},\"id\":\"2091\",\"type\":\"Spacer\"},{\"attributes\":{},\"id\":\"2110\",\"type\":\"NumberEditor\"},{\"attributes\":{},\"id\":\"2127\",\"type\":\"UnionRenderers\"},{\"attributes\":{},\"id\":\"2095\",\"type\":\"StringEditor\"},{\"attributes\":{},\"id\":\"2120\",\"type\":\"IntEditor\"},{\"attributes\":{\"editor\":{\"id\":\"2105\"},\"field\":\"ProofType\",\"formatter\":{\"id\":\"2104\"},\"title\":\"ProofType\"},\"id\":\"2106\",\"type\":\"TableColumn\"},{\"attributes\":{\"children\":[{\"id\":\"2091\"},{\"id\":\"2124\"},{\"id\":\"2128\"}],\"margin\":[0,0,0,0],\"name\":\"Row03847\",\"tags\":[\"embedded\"]},\"id\":\"2090\",\"type\":\"Row\"},{\"attributes\":{\"format\":\"0,0.0[00000]\"},\"id\":\"2114\",\"type\":\"NumberFormatter\"},{\"attributes\":{\"editor\":{\"id\":\"2095\"},\"field\":\"CoinName\",\"formatter\":{\"id\":\"2094\"},\"title\":\"CoinName\"},\"id\":\"2096\",\"type\":\"TableColumn\"},{\"attributes\":{\"editor\":{\"id\":\"2120\"},\"field\":\"Class\",\"formatter\":{\"id\":\"2119\"},\"title\":\"Class\"},\"id\":\"2121\",\"type\":\"TableColumn\"},{\"attributes\":{},\"id\":\"2119\",\"type\":\"NumberFormatter\"},{\"attributes\":{\"editor\":{\"id\":\"2110\"},\"field\":\"TotalCoinSupply\",\"formatter\":{\"id\":\"2109\"},\"title\":\"TotalCoinSupply\"},\"id\":\"2111\",\"type\":\"TableColumn\"},{\"attributes\":{\"margin\":[5,5,5,5],\"name\":\"HSpacer03852\",\"sizing_mode\":\"stretch_width\"},\"id\":\"2128\",\"type\":\"Spacer\"},{\"attributes\":{},\"id\":\"2099\",\"type\":\"StringFormatter\"},{\"attributes\":{},\"id\":\"2094\",\"type\":\"StringFormatter\"},{\"attributes\":{},\"id\":\"2115\",\"type\":\"NumberEditor\"},{\"attributes\":{},\"id\":\"2104\",\"type\":\"StringFormatter\"},{\"attributes\":{\"editor\":{\"id\":\"2100\"},\"field\":\"Algorithm\",\"formatter\":{\"id\":\"2099\"},\"title\":\"Algorithm\"},\"id\":\"2101\",\"type\":\"TableColumn\"},{\"attributes\":{\"editor\":{\"id\":\"2115\"},\"field\":\"TotalCoinsMined\",\"formatter\":{\"id\":\"2114\"},\"title\":\"TotalCoinsMined\"},\"id\":\"2116\",\"type\":\"TableColumn\"},{\"attributes\":{},\"id\":\"2100\",\"type\":\"StringEditor\"},{\"attributes\":{\"data\":{\"Algorithm\":[\"Scrypt\",\"Scrypt\",\"X13\",\"SHA-256\",\"Ethash\",\"Scrypt\",\"X11\",\"CryptoNight-V7\",\"Ethash\",\"Equihash\",\"SHA-512\",\"SHA-256\",\"SHA-256\",\"Scrypt\",\"X15\",\"X11\",\"Scrypt\",\"Scrypt\",\"Scrypt\",\"Scrypt\",\"SHA-256\",\"Scrypt\",\"Scrypt\",\"Scrypt\",\"Quark\",\"Groestl\",\"Scrypt\",\"Scrypt\",\"Scrypt\",\"Scrypt\",\"Scrypt\",\"X11\",\"Scrypt\",\"Groestl\",\"SHA-256\",\"Scrypt\",\"Scrypt\",\"Scrypt\",\"Scrypt\",\"PoS\",\"Scrypt\",\"Scrypt\",\"NeoScrypt\",\"Scrypt\",\"Scrypt\",\"Scrypt\",\"Scrypt\",\"X11\",\"Scrypt\",\"X11\",\"SHA-256\",\"Scrypt\",\"Scrypt\",\"Scrypt\",\"SHA3\",\"Scrypt\",\"HybridScryptHash256\",\"Scrypt\",\"Scrypt\",\"SHA-256\",\"Scrypt\",\"X13\",\"Scrypt\",\"SHA-256\",\"Scrypt\",\"X13\",\"NeoScrypt\",\"Scrypt\",\"Scrypt\",\"Scrypt\",\"Scrypt\",\"Scrypt\",\"Scrypt\",\"X11\",\"X11\",\"SHA-256\",\"SHA-256\",\"PHI1612\",\"X11\",\"SHA-256\",\"SHA-256\",\"SHA-256\",\"X11\",\"Scrypt\",\"Scrypt\",\"Scrypt\",\"Scrypt\",\"Lyra2REv2\",\"Scrypt\",\"X11\",\"SHA-256\",\"X13\",\"Scrypt\",\"CryptoNight\",\"CryptoNight\",\"Shabal256\",\"Counterparty\",\"Scrypt\",\"SHA-256\",\"Groestl\",\"Scrypt\",\"Scrypt\",\"Scrypt\",\"X13\",\"Scrypt\",\"Scrypt\",\"Scrypt\",\"Scrypt\",\"X13\",\"Scrypt\",\"Stanford Folding\",\"X11\",\"QuBit\",\"Scrypt\",\"Scrypt\",\"Scrypt\",\"M7 POW\",\"Scrypt\",\"SHA-256\",\"Scrypt\",\"X11\",\"SHA3\",\"X11\",\"Lyra2RE\",\"SHA-256\",\"QUAIT\",\"X11\",\"X11\",\"Scrypt\",\"Scrypt\",\"Scrypt\",\"Ethash\",\"X13\",\"Blake2b\",\"SHA-256\",\"X15\",\"X11\",\"SHA-256\",\"BLAKE256\",\"Scrypt\",\"1GB AES Pattern Search\",\"SHA-256\",\"X11\",\"Scrypt\",\"SHA-256\",\"SHA-256\",\"NIST5\",\"Scrypt\",\"Scrypt\",\"X11\",\"Dagger\",\"Scrypt\",\"X11GOST\",\"X11\",\"Scrypt\",\"SHA-256\",\"Scrypt\",\"PoS\",\"Scrypt\",\"X11\",\"X11\",\"SHA-256\",\"SHA-256\",\"NIST5\",\"X11\",\"Scrypt\",\"POS 3.0\",\"Scrypt\",\"Scrypt\",\"Scrypt\",\"X13\",\"X11\",\"X11\",\"Equihash\",\"X11\",\"Scrypt\",\"CryptoNight\",\"SHA-256\",\"SHA-256\",\"X11\",\"Scrypt\",\"Scrypt\",\"Scrypt\",\"Scrypt\",\"SHA-256\",\"Scrypt\",\"Scrypt\",\"SHA-256D\",\"PoS\",\"Scrypt\",\"X11\",\"Lyra2Z\",\"PoS\",\"X13\",\"X14\",\"PoS\",\"SHA-256D\",\"Ethash\",\"Equihash\",\"DPoS\",\"X11\",\"Scrypt\",\"X11\",\"X13\",\"X11\",\"PoS\",\"Scrypt\",\"Scrypt\",\"X11\",\"PoS\",\"X11\",\"SHA-256\",\"Scrypt\",\"X11\",\"Scrypt\",\"Scrypt\",\"X11\",\"CryptoNight\",\"Scrypt\",\"Scrypt\",\"Scrypt\",\"Scrypt\",\"Quark\",\"QuBit\",\"Scrypt\",\"CryptoNight\",\"Lyra2RE\",\"Scrypt\",\"SHA-256\",\"X11\",\"Scrypt\",\"X11\",\"Scrypt\",\"CryptoNight-V7\",\"Scrypt\",\"Scrypt\",\"Scrypt\",\"X13\",\"X11\",\"Equihash\",\"Scrypt\",\"Scrypt\",\"Lyra2RE\",\"Scrypt\",\"Dagger-Hashimoto\",\"X11\",\"Blake2S\",\"X11\",\"Scrypt\",\"PoS\",\"X11\",\"NIST5\",\"PoS\",\"X11\",\"Scrypt\",\"Scrypt\",\"Scrypt\",\"SHA-256\",\"X11\",\"Scrypt\",\"Scrypt\",\"SHA-256\",\"PoS\",\"Scrypt\",\"X15\",\"SHA-256\",\"Scrypt\",\"POS 3.0\",\"CryptoNight-V7\",\"536\",\"Argon2d\",\"Blake2b\",\"Cloverhash\",\"CryptoNight\",\"NIST5\",\"X11\",\"NIST5\",\"Skein\",\"Scrypt\",\"X13\",\"Scrypt\",\"X11\",\"X11\",\"Scrypt\",\"CryptoNight\",\"X13\",\"Time Travel\",\"Scrypt\",\"Keccak\",\"SkunkHash v2 Raptor\",\"X11\",\"Skein\",\"SHA-256\",\"X11\",\"Scrypt\",\"VeChainThor Authority\",\"Scrypt\",\"PoS\",\"Scrypt\",\"Scrypt\",\"Scrypt\",\"Scrypt\",\"Scrypt\",\"Scrypt\",\"Scrypt\",\"CryptoNight\",\"SHA-512\",\"Ouroboros\",\"X11\",\"Equihash\",\"NeoScrypt\",\"X11\",\"Scrypt\",\"NeoScrypt\",\"Lyra2REv2\",\"Equihash\",\"Scrypt\",\"SHA-256\",\"NIST5\",\"PHI1612\",\"Dagger\",\"Scrypt\",\"Quark\",\"Scrypt\",\"POS 2.0\",\"Scrypt\",\"SHA-256\",\"X11\",\"NeoScrypt\",\"Ethash\",\"NeoScrypt\",\"X11\",\"DPoS\",\"NIST5\",\"X13\",\"Scrypt\",\"CryptoNight\",\"CryptoNight\",\"Ethash\",\"NIST5\",\"Quark\",\"X11\",\"CryptoNight-V7\",\"Scrypt\",\"Scrypt\",\"Scrypt\",\"X11\",\"BLAKE256\",\"X11\",\"NeoScrypt\",\"Quark\",\"NeoScrypt\",\"Scrypt\",\"Scrypt\",\"Scrypt\",\"X11\",\"X11\",\"SHA-256\",\"C11\",\"POS 3.0\",\"Ethash\",\"Scrypt\",\"CryptoNight\",\"SkunkHash\",\"Scrypt\",\"CryptoNight\",\"Scrypt\",\"Dagger\",\"Lyra2REv2\",\"X13\",\"Proof-of-BibleHash\",\"SHA-256 + Hive\",\"Scrypt\",\"Scrypt\",\"X11\",\"C11\",\"Proof-of-Authority\",\"X11\",\"XEVAN\",\"Scrypt\",\"VBFT\",\"Ethash\",\"CryptoNight\",\"Scrypt\",\"IMesh\",\"NIST5\",\"Scrypt\",\"Scrypt\",\"Equihash\",\"Scrypt\",\"Lyra2Z\",\"Green Protocol\",\"PoS\",\"Scrypt\",\"Semux BFT consensus\",\"X11\",\"Quark\",\"PoS\",\"CryptoNight\",\"X16R\",\"Scrypt\",\"NIST5\",\"Lyra2RE\",\"XEVAN\",\"Tribus\",\"Scrypt\",\"Lyra2Z\",\"CryptoNight\",\"CryptoNight Heavy\",\"CryptoNight\",\"Scrypt\",\"Scrypt\",\"Jump Consistent Hash\",\"SHA-256D\",\"CryptoNight\",\"Scrypt\",\"X15\",\"Scrypt\",\"Quark\",\"SHA-256\",\"DPoS\",\"X16R\",\"HMQ1725\",\"X11\",\"X16R\",\"Quark\",\"Quark\",\"Scrypt\",\"Lyra2REv2\",\"Quark\",\"Scrypt\",\"Scrypt\",\"CryptoNight-V7\",\"Cryptonight-GPU\",\"XEVAN\",\"CryptoNight Heavy\",\"X11\",\"X11\",\"Scrypt\",\"PoS\",\"SHA-256\",\"Keccak\",\"X11\",\"X11\",\"Scrypt\",\"SHA-512\",\"X16R\",\"ECC 256K1\",\"Equihash\",\"XEVAN\",\"Lyra2Z\",\"SHA-256\",\"XEVAN\",\"X11\",\"CryptoNight\",\"Quark\",\"Blake\",\"Blake\",\"Equihash\",\"Exosis\",\"Scrypt\",\"Scrypt\",\"Equihash\",\"Quark\",\"Equihash\",\"Quark\",\"Scrypt\",\"QuBit\",\"X11\",\"Scrypt\",\"XEVAN\",\"SHA-256D\",\"X11\",\"SHA-256\",\"X13\",\"SHA-256\",\"X11\",\"DPoS\",\"Scrypt\",\"Scrypt\",\"X11\",\"NeoScrypt\",\"Scrypt\",\"Blake\",\"Scrypt\",\"SHA-256\",\"Scrypt\",\"X11\",\"Scrypt\",\"Scrypt\",\"SHA-256\",\"X11\",\"SHA-256\",\"Scrypt\",\"Scrypt\",\"Scrypt\",\"Groestl\",\"X11\",\"Scrypt\",\"PoS\",\"Scrypt\",\"Scrypt\",\"X11\",\"SHA-256\",\"DPoS\",\"Scrypt\",\"Scrypt\",\"NeoScrypt\",\"SHA3-256\",\"X13\",\"Equihash+Scrypt\",\"DPoS\",\"Ethash\",\"DPoS\",\"SHA-256\",\"Leased POS\",\"PoS\",\"TRC10\",\"PoS\",\"SHA-256\",\"Scrypt\",\"CryptoNight\",\"Equihash\",\"Scrypt\"],\"Class\":{\"__ndarray__\":\"AgAAAAIAAAACAAAAAAAAAAAAAAAAAAAAAgAAAAAAAAAAAAAAAAAAAAIAAAACAAAAAgAAAAAAAAACAAAAAAAAAAAAAAACAAAAAgAAAAAAAAAAAAAAAAAAAAAAAAACAAAAAAAAAAAAAAAAAAAAAgAAAAAAAAACAAAAAAAAAAAAAAACAAAAAgAAAAAAAAAAAAAAAAAAAAAAAAAAAAAAAgAAAAIAAAAAAAAAAAAAAAAAAAAAAAAAAAAAAAIAAAACAAAAAAAAAAIAAAAAAAAAAAAAAAAAAAAAAAAAAgAAAAAAAAAAAAAAAgAAAAAAAAACAAAAAgAAAAIAAAAAAAAAAAAAAAAAAAACAAAAAgAAAAIAAAACAAAAAgAAAAAAAAAAAAAAAAAAAAIAAAACAAAAAAAAAAAAAAACAAAAAgAAAAAAAAAAAAAAAAAAAAAAAAACAAAAAgAAAAAAAAACAAAAAAAAAAAAAAACAAAAAAAAAAIAAAACAAAAAAAAAAAAAAACAAAAAgAAAAAAAAACAAAAAgAAAAAAAAACAAAAAAAAAAIAAAAAAAAAAgAAAAAAAAACAAAAAgAAAAAAAAAAAAAAAgAAAAAAAAAAAAAAAgAAAAAAAAAAAAAAAAAAAAAAAAAAAAAAAgAAAAIAAAAAAAAAAAAAAAAAAAACAAAAAAAAAAIAAAAAAAAAAAAAAAIAAAAAAAAAAgAAAAAAAAACAAAAAgAAAAAAAAAAAAAAAgAAAAAAAAAAAAAAAgAAAAIAAAAAAAAAAgAAAAAAAAACAAAAAgAAAAIAAAAAAAAAAAAAAAAAAAAAAAAAAgAAAAIAAAACAAAAAgAAAAIAAAAAAAAAAAAAAAIAAAACAAAAAgAAAAIAAAACAAAAAAAAAAIAAAACAAAAAgAAAAIAAAACAAAAAAAAAAIAAAAAAAAAAgAAAAIAAAAAAAAAAgAAAAAAAAACAAAAAgAAAAIAAAAAAAAAAgAAAAAAAAACAAAAAAAAAAIAAAACAAAAAgAAAAIAAAAAAAAAAgAAAAIAAAACAAAAAgAAAAIAAAAAAAAAAAAAAAIAAAACAAAAAAAAAAAAAAACAAAAAgAAAAIAAAACAAAAAgAAAAAAAAACAAAAAgAAAAIAAAACAAAAAgAAAAIAAAACAAAAAgAAAAAAAAACAAAAAgAAAAIAAAACAAAAAgAAAAIAAAAAAAAAAAAAAAAAAAACAAAAAgAAAAIAAAACAAAAAAAAAAIAAAAAAAAAAgAAAAIAAAAAAAAAAgAAAAAAAAAAAAAAAgAAAAAAAAAAAAAAAgAAAAAAAAACAAAAAgAAAAIAAAAAAAAAAgAAAAIAAAAAAAAAAgAAAAIAAAACAAAAAgAAAAIAAAACAAAAAgAAAAAAAAACAAAAAAAAAAIAAAACAAAAAgAAAAIAAAAAAAAAAgAAAAAAAAACAAAAAAAAAAAAAAAAAAAAAAAAAAIAAAAAAAAAAgAAAAIAAAAAAAAAAgAAAAAAAAAAAAAAAAAAAAIAAAAAAAAAAgAAAAAAAAAAAAAAAAAAAAIAAAAAAAAAAgAAAAAAAAACAAAAAgAAAAIAAAAAAAAAAgAAAAAAAAAAAAAAAAAAAAAAAAAAAAAAAgAAAAIAAAAAAAAAAgAAAAIAAAACAAAAAAAAAAIAAAAAAAAAAgAAAAAAAAACAAAAAAAAAAIAAAACAAAAAgAAAAIAAAAAAAAAAgAAAAIAAAAAAAAAAgAAAAIAAAACAAAAAAAAAAAAAAAAAAAAAAAAAAIAAAACAAAAAgAAAAIAAAACAAAAAAAAAAAAAAAAAAAAAgAAAAIAAAAAAAAAAAAAAAIAAAACAAAAAAAAAAIAAAAAAAAAAAAAAAAAAAACAAAAAAAAAAAAAAACAAAAAgAAAAIAAAAAAAAAAAAAAAAAAAACAAAAAgAAAAIAAAAAAAAAAAAAAAIAAAAAAAAAAAAAAAAAAAAAAAAAAgAAAAEAAAACAAAAAAAAAAAAAAAAAAAAAgAAAAEAAAACAAAAAgAAAAIAAAACAAAAAAAAAAAAAAAAAAAAAAAAAAIAAAACAAAAAgAAAAAAAAACAAAAAAAAAAIAAAACAAAAAgAAAAIAAAAAAAAAAgAAAAIAAAAAAAAAAgAAAAIAAAAAAAAAAAAAAAIAAAAAAAAAAgAAAAAAAAAAAAAAAAAAAAAAAAACAAAAAgAAAAAAAAACAAAAAAAAAAIAAAACAAAAAgAAAAIAAAACAAAAAgAAAAAAAAAAAAAAAAAAAAIAAAACAAAAAgAAAAIAAAACAAAAAgAAAAAAAAACAAAAAAAAAAAAAAAAAAAAAAAAAAIAAAACAAAAAgAAAAIAAAAAAAAAAgAAAAIAAAAAAAAAAgAAAAIAAAAAAAAAAQAAAAAAAAACAAAAAAAAAAAAAAACAAAAAgAAAAAAAAACAAAAAAAAAAAAAAACAAAAAAAAAAAAAAACAAAAAAAAAAIAAAAAAAAAAgAAAAIAAAAAAAAAAgAAAAIAAAACAAAAAgAAAAIAAAAAAAAAAAAAAAAAAAACAAAAAgAAAAIAAAAAAAAAAgAAAAAAAAACAAAAAAAAAAIAAAACAAAAAgAAAAIAAAAAAAAAAgAAAAIAAAACAAAAAAAAAAIAAAAAAAAAAgAAAAAAAAACAAAAAgAAAAIAAAAAAAAAAAAAAAIAAAACAAAAAgAAAAIAAAACAAAAAgAAAAEAAAACAAAAAAAAAAIAAAAAAAAAAgAAAAIAAAABAAAAAgAAAAMAAAACAAAAAgAAAAIAAAAAAAAAAAAAAAIAAAA=\",\"dtype\":\"int32\",\"shape\":[524]},\"CoinName\":[\"42 Coin\",\"404Coin\",\"EliteCoin\",\"Bitcoin\",\"Ethereum\",\"Litecoin\",\"Dash\",\"Monero\",\"Ethereum Classic\",\"ZCash\",\"Bitshares\",\"BitcoinDark\",\"PayCoin\",\"ProsperCoin\",\"KoboCoin\",\"Spreadcoin\",\"Argentum\",\"Aurora Coin\",\"BlueCoin\",\"MoonCoin\",\"ZetaCoin\",\"SexCoin\",\"Quatloo\",\"EnergyCoin\",\"QuarkCoin\",\"Riecoin\",\"Digitalcoin \",\"BitBar\",\"Catcoin\",\"CryptoBullion\",\"CannaCoin\",\"CryptCoin\",\"CasinoCoin\",\"Diamond\",\"DevCoin\",\"EarthCoin\",\"E-Gulden\",\"Einsteinium\",\"Emerald\",\"Exclusive Coin\",\"FlutterCoin\",\"Franko\",\"FeatherCoin\",\"GrandCoin\",\"GlobalCoin\",\"GoldCoin\",\"HoboNickels\",\"HyperStake\",\"Infinite Coin\",\"IOCoin\",\"IXcoin\",\"KrugerCoin\",\"LuckyCoin\",\"Litebar \",\"MaxCoin\",\"MegaCoin\",\"MediterraneanCoin\",\"MintCoin\",\"MinCoin\",\"MazaCoin\",\"Nautilus Coin\",\"NavCoin\",\"NobleCoin\",\"Namecoin\",\"NyanCoin\",\"OpalCoin\",\"Orbitcoin\",\"PotCoin\",\"PhoenixCoin\",\"Reddcoin\",\"RonPaulCoin\",\"StableCoin\",\"SmartCoin\",\"SuperCoin\",\"SyncCoin\",\"SysCoin\",\"TigerCoin\",\"TittieCoin\",\"TorCoin\",\"TerraCoin\",\"UnbreakableCoin\",\"Unobtanium\",\"UroCoin\",\"UnitaryStatus Dollar\",\"UltraCoin\",\"ViaCoin\",\"VeriCoin\",\"Vertcoin\",\"WorldCoin\",\"X11 Coin\",\"JouleCoin\",\"StealthCoin\",\"ZCC Coin\",\"ByteCoin\",\"DigitalNote \",\"BurstCoin\",\"StorjCoin\",\"MonaCoin\",\"Neutron\",\"FairCoin\",\"Gulden\",\"RubyCoin\",\"PesetaCoin\",\"Kore\",\"Wild Beast Coin\",\"Dnotes\",\"Flo\",\"8BIT Coin\",\"Sativa Coin\",\"ArtByte\",\"Folding Coin\",\"Ucoin\",\"CypherPunkCoin\",\"OmniCron\",\"Vtorrent\",\"GreenCoin\",\"Cryptonite\",\"MasterCoin\",\"SoonCoin\",\"1Credit\",\"IslaCoin\",\"Nexus\",\"MarsCoin \",\"Crypto\",\"Anarchists Prime\",\"Droidz\",\"BowsCoin\",\"Squall Coin\",\"Song Coin\",\"BitZeny\",\"Diggits\",\"Expanse\",\"Paycon\",\"Siacoin\",\"Emercoin\",\"EverGreenCoin\",\"MindCoin\",\"I0coin\",\"Decred\",\"Revolution VR\",\"HOdlcoin\",\"EDRCoin\",\"Hitcoin\",\"Gamecredits\",\"DubaiCoin\",\"CarpeDiemCoin\",\"PWR Coin\",\"BillaryCoin\",\"GPU Coin\",\"Adzcoin\",\"SoilCoin\",\"YoCoin\",\"SibCoin\",\"EuropeCoin\",\"ZeitCoin\",\"SwingCoin\",\"SafeExchangeCoin\",\"Nebuchadnezzar\",\"Francs\",\"BolivarCoin\",\"Ratecoin\",\"Revenu\",\"Clockcoin\",\"VIP Tokens\",\"BitSend\",\"Omni\",\"Let it Ride\",\"PutinCoin\",\"iBankCoin\",\"Frankywillcoin\",\"MudraCoin\",\"PizzaCoin\",\"Lutetium Coin\",\"Komodo\",\"GoldBlocks\",\"CarterCoin\",\"Karbo\",\"BitTokens\",\"ZayedCoin\",\"MustangCoin\",\"ZoneCoin\",\"RootCoin\",\"DopeCoin\",\"BitCurrency\",\"DollarCoin\",\"Swiscoin\",\"Shilling\",\"BuzzCoin\",\"Opair\",\"PesoBit\",\"Halloween Coin\",\"ZCoin\",\"CoffeeCoin\",\"RoyalCoin\",\"GanjaCoin V2\",\"TeamUP\",\"LanaCoin\",\"Elementrem\",\"ZClassic\",\"ARK\",\"InsaneCoin\",\"KiloCoin\",\"ArtexCoin\",\"EmberCoin\",\"XenixCoin\",\"FreeCoin\",\"PLNCoin\",\"AquariusCoin\",\"Kurrent\",\"Creatio\",\"Eternity\",\"Eurocoin\",\"BitcoinFast\",\"Stakenet\",\"BitConnect Coin\",\"MoneyCoin\",\"Enigma\",\"Cannabis Industry Coin\",\"Russiacoin\",\"PandaCoin\",\"GameUnits\",\"GAKHcoin\",\"Allsafe\",\"LiteCreed\",\"OsmiumCoin\",\"Bikercoins\",\"HexxCoin\",\"Klingon Empire Darsek\",\"Internet of People\",\"KushCoin\",\"Printerium\",\"PacCoin\",\"Impeach\",\"Citadel\",\"Zilbercoin\",\"FirstCoin\",\"BeaverCoin\",\"FindCoin\",\"VaultCoin\",\"Zero\",\"OpenChat\",\"Canada eCoin\",\"Zoin\",\"RenosCoin\",\"DubaiCoin\",\"VirtacoinPlus\",\"TajCoin\",\"Impact\",\"EB3coin\",\"Atmos\",\"HappyCoin\",\"Coinonat\",\"MacronCoin\",\"Condensate\",\"Independent Money System\",\"ArgusCoin\",\"LomoCoin\",\"ProCurrency\",\"GoldReserve\",\"BenjiRolls\",\"GrowthCoin\",\"ILCoin\",\"Phreak\",\"Degas Coin\",\"HTML5 Coin\",\"Ultimate Secure Cash\",\"EquiTrader\",\"QTUM\",\"Quantum Resistant Ledger\",\"Espers\",\"Dynamic\",\"Nano\",\"ChanCoin\",\"Dinastycoin\",\"Denarius\",\"DigitalPrice\",\"Virta Unique Coin\",\"Bitcoin Planet\",\"Unify\",\"BritCoin\",\"SocialCoin\",\"ArcticCoin\",\"DAS\",\"Linda\",\"LeviarCoin\",\"DeepOnion\",\"Bitcore\",\"gCn Coin\",\"SmartCash\",\"Signatum\",\"Onix\",\"Cream\",\"Bitcoin Cash\",\"Monoeci\",\"Draftcoin\",\"Vechain\",\"Sojourn Coin\",\"Stakecoin\",\"NewYorkCoin\",\"FrazCoin\",\"Kronecoin\",\"AdCoin\",\"Linx\",\"CoinonatX\",\"Ethereum Dark\",\"Sumokoin\",\"Obsidian\",\"Cardano\",\"Regalcoin\",\"BitcoinZ\",\"TrezarCoin\",\"Elements\",\"TerraNovaCoin\",\"VIVO Coin\",\"Rupee\",\"Bitcoin Gold\",\"WomenCoin\",\"Theresa May Coin\",\"NamoCoin\",\"LUXCoin\",\"Pirl\",\"Xios\",\"Bitcloud 2.0\",\"eBoost\",\"KekCoin\",\"BlackholeCoin\",\"Infinity Economics\",\"Pura\",\"Innova\",\"Ellaism\",\"GoByte\",\"Magnet\",\"Lamden Tau\",\"Electra\",\"Bitcoin Diamond\",\"Cash & Back Coin\",\"UltraNote\",\"BitCoal\",\"DaxxCoin\",\"Bulwark\",\"Kalkulus\",\"AC3\",\"Lethean\",\"GermanCoin\",\"LiteCoin Ultra\",\"PopularCoin\",\"PhantomX\",\"Photon\",\"Sucre\",\"SparksPay\",\"Digiwage\",\"GunCoin\",\"IrishCoin\",\"Trollcoin\",\"Litecoin Plus\",\"Monkey Project\",\"Pioneer Coin\",\"UnitedBitcoin\",\"Interzone\",\"TokenPay\",\"1717 Masonic Commemorative Token\",\"My Big Coin\",\"TurtleCoin\",\"MUNcoin\",\"Unified Society USDEX\",\"Niobio Cash\",\"ShareChain\",\"Travelflex\",\"KREDS\",\"Tokyo Coin\",\"BiblePay\",\"LitecoinCash\",\"BitFlip\",\"LottoCoin\",\"Crypto Improvement Fund\",\"Stipend\",\"Poa Network\",\"Pushi\",\"Ellerium\",\"Velox\",\"Ontology\",\"Callisto Network\",\"BitTube\",\"Poseidon\",\"Aidos Kuneen\",\"Bitspace\",\"Briacoin\",\"Ignition\",\"Bitrolium\",\"MedicCoin\",\"Alpenschillling\",\"Bitcoin Green\",\"Deviant Coin\",\"Abjcoin\",\"Semux\",\"FuturoCoin\",\"Carebit\",\"Zealium\",\"Monero Classic\",\"Proton\",\"iDealCash\",\"Jumpcoin\",\"Infinex\",\"Bitcoin Incognito\",\"KEYCO\",\"HollyWoodCoin\",\"GINcoin\",\"PlatinCoin\",\"Loki\",\"Newton Coin\",\"Swisscoin\",\"Xt3ch\",\"MassGrid\",\"TheVig\",\"PluraCoin\",\"EmaratCoin\",\"Dekado\",\"Lynx\",\"Poseidon Quark\",\"BitcoinWSpectrum\",\"Muse\",\"Motion\",\"PlusOneCoin\",\"Axe\",\"Trivechain\",\"Dystem\",\"Giant\",\"Peony Coin\",\"Absolute Coin\",\"Vitae\",\"HexCoin\",\"TPCash\",\"Webchain\",\"Ryo\",\"Urals Coin\",\"Qwertycoin\",\"ARENON\",\"EUNO\",\"MMOCoin\",\"Ketan\",\"Project Pai\",\"XDNA\",\"PAXEX\",\"Azart\",\"ThunderStake\",\"Kcash\",\"Xchange\",\"Acute Angle Cloud\",\"CrypticCoin\",\"Bettex coin\",\"Actinium\",\"Bitcoin SV\",\"BitMoney\",\"Junson Ming Chan Coin\",\"FREDEnergy\",\"HerbCoin\",\"Universal Molecule\",\"Lithium\",\"PirateCash\",\"Exosis\",\"Block-Logic\",\"Oduwa\",\"Beam\",\"Galilel\",\"Bithereum\",\"Crypto Sports\",\"Credit\",\"SLICE\",\"Dash Platinum\",\"Nasdacoin\",\"Beetle Coin\",\"Titan Coin\",\"Award\",\"BLAST\",\"Bitcoin Rhodium\",\"GlobalToken\",\"Insane Coin\",\"ALAX\",\"LiteDoge\",\"SolarCoin\",\"TruckCoin\",\"UFO Coin\",\"OrangeCoin\",\"BlakeCoin\",\"BitstarCoin\",\"NeosCoin\",\"HyperCoin\",\"PinkCoin\",\"Crypto Escudo\",\"AudioCoin\",\"IncaKoin\",\"Piggy Coin\",\"Crown Coin\",\"Genstake\",\"SmileyCoin\",\"XiaoMiCoin\",\"Groestlcoin\",\"CapriCoin\",\" ClubCoin\",\"Radium\",\"Bata\",\"Pakcoin\",\"Creditbit \",\"OKCash\",\"Lisk\",\"HiCoin\",\"WhiteCoin\",\"FriendshipCoin\",\"Fiii\",\"Triangles Coin\",\"Vollar\",\"EOS\",\"Reality Clash\",\"Oxycoin\",\"TigerCash\",\"Waves\",\"Particl\",\"BitTorrent\",\"Nxt\",\"ZEPHYR\",\"Gapcoin\",\"Beldex\",\"Horizen\",\"BitcoinPlus\"],\"ProofType\":[\"PoW/PoS\",\"PoW/PoS\",\"PoW/PoS\",\"PoW\",\"PoW\",\"PoW\",\"PoW/PoS\",\"PoW\",\"PoW\",\"PoW\",\"PoS\",\"PoW/PoS\",\"PoS\",\"PoW\",\"PoW/PoS\",\"PoW\",\"PoW\",\"PoW/PoS\",\"PoW/PoS\",\"PoW\",\"PoW\",\"PoW\",\"PoW\",\"PoW/PoS\",\"PoW\",\"PoW\",\"PoW\",\"PoW/PoS\",\"PoW\",\"PoW/PoS\",\"PoW\",\"PoW\",\"PoC\",\"PoW/PoS\",\"PoW\",\"PoW\",\"PoW\",\"PoW\",\"PoW\",\"PoS\",\"PoS/PoW/PoT\",\"PoW\",\"PoW\",\"PoW\",\"PoW\",\"PoW\",\"PoW/PoS\",\"PoS\",\"PoW\",\"PoW/PoS\",\"PoW\",\"PoW\",\"PoW\",\"PoW\",\"PoW/PoS\",\"PoW\",\"PoW\",\"PoS\",\"PoW\",\"PoW/PoS\",\"PoS\",\"PoW/PoS\",\"PoW\",\"PoW\",\"PoW\",\"PoW/PoS\",\"PoW/PoS\",\"PoW/PoS\",\"PoW/PoS\",\"PoW/PoS\",\"PoW\",\"PoW\",\"PoW\",\"PoS\",\"PoW/PoS\",\"PoW\",\"PoW\",\"PoS\",\"PoW/PoS\",\"PoW\",\"PoW\",\"PoW\",\"PoW\",\"PoW/PoS\",\"PoW/PoS\",\"PoW\",\"PoST\",\"PoW\",\"PoW\",\"PoW/PoS\",\"PoW\",\"PoW/PoS\",\"PoW/PoS\",\"PoW\",\"PoW\",\"PoC\",\"PoS\",\"PoW\",\"PoW/PoS\",\"PoW/PoS\",\"PoW\",\"PoS\",\"PoW\",\"PoW/PoS\",\"PoW\",\"PoS\",\"PoW\",\"PoW/PoS\",\"PoW/PoS\",\"PoW\",\"PoW\",\"PoS\",\"PoW\",\"PoW\",\"PoW/PoS\",\"PoW\",\"PoW\",\"PoW\",\"PoW\",\"PoW\",\"PoW/PoS\",\"PoW/nPoS\",\"PoW\",\"PoW\",\"PoW\",\"PoW/PoS\",\"PoW\",\"PoS/PoW\",\"PoW\",\"PoW\",\"PoS\",\"PoW\",\"PoW/PoS\",\"PoW\",\"PoW/PoS\",\"PoW/PoS\",\"PoW\",\"PoW\",\"PoW/PoS\",\"PoW\",\"PoW\",\"PoW/PoS\",\"PoW/PoS\",\"PoW\",\"PoW/PoS\",\"PoW\",\"PoW/PoS\",\"PoW/PoS\",\"PoS\",\"PoW\",\"PoW\",\"PoW\",\"PoW\",\"PoW/PoS\",\"PoS\",\"PoW/PoS\",\"PoC\",\"PoS\",\"PoW\",\"PoW\",\"PoW/PoS\",\"PoW/PoS\",\"PoW/PoS\",\"PoW/PoS\",\"PoW/PoS\",\"PoW\",\"PoS\",\"PoW/PoS\",\"PoW/PoS\",\"PoW/PoS\",\"PoS\",\"PoW\",\"PoS\",\"dPoW/PoW\",\"PoW/PoS\",\"PoW/PoS\",\"PoW\",\"PoW/PoS\",\"PoW\",\"PoW/PoS\",\"PoW/PoS\",\"PoW/PoS\",\"PoW\",\"PoS\",\"PoW\",\"PoW/PoW\",\"PoW\",\"PoW/PoS\",\"PoS\",\"PoW/PoS\",\"PoW/PoS\",\"PoW\",\"PoS\",\"PoS\",\"PoW/PoS\",\"PoS\",\"PoW/PoS\",\"PoW\",\"PoW\",\"DPoS\",\"PoW/PoS\",\"PoW\",\"PoW\",\"PoW/PoS\",\"PoW/PoS\",\"PoS\",\"PoW/PoS\",\"PoW/PoS\",\"PoW\",\"PoS\",\"PoW/PoS\",\"PoW/PoS\",\"PoW/PoS\",\"TPoS\",\"PoW/PoS\",\"PoW/PoS\",\"PoW/PoS\",\"PoW\",\"PoW/PoS\",\"PoS\",\"PoW/PoS\",\"PoW/PoS\",\"PoS\",\"PoW/PoS\",\"PoW\",\"PoW\",\"PoW\",\"PoW/PoS\",\"PoW/PoS\",\"PoW/PoS\",\"PoW/PoS\",\"PoW\",\"PoW/PoS\",\"PoW\",\"PoS\",\"PoW/PoS \",\"PoW\",\"PoS\",\"PoW\",\"PoW\",\"PoW/PoS\",\"PoW\",\"PoW\",\"PoS\",\"PoW\",\"PoW/PoS\",\"PoW/PoS\",\"PoW/PoS\",\"PoW\",\"PoS\",\"PoW/PoS\",\"PoW\",\"PoS\",\"PoW/PoS\",\"PoW/PoS\",\"PoW/PoS\",\"PoW/PoS\",\"PoS\",\"PoW/PoS\",\"PoW\",\"PoS\",\"PoW\",\"PoS\",\"PoW/PoS\",\"PoW/PoS\",\"PoS\",\"PoW\",\"PoS\",\"PoW\",\"PoW/PoS\",\"PoW\",\"PoW\",\"PoW\",\"PoW\",\"PoW/PoS\",\"PoW\",\"PoW/PoS\",\"PoW/PoS\",\"PoW\",\"PoW/PoS\",\"PoW\",\"PoW\",\"PoW\",\"PoW/PoS\",\"PoW\",\"PoW/PoS\",\"PoW\",\"PoW\",\"PoW\",\"PoS\",\"PoW\",\"PoW/PoS\",\"PoW\",\"PoW/PoS\",\"PoS\",\"Proof of Authority\",\"PoW\",\"PoS\",\"PoW\",\"PoW\",\"PoW\",\"PoW\",\"PoW\",\"PoW/PoS\",\"PoW/PoS\",\"PoW\",\"PoS\",\"PoS\",\"PoW/PoS\",\"PoW\",\"PoW/PoS\",\"PoW\",\"PoW/PoS\",\"PoW\",\"PoS\",\"PoW\",\"PoW/PoS\",\"PoW/PoS\",\"PoW/PoS\",\"PoW/PoS\",\"PoW\",\"PoW/PoS\",\"PoW/PoS\",\"PoW\",\"PoS\",\"PoW/PoS\",\"PoS\",\"PoW\",\"PoW\",\"PoW\",\"PoW\",\"PoW/PoS\",\"DPoS\",\"PoW/PoS\",\"PoW/PoS\",\"PoW/PoS\",\"PoW\",\"PoW\",\"PoW\",\"PoS\",\"PoS\",\"PoW\",\"PoW\",\"PoW/PoS\",\"PoW/PoS\",\"PoW\",\"PoW/PoS\",\"PoW\",\"PoW\",\"PoW\",\"PoS\",\"PoW\",\"PoW\",\"PoW/PoS\",\"PoW/PoS\",\"PoS\",\"PoW\",\"PoW\",\"PoW\",\"PoS\",\"PoS\",\"PoW and PoS\",\"PoW\",\"PoW\",\"PoW/PoS\",\"PoW\",\"PoW\",\"PoW\",\"PoW\",\"PoS\",\"POBh\",\"PoW + Hive\",\"PoW\",\"PoW\",\"PoW\",\"PoW/PoS\",\"PoA\",\"PoW/PoS\",\"PoW/PoS\",\"PoS\",\"PoS\",\"PoW\",\"PoW\",\"PoW\",\"PoW\",\"PoW/PoS\",\"PoW/PoS\",\"PoW/PoS\",\"PoW\",\"PoS\",\"PoW\",\"PoS\",\"PoS\",\"PoW/PoS\",\"DPoS\",\"PoW\",\"PoW/PoS\",\"PoS\",\"PoW\",\"PoS\",\"PoW/PoS\",\"PoW\",\"PoW\",\"PoS/PoW\",\"PoW\",\"PoS\",\"PoW\",\"PoW\",\"PoW\",\"PoW\",\"PoW/PoS\",\"PoS\",\"PoW\",\"PoW/PoS\",\"PoW\",\"PoW/PoS\",\"PoS\",\"HPoW\",\"PoS\",\"PoS\",\"PoS\",\"PoW\",\"PoW\",\"PoW\",\"PoW/PoS\",\"PoS\",\"PoW/PoS\",\"PoS\",\"PoW/PoS\",\"PoS\",\"PoW\",\"PoW/PoS\",\"PoW\",\"PoW\",\"PoW\",\"PoW\",\"PoS\",\"PoW/PoS\",\"PoS\",\"PoS\",\"PoW\",\"PoW/PoS\",\"PoS\",\"PoW\",\"PoW/PoS\",\"Zero-Knowledge Proof\",\"PoW\",\"DPOS\",\"PoW\",\"PoS\",\"PoW\",\"PoW\",\"Pos\",\"PoS\",\"PoW\",\"PoW/PoS\",\"PoW\",\"PoW\",\"PoS\",\"PoW\",\"PoW\",\"PoW/PoS\",\"PoW\",\"PoW/PoS\",\"PoW\",\"PoS\",\"PoW/PoS\",\"PoW\",\"PoS\",\"PoW/PoS\",\"PoW/PoS\",\"PoW/PoS\",\"PoW/PoS\",\"PoW\",\"PoW\",\"PoW\",\"PoW/PoS\",\"DPoS\",\"PoW/PoS\",\"PoW\",\"PoW/PoS\",\"PoW\",\"PoW/PoS\",\"PoW\",\"PoW/PoS\",\"PoS\",\"PoW/PoS\",\"PoW/PoS\",\"PoW\",\"PoW/PoS\",\"PoW/PoS\",\"PoW/PoS\",\"PoW\",\"PoW/PoS\",\"PoW\",\"PoW/PoS\",\"PoW\",\"PoW/PoS\",\"PoW/PoS\",\"PoS\",\"PoW\",\"PoW\",\"Proof of Trust\",\"PoW/PoS\",\"DPoS\",\"PoS\",\"PoW/PoS\",\"PoW/PoS\",\"DPoC\",\"PoW/PoS\",\"PoW\",\"DPoS\",\"PoW\",\"DPoS\",\"PoS\",\"LPoS\",\"PoS\",\"DPoS\",\"PoS/LPoS\",\"DPoS\",\"PoW/PoS\",\"PoW\",\"PoW\",\"PoS\"],\"TotalCoinSupply\":{\"__ndarray__\":\"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\",\"dtype\":\"float64\",\"shape\":[524]},\"TotalCoinsMined\":{\"__ndarray__\":\"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\",\"dtype\":\"float64\",\"shape\":[524]}},\"selected\":{\"id\":\"2093\"},\"selection_policy\":{\"id\":\"2127\"}},\"id\":\"2092\",\"type\":\"ColumnDataSource\"},{\"attributes\":{},\"id\":\"2093\",\"type\":\"Selection\"},{\"attributes\":{\"format\":\"0,0.0[00000]\"},\"id\":\"2109\",\"type\":\"NumberFormatter\"},{\"attributes\":{\"source\":{\"id\":\"2092\"}},\"id\":\"2125\",\"type\":\"CDSView\"},{\"attributes\":{\"columns\":[{\"id\":\"2096\"},{\"id\":\"2101\"},{\"id\":\"2106\"},{\"id\":\"2111\"},{\"id\":\"2116\"},{\"id\":\"2121\"}],\"height\":300,\"reorderable\":false,\"source\":{\"id\":\"2092\"},\"view\":{\"id\":\"2125\"},\"width\":700},\"id\":\"2124\",\"type\":\"DataTable\"}],\"root_ids\":[\"2090\"]},\"title\":\"Bokeh Application\",\"version\":\"2.0.2\"}};\n",
       "  var render_items = [{\"docid\":\"5e46bf84-ae9d-4d8c-9a83-0af9af491515\",\"root_ids\":[\"2090\"],\"roots\":{\"2090\":\"1c3d22a5-2eb6-4f0f-be63-0fdf27141bd8\"}}];\n",
       "  root.Bokeh.embed.embed_items_notebook(docs_json, render_items);\n",
       "  }\n",
       "if (root.Bokeh !== undefined) {\n",
       "    embed_document(root);\n",
       "  } else {\n",
       "    var attempts = 0;\n",
       "    var timer = setInterval(function(root) {\n",
       "      if (root.Bokeh !== undefined) {\n",
       "        clearInterval(timer);\n",
       "        embed_document(root);\n",
       "      } else if (document.readyState == \"complete\") {\n",
       "        attempts++;\n",
       "        if (attempts > 100) {\n",
       "          clearInterval(timer);\n",
       "          console.log(\"Bokeh: ERROR: Unable to run BokehJS code because BokehJS library is missing\");\n",
       "        }\n",
       "      }\n",
       "    }, 10, root)\n",
       "  }\n",
       "})(window);</script>"
      ],
      "text/plain": [
       ":Table   [CoinName,Algorithm,ProofType,TotalCoinSupply,TotalCoinsMined,Class]"
      ]
     },
     "execution_count": 162,
     "metadata": {
      "application/vnd.holoviews_exec.v0+json": {
       "id": "2090"
      }
     },
     "output_type": "execute_result"
    }
   ],
   "source": [
    "# 2:\n",
    "\n",
    "clustered_df = clustered_df.astype({\"TotalCoinsMined\": \"float64\", \"TotalCoinSupply\": \"float64\"})\n",
    "\n",
    "col_names = ['CoinName', 'Algorithm', 'ProofType', 'TotalCoinSupply', 'TotalCoinsMined', 'Class']\n",
    "\n",
    "clustered_df.hvplot.table(columns=col_names, sortable=True, selectable=True)"
   ]
  },
  {
   "cell_type": "code",
   "execution_count": 163,
   "metadata": {},
   "outputs": [
    {
     "data": {},
     "metadata": {},
     "output_type": "display_data"
    },
    {
     "data": {
      "application/vnd.holoviews_exec.v0+json": "",
      "text/html": [
       "<div id='2140'>\n",
       "\n",
       "\n",
       "\n",
       "\n",
       "\n",
       "  <div class=\"bk-root\" id=\"775e8846-caa2-46eb-9f0e-4f70f76eb294\" data-root-id=\"2140\"></div>\n",
       "</div>\n",
       "<script type=\"application/javascript\">(function(root) {\n",
       "  function embed_document(root) {\n",
       "  var docs_json = {\"e2252f59-7431-4be4-a4c1-dca766c56547\":{\"roots\":{\"references\":[{\"attributes\":{\"axis_label\":\"TotalCoinSupply\",\"bounds\":\"auto\",\"formatter\":{\"id\":\"2185\"},\"major_label_orientation\":\"horizontal\",\"ticker\":{\"id\":\"2159\"}},\"id\":\"2158\",\"type\":\"LinearAxis\"},{\"attributes\":{\"source\":{\"id\":\"2175\"}},\"id\":\"2182\",\"type\":\"CDSView\"},{\"attributes\":{},\"id\":\"2155\",\"type\":\"BasicTicker\"},{\"attributes\":{\"fill_color\":{\"value\":\"#1f77b3\"},\"line_color\":{\"value\":\"#1f77b3\"},\"size\":{\"units\":\"screen\",\"value\":5.477225575051661},\"x\":{\"field\":\"TotalCoinsMined\"},\"y\":{\"field\":\"TotalCoinSupply\"}},\"id\":\"2178\",\"type\":\"Scatter\"},{\"attributes\":{\"axis\":{\"id\":\"2154\"},\"grid_line_color\":null,\"ticker\":null},\"id\":\"2157\",\"type\":\"Grid\"},{\"attributes\":{\"end\":1100000000000.0,\"reset_end\":1100000000000.0,\"reset_start\":-100000000000.0,\"start\":-100000000000.0,\"tags\":[[[\"TotalCoinSupply\",\"TotalCoinSupply\",null]]]},\"id\":\"2143\",\"type\":\"Range1d\"},{\"attributes\":{\"children\":[{\"id\":\"2141\"},{\"id\":\"2145\"},{\"id\":\"2195\"}],\"margin\":[0,0,0,0],\"name\":\"Row03973\",\"tags\":[\"embedded\"]},\"id\":\"2140\",\"type\":\"Row\"},{\"attributes\":{\"bottom_units\":\"screen\",\"fill_alpha\":0.5,\"fill_color\":\"lightgrey\",\"left_units\":\"screen\",\"level\":\"overlay\",\"line_alpha\":1.0,\"line_color\":\"black\",\"line_dash\":[4,4],\"line_width\":2,\"render_mode\":\"css\",\"right_units\":\"screen\",\"top_units\":\"screen\"},\"id\":\"2167\",\"type\":\"BoxAnnotation\"},{\"attributes\":{\"data\":{\"CoinName\":[\"42 Coin\",\"404Coin\",\"EliteCoin\",\"Bitcoin\",\"Ethereum\",\"Litecoin\",\"Dash\",\"Monero\",\"Ethereum Classic\",\"ZCash\",\"Bitshares\",\"BitcoinDark\",\"PayCoin\",\"ProsperCoin\",\"KoboCoin\",\"Spreadcoin\",\"Argentum\",\"Aurora Coin\",\"BlueCoin\",\"MoonCoin\",\"ZetaCoin\",\"SexCoin\",\"Quatloo\",\"EnergyCoin\",\"QuarkCoin\",\"Riecoin\",\"Digitalcoin \",\"BitBar\",\"Catcoin\",\"CryptoBullion\",\"CannaCoin\",\"CryptCoin\",\"CasinoCoin\",\"Diamond\",\"DevCoin\",\"EarthCoin\",\"E-Gulden\",\"Einsteinium\",\"Emerald\",\"Exclusive Coin\",\"FlutterCoin\",\"Franko\",\"FeatherCoin\",\"GrandCoin\",\"GlobalCoin\",\"GoldCoin\",\"HoboNickels\",\"HyperStake\",\"Infinite Coin\",\"IOCoin\",\"IXcoin\",\"KrugerCoin\",\"LuckyCoin\",\"Litebar \",\"MaxCoin\",\"MegaCoin\",\"MediterraneanCoin\",\"MintCoin\",\"MinCoin\",\"MazaCoin\",\"Nautilus Coin\",\"NavCoin\",\"NobleCoin\",\"Namecoin\",\"NyanCoin\",\"OpalCoin\",\"Orbitcoin\",\"PotCoin\",\"PhoenixCoin\",\"Reddcoin\",\"RonPaulCoin\",\"StableCoin\",\"SmartCoin\",\"SuperCoin\",\"SyncCoin\",\"SysCoin\",\"TigerCoin\",\"TittieCoin\",\"TorCoin\",\"TerraCoin\",\"UnbreakableCoin\",\"Unobtanium\",\"UroCoin\",\"UnitaryStatus Dollar\",\"UltraCoin\",\"ViaCoin\",\"VeriCoin\",\"Vertcoin\",\"WorldCoin\",\"X11 Coin\",\"JouleCoin\",\"StealthCoin\",\"ZCC Coin\",\"ByteCoin\",\"DigitalNote \",\"BurstCoin\",\"StorjCoin\",\"MonaCoin\",\"Neutron\",\"FairCoin\",\"Gulden\",\"RubyCoin\",\"PesetaCoin\",\"Kore\",\"Wild Beast Coin\",\"Dnotes\",\"Flo\",\"8BIT Coin\",\"Sativa Coin\",\"ArtByte\",\"Folding Coin\",\"Ucoin\",\"CypherPunkCoin\",\"OmniCron\",\"Vtorrent\",\"GreenCoin\",\"Cryptonite\",\"MasterCoin\",\"SoonCoin\",\"1Credit\",\"IslaCoin\",\"Nexus\",\"MarsCoin \",\"Crypto\",\"Anarchists Prime\",\"Droidz\",\"BowsCoin\",\"Squall Coin\",\"Song Coin\",\"BitZeny\",\"Diggits\",\"Expanse\",\"Paycon\",\"Siacoin\",\"Emercoin\",\"EverGreenCoin\",\"MindCoin\",\"I0coin\",\"Decred\",\"Revolution VR\",\"HOdlcoin\",\"EDRCoin\",\"Hitcoin\",\"Gamecredits\",\"DubaiCoin\",\"CarpeDiemCoin\",\"PWR Coin\",\"BillaryCoin\",\"GPU Coin\",\"Adzcoin\",\"SoilCoin\",\"YoCoin\",\"SibCoin\",\"EuropeCoin\",\"ZeitCoin\",\"SwingCoin\",\"SafeExchangeCoin\",\"Nebuchadnezzar\",\"Francs\",\"BolivarCoin\",\"Ratecoin\",\"Revenu\",\"Clockcoin\",\"VIP Tokens\",\"BitSend\",\"Omni\",\"Let it Ride\",\"PutinCoin\",\"iBankCoin\",\"Frankywillcoin\",\"MudraCoin\",\"PizzaCoin\",\"Lutetium Coin\",\"Komodo\",\"GoldBlocks\",\"CarterCoin\",\"Karbo\",\"BitTokens\",\"ZayedCoin\",\"MustangCoin\",\"ZoneCoin\",\"RootCoin\",\"DopeCoin\",\"BitCurrency\",\"DollarCoin\",\"Swiscoin\",\"Shilling\",\"BuzzCoin\",\"Opair\",\"PesoBit\",\"Halloween Coin\",\"ZCoin\",\"CoffeeCoin\",\"RoyalCoin\",\"GanjaCoin V2\",\"TeamUP\",\"LanaCoin\",\"Elementrem\",\"ZClassic\",\"ARK\",\"InsaneCoin\",\"KiloCoin\",\"ArtexCoin\",\"EmberCoin\",\"XenixCoin\",\"FreeCoin\",\"PLNCoin\",\"AquariusCoin\",\"Kurrent\",\"Creatio\",\"Eternity\",\"Eurocoin\",\"BitcoinFast\",\"Stakenet\",\"BitConnect Coin\",\"MoneyCoin\",\"Enigma\",\"Cannabis Industry Coin\",\"Russiacoin\",\"PandaCoin\",\"GameUnits\",\"GAKHcoin\",\"Allsafe\",\"LiteCreed\",\"OsmiumCoin\",\"Bikercoins\",\"HexxCoin\",\"Klingon Empire Darsek\",\"Internet of People\",\"KushCoin\",\"Printerium\",\"PacCoin\",\"Impeach\",\"Citadel\",\"Zilbercoin\",\"FirstCoin\",\"BeaverCoin\",\"FindCoin\",\"VaultCoin\",\"Zero\",\"OpenChat\",\"Canada eCoin\",\"Zoin\",\"RenosCoin\",\"DubaiCoin\",\"VirtacoinPlus\",\"TajCoin\",\"Impact\",\"EB3coin\",\"Atmos\",\"HappyCoin\",\"Coinonat\",\"MacronCoin\",\"Condensate\",\"Independent Money System\",\"ArgusCoin\",\"LomoCoin\",\"ProCurrency\",\"GoldReserve\",\"BenjiRolls\",\"GrowthCoin\",\"ILCoin\",\"Phreak\",\"Degas Coin\",\"HTML5 Coin\",\"Ultimate Secure Cash\",\"EquiTrader\",\"QTUM\",\"Quantum Resistant Ledger\",\"Espers\",\"Dynamic\",\"Nano\",\"ChanCoin\",\"Dinastycoin\",\"Denarius\",\"DigitalPrice\",\"Virta Unique Coin\",\"Bitcoin Planet\",\"Unify\",\"BritCoin\",\"SocialCoin\",\"ArcticCoin\",\"DAS\",\"Linda\",\"LeviarCoin\",\"DeepOnion\",\"Bitcore\",\"gCn Coin\",\"SmartCash\",\"Signatum\",\"Onix\",\"Cream\",\"Bitcoin Cash\",\"Monoeci\",\"Draftcoin\",\"Vechain\",\"Sojourn Coin\",\"Stakecoin\",\"NewYorkCoin\",\"FrazCoin\",\"Kronecoin\",\"AdCoin\",\"Linx\",\"CoinonatX\",\"Ethereum Dark\",\"Sumokoin\",\"Obsidian\",\"Cardano\",\"Regalcoin\",\"BitcoinZ\",\"TrezarCoin\",\"Elements\",\"TerraNovaCoin\",\"VIVO Coin\",\"Rupee\",\"Bitcoin Gold\",\"WomenCoin\",\"Theresa May Coin\",\"NamoCoin\",\"LUXCoin\",\"Pirl\",\"Xios\",\"Bitcloud 2.0\",\"eBoost\",\"KekCoin\",\"BlackholeCoin\",\"Infinity Economics\",\"Pura\",\"Innova\",\"Ellaism\",\"GoByte\",\"Magnet\",\"Lamden Tau\",\"Electra\",\"Bitcoin Diamond\",\"Cash & Back Coin\",\"UltraNote\",\"BitCoal\",\"DaxxCoin\",\"Bulwark\",\"Kalkulus\",\"AC3\",\"Lethean\",\"GermanCoin\",\"LiteCoin Ultra\",\"PopularCoin\",\"PhantomX\",\"Photon\",\"Sucre\",\"SparksPay\",\"Digiwage\",\"GunCoin\",\"IrishCoin\",\"Trollcoin\",\"Litecoin Plus\",\"Monkey Project\",\"Pioneer Coin\",\"UnitedBitcoin\",\"Interzone\",\"TokenPay\",\"1717 Masonic Commemorative Token\",\"My Big Coin\",\"TurtleCoin\",\"MUNcoin\",\"Unified Society USDEX\",\"Niobio Cash\",\"ShareChain\",\"Travelflex\",\"KREDS\",\"Tokyo Coin\",\"BiblePay\",\"LitecoinCash\",\"BitFlip\",\"LottoCoin\",\"Crypto Improvement Fund\",\"Stipend\",\"Poa Network\",\"Pushi\",\"Ellerium\",\"Velox\",\"Ontology\",\"Callisto Network\",\"BitTube\",\"Poseidon\",\"Aidos Kuneen\",\"Bitspace\",\"Briacoin\",\"Ignition\",\"Bitrolium\",\"MedicCoin\",\"Alpenschillling\",\"Bitcoin Green\",\"Deviant Coin\",\"Abjcoin\",\"Semux\",\"FuturoCoin\",\"Carebit\",\"Zealium\",\"Monero Classic\",\"Proton\",\"iDealCash\",\"Jumpcoin\",\"Infinex\",\"Bitcoin Incognito\",\"KEYCO\",\"HollyWoodCoin\",\"GINcoin\",\"PlatinCoin\",\"Loki\",\"Newton Coin\",\"Swisscoin\",\"Xt3ch\",\"MassGrid\",\"TheVig\",\"PluraCoin\",\"EmaratCoin\",\"Dekado\",\"Lynx\",\"Poseidon Quark\",\"BitcoinWSpectrum\",\"Muse\",\"Motion\",\"PlusOneCoin\",\"Axe\",\"Trivechain\",\"Dystem\",\"Giant\",\"Peony Coin\",\"Absolute Coin\",\"Vitae\",\"HexCoin\",\"TPCash\",\"Webchain\",\"Ryo\",\"Urals Coin\",\"Qwertycoin\",\"ARENON\",\"EUNO\",\"MMOCoin\",\"Ketan\",\"Project Pai\",\"XDNA\",\"PAXEX\",\"Azart\",\"ThunderStake\",\"Kcash\",\"Xchange\",\"Acute Angle Cloud\",\"CrypticCoin\",\"Bettex coin\",\"Actinium\",\"Bitcoin SV\",\"BitMoney\",\"Junson Ming Chan Coin\",\"FREDEnergy\",\"HerbCoin\",\"Universal Molecule\",\"Lithium\",\"PirateCash\",\"Exosis\",\"Block-Logic\",\"Oduwa\",\"Beam\",\"Galilel\",\"Bithereum\",\"Crypto Sports\",\"Credit\",\"SLICE\",\"Dash Platinum\",\"Nasdacoin\",\"Beetle Coin\",\"Titan Coin\",\"Award\",\"BLAST\",\"Bitcoin Rhodium\",\"GlobalToken\",\"Insane Coin\",\"ALAX\",\"LiteDoge\",\"SolarCoin\",\"TruckCoin\",\"UFO Coin\",\"OrangeCoin\",\"BlakeCoin\",\"BitstarCoin\",\"NeosCoin\",\"HyperCoin\",\"PinkCoin\",\"Crypto Escudo\",\"AudioCoin\",\"IncaKoin\",\"Piggy Coin\",\"Crown Coin\",\"Genstake\",\"SmileyCoin\",\"XiaoMiCoin\",\"Groestlcoin\",\"CapriCoin\",\" ClubCoin\",\"Radium\",\"Bata\",\"Pakcoin\",\"Creditbit \",\"OKCash\",\"Lisk\",\"HiCoin\",\"WhiteCoin\",\"FriendshipCoin\",\"Fiii\",\"Triangles Coin\",\"Vollar\",\"EOS\",\"Reality Clash\",\"Oxycoin\",\"TigerCash\",\"Waves\",\"Particl\",\"BitTorrent\",\"Nxt\",\"ZEPHYR\",\"Gapcoin\",\"Beldex\",\"Horizen\",\"BitcoinPlus\"],\"TotalCoinSupply\":{\"__ndarray__\":\"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\",\"dtype\":\"float64\",\"shape\":[524]},\"TotalCoinsMined\":{\"__ndarray__\":\"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\",\"dtype\":\"float64\",\"shape\":[524]}},\"selected\":{\"id\":\"2176\"},\"selection_policy\":{\"id\":\"2194\"}},\"id\":\"2175\",\"type\":\"ColumnDataSource\"},{\"attributes\":{},\"id\":\"2159\",\"type\":\"BasicTicker\"},{\"attributes\":{\"axis\":{\"id\":\"2158\"},\"dimension\":1,\"grid_line_color\":null,\"ticker\":null},\"id\":\"2161\",\"type\":\"Grid\"},{\"attributes\":{\"callback\":null,\"renderers\":[{\"id\":\"2181\"}],\"tags\":[\"hv_created\"],\"tooltips\":[[\"TotalCoinsMined\",\"@{TotalCoinsMined}\"],[\"TotalCoinSupply\",\"@{TotalCoinSupply}\"],[\"CoinName\",\"@{CoinName}\"]]},\"id\":\"2144\",\"type\":\"HoverTool\"},{\"attributes\":{},\"id\":\"2176\",\"type\":\"Selection\"},{\"attributes\":{\"margin\":[5,5,5,5],\"name\":\"HSpacer03977\",\"sizing_mode\":\"stretch_width\"},\"id\":\"2141\",\"type\":\"Spacer\"},{\"attributes\":{\"active_drag\":\"auto\",\"active_inspect\":\"auto\",\"active_multi\":null,\"active_scroll\":\"auto\",\"active_tap\":\"auto\",\"tools\":[{\"id\":\"2144\"},{\"id\":\"2162\"},{\"id\":\"2163\"},{\"id\":\"2164\"},{\"id\":\"2165\"},{\"id\":\"2166\"}]},\"id\":\"2168\",\"type\":\"Toolbar\"},{\"attributes\":{},\"id\":\"2183\",\"type\":\"BasicTickFormatter\"},{\"attributes\":{},\"id\":\"2185\",\"type\":\"BasicTickFormatter\"},{\"attributes\":{\"fill_alpha\":{\"value\":0.2},\"fill_color\":{\"value\":\"#1f77b3\"},\"line_alpha\":{\"value\":0.2},\"line_color\":{\"value\":\"#1f77b3\"},\"size\":{\"units\":\"screen\",\"value\":5.477225575051661},\"x\":{\"field\":\"TotalCoinsMined\"},\"y\":{\"field\":\"TotalCoinSupply\"}},\"id\":\"2180\",\"type\":\"Scatter\"},{\"attributes\":{\"fill_alpha\":{\"value\":0.1},\"fill_color\":{\"value\":\"#1f77b3\"},\"line_alpha\":{\"value\":0.1},\"line_color\":{\"value\":\"#1f77b3\"},\"size\":{\"units\":\"screen\",\"value\":5.477225575051661},\"x\":{\"field\":\"TotalCoinsMined\"},\"y\":{\"field\":\"TotalCoinSupply\"}},\"id\":\"2179\",\"type\":\"Scatter\"},{\"attributes\":{},\"id\":\"2194\",\"type\":\"UnionRenderers\"},{\"attributes\":{\"align\":null,\"below\":[{\"id\":\"2154\"}],\"center\":[{\"id\":\"2157\"},{\"id\":\"2161\"}],\"left\":[{\"id\":\"2158\"}],\"margin\":null,\"min_border_bottom\":10,\"min_border_left\":10,\"min_border_right\":10,\"min_border_top\":10,\"plot_height\":300,\"plot_width\":700,\"renderers\":[{\"id\":\"2181\"}],\"sizing_mode\":\"fixed\",\"title\":{\"id\":\"2146\"},\"toolbar\":{\"id\":\"2168\"},\"x_range\":{\"id\":\"2142\"},\"x_scale\":{\"id\":\"2150\"},\"y_range\":{\"id\":\"2143\"},\"y_scale\":{\"id\":\"2152\"}},\"id\":\"2145\",\"subtype\":\"Figure\",\"type\":\"Plot\"},{\"attributes\":{},\"id\":\"2162\",\"type\":\"SaveTool\"},{\"attributes\":{},\"id\":\"2150\",\"type\":\"LinearScale\"},{\"attributes\":{\"data_source\":{\"id\":\"2175\"},\"glyph\":{\"id\":\"2178\"},\"hover_glyph\":null,\"muted_glyph\":{\"id\":\"2180\"},\"nonselection_glyph\":{\"id\":\"2179\"},\"selection_glyph\":null,\"view\":{\"id\":\"2182\"}},\"id\":\"2181\",\"type\":\"GlyphRenderer\"},{\"attributes\":{\"margin\":[5,5,5,5],\"name\":\"HSpacer03978\",\"sizing_mode\":\"stretch_width\"},\"id\":\"2195\",\"type\":\"Spacer\"},{\"attributes\":{},\"id\":\"2164\",\"type\":\"WheelZoomTool\"},{\"attributes\":{\"end\":1032670428767.6898,\"reset_end\":1032670428767.6898,\"reset_start\":-48599692876.008446,\"start\":-48599692876.008446,\"tags\":[[[\"TotalCoinsMined\",\"TotalCoinsMined\",null]]]},\"id\":\"2142\",\"type\":\"Range1d\"},{\"attributes\":{\"text\":\"\",\"text_color\":{\"value\":\"black\"},\"text_font_size\":{\"value\":\"12pt\"}},\"id\":\"2146\",\"type\":\"Title\"},{\"attributes\":{},\"id\":\"2163\",\"type\":\"PanTool\"},{\"attributes\":{\"overlay\":{\"id\":\"2167\"}},\"id\":\"2165\",\"type\":\"BoxZoomTool\"},{\"attributes\":{},\"id\":\"2152\",\"type\":\"LinearScale\"},{\"attributes\":{\"axis_label\":\"TotalCoinsMined\",\"bounds\":\"auto\",\"formatter\":{\"id\":\"2183\"},\"major_label_orientation\":\"horizontal\",\"ticker\":{\"id\":\"2155\"}},\"id\":\"2154\",\"type\":\"LinearAxis\"},{\"attributes\":{},\"id\":\"2166\",\"type\":\"ResetTool\"}],\"root_ids\":[\"2140\"]},\"title\":\"Bokeh Application\",\"version\":\"2.0.2\"}};\n",
       "  var render_items = [{\"docid\":\"e2252f59-7431-4be4-a4c1-dca766c56547\",\"root_ids\":[\"2140\"],\"roots\":{\"2140\":\"775e8846-caa2-46eb-9f0e-4f70f76eb294\"}}];\n",
       "  root.Bokeh.embed.embed_items_notebook(docs_json, render_items);\n",
       "  }\n",
       "if (root.Bokeh !== undefined) {\n",
       "    embed_document(root);\n",
       "  } else {\n",
       "    var attempts = 0;\n",
       "    var timer = setInterval(function(root) {\n",
       "      if (root.Bokeh !== undefined) {\n",
       "        clearInterval(timer);\n",
       "        embed_document(root);\n",
       "      } else if (document.readyState == \"complete\") {\n",
       "        attempts++;\n",
       "        if (attempts > 100) {\n",
       "          clearInterval(timer);\n",
       "          console.log(\"Bokeh: ERROR: Unable to run BokehJS code because BokehJS library is missing\");\n",
       "        }\n",
       "      }\n",
       "    }, 10, root)\n",
       "  }\n",
       "})(window);</script>"
      ],
      "text/plain": [
       ":Scatter   [TotalCoinsMined]   (TotalCoinSupply,CoinName)"
      ]
     },
     "execution_count": 163,
     "metadata": {
      "application/vnd.holoviews_exec.v0+json": {
       "id": "2140"
      }
     },
     "output_type": "execute_result"
    }
   ],
   "source": [
    "# 3:\n",
    "\n",
    "\n",
    "\n",
    "clustered_df.hvplot.scatter(x=\"TotalCoinsMined\", y=\"TotalCoinSupply\", hover_cols=[\"CoinName\"])\n",
    "\n",
    "# I should retroactively change the datatype of coins mined and supply to floats.\n",
    "\n",
    "#clustered_df['TotalCoinSupply']"
   ]
  }
 ],
 "metadata": {
  "kernelspec": {
   "display_name": "PythonData",
   "language": "python",
   "name": "pythondata"
  },
  "language_info": {
   "codemirror_mode": {
    "name": "ipython",
    "version": 3
   },
   "file_extension": ".py",
   "mimetype": "text/x-python",
   "name": "python",
   "nbconvert_exporter": "python",
   "pygments_lexer": "ipython3",
   "version": "3.7.6"
  }
 },
 "nbformat": 4,
 "nbformat_minor": 4
}
